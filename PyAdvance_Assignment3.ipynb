{
 "cells": [
  {
   "cell_type": "markdown",
   "id": "b022b0d1",
   "metadata": {},
   "source": [
    "1. What is the concept of an abstract superclass?\n",
    "\n",
    "A class which contains one or more abstract methods is called an abstract class. An abstract method is a method that has a declaration but does not have an implementation. While we are designing large functional units we use an abstract class. When we want to provide a common interface for different implementations of a component, we use an abstract class. "
   ]
  },
  {
   "cell_type": "markdown",
   "id": "89de6bc6",
   "metadata": {},
   "source": [
    "2. What happens when a class statement's top level contains a basic assignment statement?\n",
    "\n",
    "When class statement's top level contains a basic assignment statement, it is considered as class attribute. Change in the value of class attribute will affect all the instances of the class."
   ]
  },
  {
   "cell_type": "markdown",
   "id": "8f01c1fe",
   "metadata": {},
   "source": [
    "3. Why does a class need to manually call a superclass's __init__ method?\n",
    "\n",
    "By doing so,we can access those methods of the super-class (parent class) which have been overridden in a sub-class (child class) that inherits from it.\n",
    "\n"
   ]
  },
  {
   "cell_type": "markdown",
   "id": "5f9b0a23",
   "metadata": {},
   "source": [
    "4. How can you augment, instead of completely replacing, an inherited method?\n",
    "\n",
    "The way to do that in Python is by calling to the original version directly, with augmented arguments.\n",
    "\n"
   ]
  },
  {
   "cell_type": "markdown",
   "id": "05a9c77a",
   "metadata": {},
   "source": [
    "5. How is the local scope of a class different from that of a function?\n",
    "\n",
    "Local scope occurs when we create a variable inside a function.\n",
    "By doing that the visibility and accessibility of the variable is only allowed within that function.Any variable created inside that is a local variable."
   ]
  }
 ],
 "metadata": {
  "kernelspec": {
   "display_name": "Python 3",
   "language": "python",
   "name": "python3"
  },
  "language_info": {
   "codemirror_mode": {
    "name": "ipython",
    "version": 3
   },
   "file_extension": ".py",
   "mimetype": "text/x-python",
   "name": "python",
   "nbconvert_exporter": "python",
   "pygments_lexer": "ipython3",
   "version": "3.8.8"
  }
 },
 "nbformat": 4,
 "nbformat_minor": 5
}
