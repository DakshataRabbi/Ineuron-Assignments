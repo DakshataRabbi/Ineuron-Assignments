{
 "cells": [
  {
   "cell_type": "markdown",
   "id": "5b42de12",
   "metadata": {},
   "source": [
    "Question1. Write a function that stutters a word as if someone is struggling to read it. The first two letters are repeated twice with an ellipsis ... and space after each, and then the word is pronounced with a question mark ?.\n",
    "Examples\n",
    "stutter(\"incredible\") ➞ \"in... in... incredible?\"\n",
    "\n",
    "stutter(\"enthusiastic\") ➞ \"en... en... enthusiastic?\"\n",
    "\n",
    "stutter(\"outstanding\") ➞ \"ou... ou... outstanding?\"\n",
    "\n",
    "Hint :- Assume all input is in lower case and at least two characters long.\n"
   ]
  },
  {
   "cell_type": "code",
   "execution_count": 15,
   "id": "ad86c538",
   "metadata": {},
   "outputs": [
    {
     "name": "stdout",
     "output_type": "stream",
     "text": [
      "Enter a string : \"enthusiastic\"\n",
      "\"en... \"en... \"enthusiastic\"?\"\n"
     ]
    }
   ],
   "source": [
    "def stutters():\n",
    "    a = input(\"Enter a string : \")\n",
    "    print(a[0] + a[1] + a[2] +\"... \"+a[0] + a[1]+a[2] +\"... \"+ a +'?\"')\n",
    "    \n",
    "stutters()\n",
    "    "
   ]
  },
  {
   "cell_type": "markdown",
   "id": "1843bfc9",
   "metadata": {},
   "source": [
    "\n",
    "Question 2.Create a function that takes an angle in radians and returns the corresponding angle in degrees rounded to one decimal place.\n",
    "Examples\n",
    "radians_to_degrees(1) ➞ 57.3\n",
    "\n",
    "radians_to_degrees(20) ➞ 1145.9\n",
    "\n",
    "radians_to_degrees(50) ➞ 2864.8"
   ]
  },
  {
   "cell_type": "code",
   "execution_count": 10,
   "id": "b9500dc3",
   "metadata": {},
   "outputs": [
    {
     "name": "stdout",
     "output_type": "stream",
     "text": [
      "Enter a number : 1\n"
     ]
    },
    {
     "data": {
      "text/plain": [
       "57.3"
      ]
     },
     "execution_count": 10,
     "metadata": {},
     "output_type": "execute_result"
    }
   ],
   "source": [
    "def radians_to_degrees():\n",
    "    n = float(input(\"Enter a number : \"))\n",
    "    return (round(n * (180 / 3.14159) ,1))\n",
    "\n",
    "radians_to_degrees()\n",
    "    "
   ]
  },
  {
   "cell_type": "code",
   "execution_count": null,
   "id": "e80a6f8f",
   "metadata": {},
   "outputs": [],
   "source": [
    "Question 3. In this challenge, establish if a given integer num is a Curzon number. If 1 plus 2 elevated to num is exactly \n",
    "divisible by 1 plus 2 multiplied by num, \n",
    "then num is a Curzon number.\n",
    "Given a non-negative integer num, implement a function that returns True if num is a Curzon number, or False otherwise.\n",
    "Examples\n",
    "is_curzon(5) ➞ True\n",
    "# 2 ** 5 + 1 = 33\n",
    "# 2 * 5 + 1 = 11\n",
    "# 33 is a multiple of 11\n",
    "\n",
    "is_curzon(10) ➞ False\n",
    "# 2 ** 10 + 1 = 1025\n",
    "# 2 * 10 + 1 = 21\n",
    "# 1025 is not a multiple of 21\n",
    "\n",
    "is_curzon(14) ➞ True\n",
    "# 2 ** 14 + 1 = 16385\n",
    "# 2 * 14 + 1 = 29\n",
    "# 16385 is a multiple of 29\n",
    "\n"
   ]
  },
  {
   "cell_type": "code",
   "execution_count": 5,
   "id": "11b39910",
   "metadata": {},
   "outputs": [
    {
     "name": "stdout",
     "output_type": "stream",
     "text": [
      "Enter a number : 14\n",
      "True\n"
     ]
    }
   ],
   "source": [
    "def is_curzon():\n",
    "    a = int(input(\"Enter a number : \"))\n",
    "    c = 2**a + 1\n",
    "    d = 2*a + 1\n",
    "    if (c%d == 0 ):\n",
    "        print(\"True\")\n",
    "    else:\n",
    "        print(\"False\")\n",
    "\n",
    "        \n",
    "is_curzon()"
   ]
  },
  {
   "cell_type": "code",
   "execution_count": null,
   "id": "5aefaeb0",
   "metadata": {},
   "outputs": [],
   "source": [
    "Question 4.Given the side length x find the area of a hexagon.\n",
    "Examples\n",
    "area_of_hexagon(1) ➞ 2.6\n",
    "\n",
    "area_of_hexagon(2) ➞ 10.4\n",
    "\n",
    "area_of_hexagon(3) ➞ 23.4\n",
    "\n"
   ]
  },
  {
   "cell_type": "code",
   "execution_count": 9,
   "id": "1928c2e2",
   "metadata": {},
   "outputs": [
    {
     "name": "stdout",
     "output_type": "stream",
     "text": [
      "Enter a number : 3\n"
     ]
    },
    {
     "data": {
      "text/plain": [
       "23.5"
      ]
     },
     "execution_count": 9,
     "metadata": {},
     "output_type": "execute_result"
    }
   ],
   "source": [
    "import math\n",
    "\n",
    "def hexa_area():\n",
    "    h = float(input(\"Enter a number : \"))\n",
    "    return (round(3 * math.sqrt(3) * h*h)/2)\n",
    "\n",
    "hexa_area()\n",
    "    "
   ]
  },
  {
   "cell_type": "code",
   "execution_count": null,
   "id": "cfd98239",
   "metadata": {},
   "outputs": [],
   "source": []
  }
 ],
 "metadata": {
  "kernelspec": {
   "display_name": "Python 3",
   "language": "python",
   "name": "python3"
  },
  "language_info": {
   "codemirror_mode": {
    "name": "ipython",
    "version": 3
   },
   "file_extension": ".py",
   "mimetype": "text/x-python",
   "name": "python",
   "nbconvert_exporter": "python",
   "pygments_lexer": "ipython3",
   "version": "3.8.8"
  }
 },
 "nbformat": 4,
 "nbformat_minor": 5
}
