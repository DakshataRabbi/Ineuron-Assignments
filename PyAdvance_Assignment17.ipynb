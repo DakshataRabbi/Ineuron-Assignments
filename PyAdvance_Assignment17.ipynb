{
 "cells": [
  {
   "cell_type": "markdown",
   "id": "b71f77f3",
   "metadata": {},
   "source": [
    "Q1. Explain the difference between greedy and non-greedy syntax with visual terms in as few words as possible. What is the bare minimum effort required to transform a greedy pattern into a non-greedy one? What characters or characters can you introduce or change?\n",
    "\n",
    "By default, quantifiers work in the greedy mode. It means the greedy quantifiers will match their preceding elements as much as possible to return to the biggest match possible.\n",
    "\n",
    "On the other hand, the non-greedy quantifiers will match as little as possible to return the smallest match possible. non-greedy quantifiers are the opposite of greedy ones.\n",
    "\n",
    "To turn greedy quantifiers into non-greedy quantifiers, you add an extra question mark (?) to the quantifiers."
   ]
  },
  {
   "cell_type": "markdown",
   "id": "1b8aecf0",
   "metadata": {},
   "source": [
    "Q2. When exactly does greedy versus non-greedy make a difference?  What if you're looking for a non-greedy match but the only one available is greedy?\n",
    "\n",
    "In the non-greedy version of the regex, Python matches the shortest possible string. In the greedy version, \n",
    "Python matches the longest possible string. If only non greedy match is available, we can use other filtering \n",
    "or pattern matching methods of regex and further identify the required pattern.\n",
    "\n"
   ]
  },
  {
   "cell_type": "markdown",
   "id": "dfb78cdb",
   "metadata": {},
   "source": [
    "Q3. In a simple match of a string, which looks only for one match and does not do any replacement, is the use of a nontagged group likely to make any practical difference?\n",
    "In this Case The Non Tagged Group will not make any diffrence\n"
   ]
  },
  {
   "cell_type": "code",
   "execution_count": 2,
   "id": "cba3d8b4",
   "metadata": {},
   "outputs": [
    {
     "name": "stdout",
     "output_type": "stream",
     "text": [
      "Phone number found -> 234\n",
      "Phone number found -> 234\n"
     ]
    }
   ],
   "source": [
    "import re\n",
    "phoneNumRegex = re.compile(r'\\d\\d\\d')\n",
    "num = phoneNumRegex.search('My number is 234-567-8901.')\n",
    "print(f'Phone number found -> {num.group()}') # Non Tagged group\n",
    "print(f'Phone number found -> {num.group(0)}') # Tagged Group\n"
   ]
  },
  {
   "cell_type": "markdown",
   "id": "97d455a0",
   "metadata": {},
   "source": [
    "Q4. Describe a scenario in which using a nontagged category would have a significant impact on the program's outcomes.\n",
    "\n",
    "Here in the below Code Snippet . decimal is not tagged or captured. It will useful in scenarios where the separator of value in a string is of no use and we need to capture only the values.\n"
   ]
  },
  {
   "cell_type": "code",
   "execution_count": 3,
   "id": "4e570c08",
   "metadata": {},
   "outputs": [
    {
     "data": {
      "text/plain": [
       "('135', '456')"
      ]
     },
     "execution_count": 3,
     "metadata": {},
     "output_type": "execute_result"
    }
   ],
   "source": [
    "import re\n",
    "text='135.456'\n",
    "pattern=r'(\\d+)(?:.)(\\d+)'\n",
    "regobj=re.compile(pattern)\n",
    "matobj=regobj.search(text)\n",
    "matobj.groups()\n",
    "('135', '456')"
   ]
  },
  {
   "cell_type": "markdown",
   "id": "562f67b8",
   "metadata": {},
   "source": [
    "#Q5. Unlike a normal regex pattern, a look-ahead condition does not consume the characters it examines. Describe a situation in which this could make a difference in the results of your programme.\n",
    "\n",
    "#While counting the number of multiple lines or mutiple sentence in a string the positive look ahead makes a difference, without which we wont get the correct count of lines or sentences in a string.\n",
    "\n",
    "\n",
    "import re\n",
    "\n",
    "example = re.search(r'geeks(?=[a-z])', \"geeksforgeeks\")\n",
    "\n",
    "print(\"Pattern:\", example.group())\n",
    "print(\"Pattern found from index:\",\n",
    "example.start(), \"to\",\n",
    "example.end())\n",
    "\n"
   ]
  },
  {
   "cell_type": "markdown",
   "id": "1fb1b829",
   "metadata": {},
   "source": [
    "Q6. In standard expressions, what is the difference between positive look-ahead and negative look-ahead?\n",
    "\n",
    "Positive lookahead:\n",
    "In this type the regex engine searches for a particular element which may be a character or characters or a group after the item matched. If that particular element is present then the regex declares the match as a match otherwise it simply rejects that match.\n",
    "\n",
    "\n",
    "Negative Lookahead:\n",
    "In this type of lookahead the regex engine searches for a particular element which may be a character or characters or a group after the item matched. If that particular element is not present then the regex declares the match as a match otherwise it simply rejects that match. "
   ]
  },
  {
   "cell_type": "markdown",
   "id": "68440f7f",
   "metadata": {},
   "source": [
    "Q7. What is the benefit of referring to groups by name rather than by number in a standard expression?\n",
    "\n",
    "Referring to groups by name rather than by number in a standard expression helps to keep the code clear and easy to understand.\n"
   ]
  },
  {
   "cell_type": "code",
   "execution_count": 5,
   "id": "898470a6",
   "metadata": {},
   "outputs": [
    {
     "data": {
      "text/plain": [
       "['The', 'the']"
      ]
     },
     "execution_count": 5,
     "metadata": {},
     "output_type": "execute_result"
    }
   ],
   "source": [
    "#Q8. Can you identify repeated items within a target string using named groups, as in \"The cow jumped over the moon\"?\n",
    "\n",
    "import re\n",
    "text = \"The cow jumped over the moon\"\n",
    "regobj=re.compile(r'(?P<w1>The)',re.I)\n",
    "regobj.findall(text)"
   ]
  },
  {
   "cell_type": "markdown",
   "id": "54e57607",
   "metadata": {},
   "source": [
    "Q9. When parsing a string, what is at least one thing that the Scanner interface does for you that the re.findall feature does not?\n",
    "re.findall() module is used to search for all occurrences that match a given pattern. In contrast, re.search() will only return the first occurrence that matches the specified pattern. re.findall() will iterate over all the lines of the file and will return all non-overlapping matches of pattern in a single step.\n"
   ]
  },
  {
   "cell_type": "markdown",
   "id": "a35d1b4c",
   "metadata": {},
   "source": [
    "Q10. Does a scanner object have to be named scanner?\n",
    "\n",
    "The scanner object need not to be named scanner. It may have any name"
   ]
  }
 ],
 "metadata": {
  "kernelspec": {
   "display_name": "Python 3",
   "language": "python",
   "name": "python3"
  },
  "language_info": {
   "codemirror_mode": {
    "name": "ipython",
    "version": 3
   },
   "file_extension": ".py",
   "mimetype": "text/x-python",
   "name": "python",
   "nbconvert_exporter": "python",
   "pygments_lexer": "ipython3",
   "version": "3.8.8"
  }
 },
 "nbformat": 4,
 "nbformat_minor": 5
}
