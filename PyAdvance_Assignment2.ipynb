{
 "cells": [
  {
   "cell_type": "markdown",
   "id": "55c873b9",
   "metadata": {},
   "source": [
    "Q1. What is the relationship between classes and modules?\n",
    "\n",
    "Module introduces the definition related to properties, events, variables and procedures of its members. Modules cannot be instantiated like classes.\n",
    "Class is considered to be blue print of an object, because it is able to describe all the necessary details associated with an object.\n",
    "\n"
   ]
  },
  {
   "cell_type": "code",
   "execution_count": 5,
   "id": "e54428ef",
   "metadata": {},
   "outputs": [
    {
     "name": "stdout",
     "output_type": "stream",
     "text": [
      "This is Dakshata an instance of a class Student\n"
     ]
    }
   ],
   "source": [
    "#Q2. How do you make instances and classes?\n",
    "\n",
    "class Student:\n",
    "    def __init__(self,name):\n",
    "        self.name = name\n",
    "        \n",
    "    def __str__(self):\n",
    "        return f\"This is {self.name} an instance of a class Student\"\n",
    "        \n",
    "test = Student(\"Dakshata\")\n",
    "print(test)\n",
    "        \n",
    "\n"
   ]
  },
  {
   "cell_type": "markdown",
   "id": "e2e56906",
   "metadata": {},
   "source": [
    "#Q3. Where and how should be class attributes created?\n",
    "\n",
    "Class Attributes can be created outside the __init__.\n",
    "The Test class has two attributes with the same name (x) one is the instance attribute and the other is a class attribute.\n",
    "\n",
    "When we access the x attribute via the instance of the Test class, it returns 20 which is the variable of the instance attribute.\n",
    "\n",
    "However, when we access the x attribute via the Test class, it returns 10 which is the value of the x class attribute\n",
    "\n",
    "\n"
   ]
  },
  {
   "cell_type": "code",
   "execution_count": 10,
   "id": "93c3a1d8",
   "metadata": {},
   "outputs": [
    {
     "name": "stdout",
     "output_type": "stream",
     "text": [
      "20\n",
      "10\n"
     ]
    }
   ],
   "source": [
    "class Test:\n",
    "    x = 10\n",
    "\n",
    "    def __init__(self):\n",
    "        self.x = 20\n",
    "\n",
    "\n",
    "test = Test()\n",
    "print(test.x)  # 20\n",
    "print(Test.x)  # 1"
   ]
  },
  {
   "cell_type": "markdown",
   "id": "a09f70db",
   "metadata": {},
   "source": [
    "Q4. Where and how are instance attributes created?\n",
    "\n",
    "The x inside __init__ method is the instance attribute.\n",
    "Below is the example of we create an instance attribute and how can we access it.\n"
   ]
  },
  {
   "cell_type": "code",
   "execution_count": 12,
   "id": "7672fb21",
   "metadata": {},
   "outputs": [
    {
     "name": "stdout",
     "output_type": "stream",
     "text": [
      "20\n"
     ]
    }
   ],
   "source": [
    "class Test:\n",
    "    \n",
    "\n",
    "    def __init__(self):\n",
    "        self.x = 20\n",
    "\n",
    "\n",
    "test = Test()\n",
    "print(test.x)  # 20\n",
    "#print(Test.x)  # 1"
   ]
  },
  {
   "cell_type": "markdown",
   "id": "79d69115",
   "metadata": {},
   "source": [
    "Q5. What does the term \"self\" in a Python class mean?\n",
    "\n",
    "self represents the instance of the class. By using the “self”  we can access the attributes and methods of the class in python. It binds the attributes with the given arguments.\n",
    "\n",
    "The reason you need to use self. is because Python does not use the @ syntax to refer to instance attributes. "
   ]
  },
  {
   "cell_type": "markdown",
   "id": "5ed02265",
   "metadata": {},
   "source": [
    "Q6. How does a Python class handle operator overloading?\n",
    "\n",
    "To perform operator overloading, Python provides some special function or magic function that is automatically invoked when it is associated with that particular operator. For example, when we use + operator, the magic method __add__ is automatically invoked in which the operation for + operator is defined."
   ]
  },
  {
   "cell_type": "code",
   "execution_count": 13,
   "id": "22ce353e",
   "metadata": {},
   "outputs": [
    {
     "name": "stdout",
     "output_type": "stream",
     "text": [
      "3\n",
      "GeeksFor\n"
     ]
    }
   ],
   "source": [
    "class A:\n",
    "    def __init__(self, a):\n",
    "        self.a = a\n",
    " \n",
    "    # adding two objects\n",
    "    def __add__(self, o):\n",
    "        return self.a + o.a\n",
    "ob1 = A(1)\n",
    "ob2 = A(2)\n",
    "ob3 = A(\"Geeks\")\n",
    "ob4 = A(\"For\")\n",
    "\n",
    "\n",
    "print(A.__add__(ob1 , ob2))\n",
    "print(A.__add__(ob3,ob4))"
   ]
  },
  {
   "cell_type": "markdown",
   "id": "b59cc349",
   "metadata": {},
   "source": [
    "Q8. What is the most popular form of operator overloading?\n",
    "\n",
    "I feel, most popular form of operator overloading is of addition (+) operator. When two integers are passed to + operator, it will return the sum of two integers. When two strings are passed to + operator, it will return concatenation of two strings."
   ]
  },
  {
   "cell_type": "code",
   "execution_count": null,
   "id": "541ba3fc",
   "metadata": {},
   "outputs": [],
   "source": [
    "Q9. What are the two most important concepts to grasp in order to comprehend Python OOP code?\n",
    "\n",
    "Inheritance.\n",
    "Polymorphism."
   ]
  },
  {
   "cell_type": "code",
   "execution_count": null,
   "id": "f52ede0e",
   "metadata": {},
   "outputs": [],
   "source": []
  },
  {
   "cell_type": "code",
   "execution_count": null,
   "id": "3663951f",
   "metadata": {},
   "outputs": [],
   "source": []
  }
 ],
 "metadata": {
  "kernelspec": {
   "display_name": "Python 3",
   "language": "python",
   "name": "python3"
  },
  "language_info": {
   "codemirror_mode": {
    "name": "ipython",
    "version": 3
   },
   "file_extension": ".py",
   "mimetype": "text/x-python",
   "name": "python",
   "nbconvert_exporter": "python",
   "pygments_lexer": "ipython3",
   "version": "3.8.8"
  }
 },
 "nbformat": 4,
 "nbformat_minor": 5
}
