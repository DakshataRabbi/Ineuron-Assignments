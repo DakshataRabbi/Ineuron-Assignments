{
 "cells": [
  {
   "cell_type": "code",
   "execution_count": null,
   "id": "3349bbfe",
   "metadata": {},
   "outputs": [],
   "source": [
    "1. In what modes should the PdfFileReader() and PdfFileWriter() File objects will be opened?\n",
    "\n",
    "These files will be opened in binary mode. \n",
    "read binary (rb) for PdfFileREader() and write binary (wb) PdfFileWriter()\n"
   ]
  },
  {
   "cell_type": "code",
   "execution_count": null,
   "id": "9a44308c",
   "metadata": {},
   "outputs": [],
   "source": [
    "2. From a PdfFileReader object, how do you get a Page object for page 5?\n",
    "\n",
    " pdfreader.getpage (4) will get you a page 5 since page 0 is first page."
   ]
  },
  {
   "cell_type": "code",
   "execution_count": null,
   "id": "ea833237",
   "metadata": {},
   "outputs": [],
   "source": [
    "3. What PdfFileReader variable stores the number of pages in the PDF document?\n",
    "\n",
    " PdfFileReader provide a method getNumPages () which returns the total pages in the PDF file in Python"
   ]
  },
  {
   "cell_type": "code",
   "execution_count": null,
   "id": "352e82c2",
   "metadata": {},
   "outputs": [],
   "source": [
    "4. If a PdfFileReader object’s PDF is encrypted with the password swordfish, \n",
    "what must you do before you can obtain Page objects from it?\n",
    "\n",
    "before we obtain the page object, the pdf has to be decrypted by calling .decrypt('swordfish')"
   ]
  },
  {
   "cell_type": "code",
   "execution_count": null,
   "id": "1b772bd8",
   "metadata": {},
   "outputs": [],
   "source": [
    "5. What methods do you use to rotate a page?\n",
    "\n",
    "The rotateClockwise() and rotateCounterClockwise() methods. \n",
    "The degrees to rotate is passed as an integer argument"
   ]
  },
  {
   "cell_type": "code",
   "execution_count": null,
   "id": "0eaf6152",
   "metadata": {},
   "outputs": [],
   "source": [
    "6. What is the difference between a Run object and a Paragraph object?\n",
    "\n",
    "Paragraph object has a run attribute that is a list of Run objects,\n",
    "while Run objects have a text attribute, containing just the text in that particular run."
   ]
  },
  {
   "cell_type": "code",
   "execution_count": null,
   "id": "df59d313",
   "metadata": {},
   "outputs": [],
   "source": [
    "7. How do you obtain a list of Paragraph objects for a Document object that’s stored in a variable named doc?\n",
    "\n",
    "Use doc.paragraphs.\n"
   ]
  },
  {
   "cell_type": "code",
   "execution_count": null,
   "id": "674fdce5",
   "metadata": {},
   "outputs": [],
   "source": [
    "8. What type of object has bold, underline, italic, strike, and outline variables?\n",
    "\n",
    "A Run object has these variables (not a Paragraph)."
   ]
  },
  {
   "cell_type": "code",
   "execution_count": null,
   "id": "60ee009c",
   "metadata": {},
   "outputs": [],
   "source": [
    "9. What is the difference between False, True, and None for the bold variable?\n",
    "\n",
    "True always makes the Run object bolded and False makes it always not bolded, no matter what the style’s bold setting is. \n",
    "None will make the Run object just use the style’s bold setting"
   ]
  },
  {
   "cell_type": "code",
   "execution_count": null,
   "id": "694ed30e",
   "metadata": {},
   "outputs": [],
   "source": [
    "10. How do you create a Document object for a new Word document?\n",
    "\n",
    "Call the docx.Document() function"
   ]
  },
  {
   "cell_type": "code",
   "execution_count": null,
   "id": "a4b76141",
   "metadata": {},
   "outputs": [],
   "source": [
    "11. How do you add a paragraph with the text 'Hello, there!' to a Document object stored in a variable named doc?\n",
    "\n",
    "doc.add_paragraph('Hello there!')"
   ]
  },
  {
   "cell_type": "code",
   "execution_count": null,
   "id": "f7c38374",
   "metadata": {},
   "outputs": [],
   "source": [
    "12. What integers represent the levels of headings available in Word documents?\n",
    "\n",
    "The integers 0, 1, 2, 3, and 4"
   ]
  }
 ],
 "metadata": {
  "kernelspec": {
   "display_name": "Python 3",
   "language": "python",
   "name": "python3"
  },
  "language_info": {
   "codemirror_mode": {
    "name": "ipython",
    "version": 3
   },
   "file_extension": ".py",
   "mimetype": "text/x-python",
   "name": "python",
   "nbconvert_exporter": "python",
   "pygments_lexer": "ipython3",
   "version": "3.8.8"
  }
 },
 "nbformat": 4,
 "nbformat_minor": 5
}
