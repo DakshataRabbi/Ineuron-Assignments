{
 "cells": [
  {
   "cell_type": "markdown",
   "id": "b49a9eb9",
   "metadata": {},
   "source": [
    "Q1. Describe the differences between text and binary files in a single paragraph.\n",
    "\n",
    "Text File are human readable , whereas Binary File cannot be read directly.\n",
    "In text File eac line is terminated ny special character known as EOL. Binary File doesn't require a delimiter.\n",
    "Proceesing of file is slower in text files and vice versa."
   ]
  },
  {
   "cell_type": "markdown",
   "id": "039d27fe",
   "metadata": {},
   "source": [
    "Q2. What are some scenarios where using text files will be the better option? When would you like to use binary files instead of text files?\n",
    "Text files include small size and versatility. Kilobytes or megabytes smaller than the same data stored in \n",
    "other formats, they can be rapidly and massively exchanged via email or disk. Most can be opened on computers\n",
    "running diverse operating systems, using very basic software. Binary files is that they are more efficient. \n",
    "In terms of memory, storing values using numeric formats, rather than as text characters, tends to use less \n",
    "memory. In addition, binary formats also offer advantages in terms of speed of access.\n"
   ]
  },
  {
   "cell_type": "markdown",
   "id": "9ca7ed08",
   "metadata": {},
   "source": [
    "Q3. What are some of the issues with using binary operations to read and write a Python integer directly to disc?\n",
    "When we read or write a python integer using binary operations \n",
    "a)Binary operations deal with raw data\n",
    "b)one needs to identify how many bytes one would read or write."
   ]
  },
  {
   "cell_type": "markdown",
   "id": "914935ba",
   "metadata": {},
   "source": [
    "Q4. Describe a benefit of using the with keyword instead of explicitly opening a file.\n",
    "\n",
    "Using with means that the file will be closed as soon as you leave the block. This is beneficial because closing a file is something that can easily be forgotten and ties up resources that you no longer need."
   ]
  },
  {
   "cell_type": "markdown",
   "id": "6dc0173f",
   "metadata": {},
   "source": [
    "Q5. Does Python have the trailing newline while reading a line of text? Does Python append a newline when you write a line of text?\n",
    "\n",
    "Python readline () is a file method that helps to read one complete line from the given file. It has a trailing newline (“n”) at the end of the string returned.\n",
    "While writing the python doesn't append a new line at end of line. It has to be handled explicitly.\n"
   ]
  },
  {
   "cell_type": "markdown",
   "id": "06e0a159",
   "metadata": {},
   "source": [
    "Q6. What file operations enable for random-access operation?\n",
    "\n",
    "The file operations like seek(pos,orig), tell() enable random access operations.\n"
   ]
  },
  {
   "cell_type": "markdown",
   "id": "587ba695",
   "metadata": {},
   "source": [
    "Q7. When do you think you'll use the struct package the most?\n",
    "\n",
    "The struct module in Python is used to convert native Python data types such as strings and numbers into a string of bytes and vice versa. It is used mostly for handling binary data stored in files or from network connections, among other sources."
   ]
  },
  {
   "cell_type": "markdown",
   "id": "7e607d86",
   "metadata": {},
   "source": [
    "Q8. When is pickling the best option?\n",
    "\n",
    "Pickling is useful for applications where you need some degree of persistency in your data. Your program's state data can be saved to disk, so you can continue working on it later on. It can also be used to send data over a Transmission Control Protocol (TCP) or socket connection, or to store python objects in a database"
   ]
  },
  {
   "cell_type": "markdown",
   "id": "370b7f41",
   "metadata": {},
   "source": [
    "Q9. When will it be best to use the shelve package?\n",
    "\n",
    "The shelve module can be used as a simple persistent storage option for Python objects when a relational database is overkill. The shelf is accessed by keys, just as with a dictionary. The values are pickled and written to a database created and managed by anydbm"
   ]
  },
  {
   "cell_type": "markdown",
   "id": "653ab529",
   "metadata": {},
   "source": [
    "Q10. What is a special restriction when using the shelve package, as opposed to using other data dictionaries?\n",
    "\n",
    "A “shelf” is a persistent, dictionary-like object. The difference with “dbm” databases is that the values \n",
    "(not the keys!) in a shelf can be essentially arbitrary Python objects — anything that the pickle module can\n",
    "handle. This includes most class instances, recursive data types, and objects containing lots of shared \n",
    "sub-objects. The keys are ordinary strings.\n"
   ]
  }
 ],
 "metadata": {
  "kernelspec": {
   "display_name": "Python 3",
   "language": "python",
   "name": "python3"
  },
  "language_info": {
   "codemirror_mode": {
    "name": "ipython",
    "version": 3
   },
   "file_extension": ".py",
   "mimetype": "text/x-python",
   "name": "python",
   "nbconvert_exporter": "python",
   "pygments_lexer": "ipython3",
   "version": "3.8.8"
  }
 },
 "nbformat": 4,
 "nbformat_minor": 5
}
