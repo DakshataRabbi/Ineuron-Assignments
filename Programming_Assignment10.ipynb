{
 "cells": [
  {
   "cell_type": "code",
   "execution_count": 19,
   "id": "9ad79a44",
   "metadata": {},
   "outputs": [
    {
     "name": "stdout",
     "output_type": "stream",
     "text": [
      "Enter number of elements you want to enter in a list :  4\n",
      "Enter your elements1\n",
      "Enter your elements2\n",
      "Enter your elements2\n",
      "Enter your elements3\n",
      "Your list is : [1, 2, 2, 3]\n",
      "Your sum of all elements is :  8\n"
     ]
    }
   ],
   "source": [
    "#Write a Python program to find sum of elements in list?\n",
    "\n",
    "n = int(input(\"Enter number of elements you want to enter in a list :  \"))\n",
    "m = n\n",
    "sum = 0\n",
    "l = []\n",
    "while( m!= 0):\n",
    "    p = int(input(\"Enter your elements\"))\n",
    "    l.append(p)\n",
    "    m = m-1\n",
    "print(f\"Your list is : {l}\")\n",
    "\n",
    "for i in range(0 , len(l)):\n",
    "    sum = sum + l[i]\n",
    "print(\"Your sum of all elements is : \" , sum)\n",
    "\n"
   ]
  },
  {
   "cell_type": "code",
   "execution_count": 25,
   "id": "a79fa69e",
   "metadata": {},
   "outputs": [
    {
     "name": "stdout",
     "output_type": "stream",
     "text": [
      "Enter number of elements you want to enter in a list :  4\n",
      "Enter your elements1\n",
      "Enter your elements2\n",
      "Enter your elements3\n",
      "Enter your elements4\n",
      "Your list is : [1, 2, 3, 4]\n",
      "Your sum of all elements is :  24\n"
     ]
    }
   ],
   "source": [
    "#Write a Python program to  Multiply all numbers in the list?\n",
    "\n",
    "n = int(input(\"Enter number of elements you want to enter in a list :  \"))\n",
    "m = n\n",
    "sum = 0\n",
    "mul = 1\n",
    "\n",
    "l = []\n",
    "while( m!= 0):\n",
    "    p = int(input(\"Enter your elements\"))\n",
    "    l.append(p)\n",
    "    m = m-1\n",
    "print(f\"Your list is : {l}\")\n",
    "\n",
    "for i in range(0 , len(l)):\n",
    "    mul = mul * l[i]\n",
    "print(\"Your sum of all elements is : \" , mul)\n"
   ]
  },
  {
   "cell_type": "code",
   "execution_count": 59,
   "id": "7eeb354d",
   "metadata": {},
   "outputs": [
    {
     "name": "stdout",
     "output_type": "stream",
     "text": [
      "Enter number of elements you want to enter in a list :  6\n",
      "Enter your elements1\n",
      "Enter your elements45\n",
      "Enter your elements2\n",
      "Enter your elements89\n",
      "Enter your elements63\n",
      "Enter your elements21\n",
      "Your list is : [1, 45, 2, 89, 63, 21]\n",
      "Your smallest number is 1\n"
     ]
    }
   ],
   "source": [
    "#Write a Python program to find smallest number in a list?\n",
    "\n",
    "\n",
    "n = int(input(\"Enter number of elements you want to enter in a list :  \"))\n",
    "m = n\n",
    "sum = 0\n",
    "\n",
    "l = []\n",
    "while( m!= 0):\n",
    "    p = int(input(\"Enter your elements\"))\n",
    "    l.append(p)\n",
    "    m = m-1\n",
    "print(f\"Your list is : {l}\")\n",
    "\n",
    "print(f\"Your smallest number is {min(l)}\")\n",
    "\n",
    "\n",
    "            \n",
    "    \n",
    "        \n",
    "    \n"
   ]
  },
  {
   "cell_type": "code",
   "execution_count": 27,
   "id": "89def6ce",
   "metadata": {},
   "outputs": [
    {
     "name": "stdout",
     "output_type": "stream",
     "text": [
      "Enter number of elements you want to enter in a list :  5\n",
      "Enter your elements1\n",
      "Enter your elements45\n",
      "Enter your elements78\n",
      "Enter your elements69\n",
      "Enter your elements566\n",
      "Your list is : [1, 45, 78, 69, 566]\n",
      "Your largest number is 566\n"
     ]
    }
   ],
   "source": [
    "#Write a Python program to find largest number in a list?\n",
    "\n",
    "\n",
    "n = int(input(\"Enter number of elements you want to enter in a list :  \"))\n",
    "m = n\n",
    "sum = 0\n",
    "l = []\n",
    "while( m!= 0):\n",
    "    p = int(input(\"Enter your elements\"))\n",
    "    l.append(p)\n",
    "    m = m-1\n",
    "print(f\"Your list is : {l}\")\n",
    "\n",
    "print(f\"Your largest number is {max(l)}\")"
   ]
  },
  {
   "cell_type": "code",
   "execution_count": 57,
   "id": "a77c8fa8",
   "metadata": {},
   "outputs": [
    {
     "name": "stdout",
     "output_type": "stream",
     "text": [
      "Enter number of elements you want to enter in a list :  5\n",
      "Enter your elements1\n",
      "Enter your elements2\n",
      "Enter your elements100\n",
      "Enter your elements99\n",
      "Enter your elements4\n",
      "Your list is : [1, 2, 100, 99, 4]\n",
      "Second largest element in the list is: 99\n"
     ]
    }
   ],
   "source": [
    "#Write a Python program to find second largest number in a list?\n",
    "\n",
    "n = int(input(\"Enter number of elements you want to enter in a list :  \"))\n",
    "m = n\n",
    "sum = 0\n",
    "l = []\n",
    "while( m!= 0):\n",
    "    p = int(input(\"Enter your elements\"))\n",
    "    l.append(p)\n",
    "    m = m-1\n",
    "print(f\"Your list is : {l}\")\n",
    "\n",
    "# using built-in sort method\n",
    "l.sort()\n",
    "# second last element\n",
    "print(\"Second largest element in the list is:\", l[-2])\n"
   ]
  },
  {
   "cell_type": "code",
   "execution_count": 54,
   "id": "363ee2f9",
   "metadata": {},
   "outputs": [
    {
     "name": "stdout",
     "output_type": "stream",
     "text": [
      "10 4 66 "
     ]
    }
   ],
   "source": [
    "#Write a Python program to print even numbers in a list?\n",
    "\n",
    "\n",
    "\n",
    "# Python program to print odd Numbers in a List\n",
    "\n",
    "# list of numbers\n",
    "list1 = [10, 21, 4, 45, 66, 93]\n",
    "\n",
    "# iterating each number in list\n",
    "for num in list1:\n",
    "\n",
    "# checking condition\n",
    "     if num % 2 == 0:\n",
    "        print(num, end=\" \")\n",
    "\n",
    "        \n",
    "    "
   ]
  },
  {
   "cell_type": "code",
   "execution_count": 55,
   "id": "09e908dd",
   "metadata": {},
   "outputs": [
    {
     "name": "stdout",
     "output_type": "stream",
     "text": [
      "21 45 93 "
     ]
    }
   ],
   "source": [
    "#Write a Python program to print odd numbers in a List?\n",
    "\n",
    "list1 = [10, 21, 4, 45, 66, 93]\n",
    "\n",
    "# iterating each number in list\n",
    "for num in list1:\n",
    "\n",
    "# checking condition\n",
    "     if num % 2 != 0:\n",
    "        print(num, end=\" \")\n",
    "\n",
    "        \n"
   ]
  },
  {
   "cell_type": "code",
   "execution_count": 42,
   "id": "d56cf2e1",
   "metadata": {},
   "outputs": [
    {
     "name": "stdout",
     "output_type": "stream",
     "text": [
      "The original list is : [5, 6, [], 3, [], [], 9]\n",
      "List after empty list removal : [5, 6, 3, 9]\n"
     ]
    }
   ],
   "source": [
    "#Write a Python program to Remove empty List from List?\n",
    "\n",
    "\n",
    "test_list = [5, 6, [], 3, [], [], 9]\n",
    "\n",
    "# printing original list\n",
    "print(\"The original list is : \" + str(test_list))\n",
    "\n",
    "res = [ele for ele in test_list if ele != []]\n",
    "\n",
    "# printing result\n",
    "print(\"List after empty list removal : \" + str(res))\n",
    "\n"
   ]
  },
  {
   "cell_type": "code",
   "execution_count": 34,
   "id": "ff4ed276",
   "metadata": {},
   "outputs": [
    {
     "name": "stdout",
     "output_type": "stream",
     "text": [
      "Enter number of elements you want to enter in a list :  4\n",
      "Enter your elements1\n",
      "Enter your elements2\n",
      "Enter your elements3\n",
      "Enter your elements4\n",
      "Your list is : [1, 2, 3, 4]\n",
      "Your copied list is : [1, 2, 3, 4]\n"
     ]
    }
   ],
   "source": [
    "#Write a Python program to Cloning or Copying a list?\n",
    "\n",
    "n = int(input(\"Enter number of elements you want to enter in a list :  \"))\n",
    "m = n\n",
    "sum = 0\n",
    "l = []\n",
    "while( m!= 0):\n",
    "    p = int(input(\"Enter your elements\"))\n",
    "    l.append(p)\n",
    "    m = m-1\n",
    "print(f\"Your list is : {l}\")\n",
    "\n",
    "new_list = l.copy()\n",
    "print(f\"Your copied list is : {new_list}\")\n"
   ]
  },
  {
   "cell_type": "code",
   "execution_count": 36,
   "id": "c394bb6a",
   "metadata": {},
   "outputs": [
    {
     "name": "stdout",
     "output_type": "stream",
     "text": [
      "Enter number of elements you want to enter in a list :  4\n",
      "Enter your elements1\n",
      "Enter your elements2\n",
      "Enter your elements4\n",
      "Enter your elements1\n",
      "Your list is : [1, 2, 4, 1]\n",
      "Enter element to be checked list: 1\n",
      "1  has occurred  2 times\n"
     ]
    }
   ],
   "source": [
    "#Write a Python program to Count occurrences of an element in a list?\n",
    "\n",
    "n = int(input(\"Enter number of elements you want to enter in a list :  \"))\n",
    "m = n\n",
    "sum = 0\n",
    "l = []\n",
    "while( m!= 0):\n",
    "    p = int(input(\"Enter your elements\"))\n",
    "    l.append(p)\n",
    "    m = m-1\n",
    "print(f\"Your list is : {l}\")\n",
    "\n",
    "\n",
    "def count_occurrence(l, m):\n",
    "    \n",
    "#counter variable\n",
    "    count=0\n",
    "    for i in l:\n",
    "        if(i==m):\n",
    "          #update counter variable\n",
    "            count=count+1\n",
    "    return count\n",
    "\n",
    "x=int(input(\"Enter element to be checked list: \"))\n",
    "\n",
    "#function call\n",
    "print(x,\" has occurred \",count_occurrence(l, x),\"times\")\n"
   ]
  },
  {
   "cell_type": "code",
   "execution_count": null,
   "id": "620d044e",
   "metadata": {},
   "outputs": [],
   "source": []
  }
 ],
 "metadata": {
  "kernelspec": {
   "display_name": "Python 3",
   "language": "python",
   "name": "python3"
  },
  "language_info": {
   "codemirror_mode": {
    "name": "ipython",
    "version": 3
   },
   "file_extension": ".py",
   "mimetype": "text/x-python",
   "name": "python",
   "nbconvert_exporter": "python",
   "pygments_lexer": "ipython3",
   "version": "3.8.8"
  }
 },
 "nbformat": 4,
 "nbformat_minor": 5
}
