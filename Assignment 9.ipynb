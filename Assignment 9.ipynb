{
 "cells": [
  {
   "cell_type": "code",
   "execution_count": null,
   "id": "3c32d327",
   "metadata": {},
   "outputs": [],
   "source": [
    "1. To what does a relative path refer?\n",
    "\n",
    "Relative path means the path of a certain file relative to the current working directory.\n"
   ]
  },
  {
   "cell_type": "code",
   "execution_count": null,
   "id": "aa154055",
   "metadata": {},
   "outputs": [],
   "source": [
    "2. What does an absolute path start with your operating system?\n",
    "\n",
    "Absolute path start with your operating system with root folder"
   ]
  },
  {
   "cell_type": "code",
   "execution_count": null,
   "id": "b0f19dfc",
   "metadata": {},
   "outputs": [],
   "source": [
    "3. What do the functions os.getcwd() and os.chdir() do?\n",
    "\n",
    "The os.getcwd() function returns the current working directory. \n",
    "The os.chdir() function changes the current working directory.\n"
   ]
  },
  {
   "cell_type": "code",
   "execution_count": null,
   "id": "dbb89286",
   "metadata": {},
   "outputs": [],
   "source": [
    "4. What are the . and .. folders?\n",
    "\n",
    "The . is the current directory, while .. signifies the parent directory"
   ]
  },
  {
   "cell_type": "code",
   "execution_count": null,
   "id": "8c3a855b",
   "metadata": {},
   "outputs": [],
   "source": [
    "5. In C:\\bacon\\eggs\\spam.txt, which part is the dir name, and which part is the base name?\n",
    "\n",
    "In the above path base name is spam.txt. os.path.basename() can be used to extract base name from the path. \n",
    "\n",
    "In the above path dir name is C:\\bacon\\eggs . os.path.dirname() can be used to extract dir name form path."
   ]
  },
  {
   "cell_type": "code",
   "execution_count": null,
   "id": "cecd79a2",
   "metadata": {},
   "outputs": [],
   "source": [
    "6. What are the three “mode” arguments that can be passed to the open() function?\n",
    "\n",
    "Read mode: open ('test.txt', 'r'), Write mode: open ('test.txt', 'w'), Append mode: open ('test.txt', 'a') are three modes"
   ]
  },
  {
   "cell_type": "code",
   "execution_count": null,
   "id": "4ef9d03a",
   "metadata": {},
   "outputs": [],
   "source": [
    "7. What happens if an existing file is opened in write mode?\n",
    "\n",
    "Whenever the file is opened in write mode, all the content which was previously present in the file will be overwritten\n",
    "due to the file pointer having it’s position at the beginning of the file"
   ]
  },
  {
   "cell_type": "code",
   "execution_count": null,
   "id": "1e8d9007",
   "metadata": {},
   "outputs": [],
   "source": [
    "8. How do you tell the difference between read() and readlines()?\n",
    "\n",
    "read() reads the entire contents of the file into a string. readline() just reads file till the next line."
   ]
  },
  {
   "cell_type": "code",
   "execution_count": null,
   "id": "1df970ad",
   "metadata": {},
   "outputs": [],
   "source": [
    "9. What data structure does a shelf value resemble?\n",
    "\n",
    "A shelf value resembles a dictionary value, it has keys and values, along with keys() and values() methods \n",
    "that work similarly to the dictionary methods."
   ]
  }
 ],
 "metadata": {
  "kernelspec": {
   "display_name": "Python 3",
   "language": "python",
   "name": "python3"
  },
  "language_info": {
   "codemirror_mode": {
    "name": "ipython",
    "version": 3
   },
   "file_extension": ".py",
   "mimetype": "text/x-python",
   "name": "python",
   "nbconvert_exporter": "python",
   "pygments_lexer": "ipython3",
   "version": "3.8.8"
  }
 },
 "nbformat": 4,
 "nbformat_minor": 5
}
