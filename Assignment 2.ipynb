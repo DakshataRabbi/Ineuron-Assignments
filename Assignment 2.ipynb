{
 "cells": [
  {
   "cell_type": "code",
   "execution_count": null,
   "id": "139f6b70",
   "metadata": {},
   "outputs": [],
   "source": [
    "1.What are the two values of the Boolean data type? How do you write them?\n",
    "\n",
    "The two values of Boolean data type are True and False. \n",
    "We write them as True and False"
   ]
  },
  {
   "cell_type": "code",
   "execution_count": null,
   "id": "2b43ea0c",
   "metadata": {},
   "outputs": [],
   "source": [
    "2. What are the three different types of Boolean operators?\n",
    "\n",
    "Three different types of boolean operators are :\n",
    "and , not , or."
   ]
  },
  {
   "cell_type": "code",
   "execution_count": null,
   "id": "12e64dd7",
   "metadata": {},
   "outputs": [],
   "source": [
    "3. Make a list of each Boolean operator's truth tables\n",
    "(i.e. every possible combination of Boolean values for the operator and what it evaluate ).\n",
    "\n",
    "AND Truthtable\n",
    "\n",
    "False and False\tTrue\n",
    "False and True\tFalse\n",
    "True and False\tFalse\n",
    "True and True\tTrue\n",
    "\n",
    "\n",
    "OR Truthtable\n",
    "False or False\tFalse\n",
    "False or True\tTrue\n",
    "True  or False\tTrue\n",
    "True  or True\tTrue\n",
    "\n",
    "NOT Truthtable\n",
    "\n",
    "False --> True\n",
    "True --> False"
   ]
  },
  {
   "cell_type": "code",
   "execution_count": null,
   "id": "1f411dd4",
   "metadata": {},
   "outputs": [],
   "source": [
    "4. What are the values of the following expressions?\n",
    "\n",
    "\n",
    "(5 > 4) and (3 == 5) --> False\n",
    "not (5 > 4) --> False\n",
    "(5 > 4) or (3 == 5) --> True\n",
    "not ((5 > 4) or (3 == 5))--> False\n",
    "(True and True) and (True == False) --> False\n",
    "(not False) or (not True) --> True\n"
   ]
  },
  {
   "cell_type": "code",
   "execution_count": null,
   "id": "369e69a4",
   "metadata": {},
   "outputs": [],
   "source": [
    "5. What are the six comparison operators?\n",
    "\n",
    "Six comparison operators are :-\n",
    "<  -->  A < B\n",
    "<= -->  A <= B\n",
    ">  -->  A > B\n",
    ">= -->  A >= B\n",
    "== -->  A == B\n",
    "!= -->  A != B\n",
    "\n"
   ]
  },
  {
   "cell_type": "code",
   "execution_count": null,
   "id": "1bb463f1",
   "metadata": {},
   "outputs": [],
   "source": [
    "6. How do you tell the difference between the equal to and assignment operators?Describe a condition and when you would use one.\n",
    "\n",
    "Assignment operators are used to assign a value to the variable, \n",
    "For Example : a = 10\n",
    "    \n",
    "Equal to operators are used to convey that these two values are equal,\n",
    "For Example : a == 10\n",
    "    \n",
    "Condition:\n",
    "    \n",
    "    a = 19 --> Assigning value 19 to variable a\n",
    "    b == a --> It shows, value of b is equal to a."
   ]
  },
  {
   "cell_type": "code",
   "execution_count": null,
   "id": "51f3956b",
   "metadata": {},
   "outputs": [],
   "source": [
    "7. Identify the three blocks in this code:\n",
    "    \n",
    "Three blocks are:\n",
    "spam = 0\n",
    "#First block starts from here\n",
    "if spam == 10:\n",
    "print('eggs') \n",
    "\n",
    "#Second block starts from here\n",
    "if spam > 5:\n",
    "print('bacon')\n",
    "\n",
    "#Third block starts from here\n",
    "else:\n",
    "print('ham')\n",
    "print('spam')\n",
    "print('spam')\n"
   ]
  },
  {
   "cell_type": "code",
   "execution_count": 28,
   "id": "3d9e794a",
   "metadata": {},
   "outputs": [
    {
     "name": "stdout",
     "output_type": "stream",
     "text": [
      "Howdy\n"
     ]
    }
   ],
   "source": [
    "\"\"\"\"8. Write code that prints Hello if 1 is stored in spam, prints Howdy if 2 is stored in spam, and prints Greetings! \n",
    "if anything else is stored in spam\"\"\"\n",
    "\n",
    "spam = 2\n",
    "\n",
    "if spam == 1:\n",
    "    print(\"Hello\")\n",
    "    \n",
    "elif spam == 2:\n",
    "    print(\"Howdy\")\n",
    "    \n",
    "else:\n",
    "    print(\"Greetings!\")"
   ]
  },
  {
   "cell_type": "code",
   "execution_count": null,
   "id": "914e88eb",
   "metadata": {},
   "outputs": [],
   "source": [
    "9.If your programme is stuck in an endless loop, what keys you’ll press?\n",
    "\n",
    "If we are using jupyter notebook, we can interrupt the kernel , for endless loop."
   ]
  },
  {
   "cell_type": "code",
   "execution_count": null,
   "id": "7f89a879",
   "metadata": {},
   "outputs": [],
   "source": [
    "10. How can you tell the difference between break and continue?\n",
    "\n",
    "break terminates the loops , it stops the execution of complete loop.\n",
    "continue opposite of break it jumps to the next iteration in th loop."
   ]
  },
  {
   "cell_type": "code",
   "execution_count": null,
   "id": "ac7fce4a",
   "metadata": {},
   "outputs": [],
   "source": [
    "11. In a for loop, what is the difference between range(10), range(0, 10), and range(0, 10, 1)?\n",
    "\n",
    "range(10) gives you a output from ranging 0 to 9.\n",
    "range(0,10) gives you output from ranging 0 to 9, here the (start,end) are defined.\n",
    "range(0,10,1) gives you o/p from ranging 0 to 9 but here the (start, end,step) are defined."
   ]
  },
  {
   "cell_type": "code",
   "execution_count": 25,
   "id": "fbcd3cfb",
   "metadata": {},
   "outputs": [
    {
     "name": "stdout",
     "output_type": "stream",
     "text": [
      "1\n",
      "2\n",
      "3\n",
      "4\n",
      "5\n",
      "6\n",
      "7\n",
      "8\n",
      "9\n",
      "10\n"
     ]
    }
   ],
   "source": [
    "\"\"\"\"\"12. Write a short program that prints the numbers 1 to 10 using a for loop. \n",
    "Then write an equivalent program that prints the numbers 1 to 10 using a while loop.\"\"\"\n",
    "\n",
    "for i in range(1,11):\n",
    "    print(i)\n"
   ]
  },
  {
   "cell_type": "code",
   "execution_count": 22,
   "id": "76e35140",
   "metadata": {},
   "outputs": [
    {
     "name": "stdout",
     "output_type": "stream",
     "text": [
      "1\n",
      "2\n",
      "3\n",
      "4\n",
      "5\n",
      "6\n",
      "7\n",
      "8\n",
      "9\n",
      "10\n"
     ]
    }
   ],
   "source": [
    "\"\"\"\"\"12. Write a short program that prints the numbers 1 to 10 using a for loop. \n",
    "Then write an equivalent program that prints the numbers 1 to 10 using a while loop.\"\"\"\n",
    "\n",
    "i = 1\n",
    "while(i<=10):\n",
    "    print(i)\n",
    "    i += 1\n",
    "\n"
   ]
  },
  {
   "cell_type": "code",
   "execution_count": null,
   "id": "c61e531e",
   "metadata": {},
   "outputs": [],
   "source": [
    "\"\"\"\"13. If you had a function named bacon() inside a module named spam, how would you call it after importing spam?\"\"\"\n",
    "\n",
    "import spam as sp\n",
    "\n",
    "sp.bacon()"
   ]
  },
  {
   "cell_type": "code",
   "execution_count": null,
   "id": "55171f0c",
   "metadata": {},
   "outputs": [],
   "source": []
  }
 ],
 "metadata": {
  "kernelspec": {
   "display_name": "Python 3",
   "language": "python",
   "name": "python3"
  },
  "language_info": {
   "codemirror_mode": {
    "name": "ipython",
    "version": 3
   },
   "file_extension": ".py",
   "mimetype": "text/x-python",
   "name": "python",
   "nbconvert_exporter": "python",
   "pygments_lexer": "ipython3",
   "version": "3.8.8"
  }
 },
 "nbformat": 4,
 "nbformat_minor": 5
}
