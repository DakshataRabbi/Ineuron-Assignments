{
 "cells": [
  {
   "cell_type": "code",
   "execution_count": 1,
   "id": "df8e5932",
   "metadata": {},
   "outputs": [
    {
     "name": "stdout",
     "output_type": "stream",
     "text": [
      "Enter the length you want to compare your string with : 12\n",
      "Both are not similar\n"
     ]
    }
   ],
   "source": [
    "def words_len(s):\n",
    "    k = int(input(\"Enter the length you want to compare your string with : \"))\n",
    "    ls = len(s)\n",
    "\n",
    "    if type(s) == str and ls == k:\n",
    "        return(\"k and s are of same length\")\n",
    "        \n",
    "    else:\n",
    "        return(\"Both are not similar\")\n",
    "        \n",
    "print(words_len(\"dakshata\"))\n",
    "          "
   ]
  },
  {
   "cell_type": "code",
   "execution_count": 2,
   "id": "af95536a",
   "metadata": {},
   "outputs": [
    {
     "name": "stdout",
     "output_type": "stream",
     "text": [
      "Enter the string : dakshata\n",
      "Enter the index of character to be removed : 3\n",
      "Entered string : dakshata\n",
      "String formed by removing i'th character : dakhata\n"
     ]
    }
   ],
   "source": [
    "#Write a Python program for removing i-th character from a string?\n",
    "\n",
    "myStr =  input('Enter the string : ')\n",
    "i = int(input('Enter the index of character to be removed : '))\n",
    "\n",
    "resStr = \"\"\n",
    "\n",
    "for index in range(len(myStr)):\n",
    "    if index != i:\n",
    "        resStr = resStr + myStr[index]\n",
    "\n",
    "# Printing all strings... \n",
    "print (\"Entered string : \" + myStr)\n",
    "print (\"String formed by removing i'th character : \" + resStr)\n",
    "\n"
   ]
  },
  {
   "cell_type": "code",
   "execution_count": 12,
   "id": "da19ab23",
   "metadata": {},
   "outputs": [
    {
     "name": "stdout",
     "output_type": "stream",
     "text": [
      "After Splitting:  ['Welcome', 'to', 'the', 'show']\n",
      "After joining:  Welcome-to-the-show\n"
     ]
    }
   ],
   "source": [
    "#Write a Python program to split and join a string?\n",
    "\n",
    "def split_string(string):\n",
    "    # Splitting based on space delimiter\n",
    "    list_string = string.split(' ')\n",
    "    return list_string\n",
    "\n",
    "def join_string(list_string):\n",
    "    # Joining based on '-' delimiter\n",
    "    string = '-'.join(list_string)\n",
    "    return string\n",
    "\n",
    "string = 'Welcome to the show'\n",
    "# Splitting a string\n",
    "list_string = split_string(string)\n",
    "print(\"After Splitting: \",list_string)\n",
    "\n",
    "# Join list of strings into one\n",
    "res_string = join_string(list_string)\n",
    "print(\"After joining: \",res_string)\n",
    "\n",
    "\n"
   ]
  },
  {
   "cell_type": "code",
   "execution_count": 16,
   "id": "1a092682",
   "metadata": {},
   "outputs": [
    {
     "name": "stdout",
     "output_type": "stream",
     "text": [
      "StringB is not a binary string.\n"
     ]
    }
   ],
   "source": [
    "#Write a Python to check if a given string is binary string or not?\n",
    "StringB = '0120101010111'\n",
    "b = {'0' , '1'}\n",
    "u = set(stringB)\n",
    "\n",
    "if b == u or u == {'0'} or u == {'1'}:\n",
    "      print(\"StringB is a binary string.\")\n",
    "else:\n",
    "    print(\"StringB is not a binary string.\")"
   ]
  },
  {
   "cell_type": "code",
   "execution_count": 19,
   "id": "73a3e03c",
   "metadata": {},
   "outputs": [
    {
     "name": "stdout",
     "output_type": "stream",
     "text": [
      "Enter string 1 : Hey! I am using WhatsApp\n",
      "Enter string 2 : Hello! I am using Facebook\n",
      "All uncommon words are : Hey!WhatsApp Hello! Facebook\n"
     ]
    }
   ],
   "source": [
    "#Write a Python program to find uncommon words from two Strings?\n",
    "\n",
    "str1 = input(\"Enter string 1 : \")\n",
    "str2 = input(\"Enter string 2 : \")\n",
    "\n",
    "\n",
    "s1 = str1.split()\n",
    "s2 = str2.split()\n",
    "uncommon_words = ''\n",
    "\n",
    "for i in s1:\n",
    "    if i not in s2:\n",
    "        uncommon_words = uncommon_words+\"\"+i\n",
    "\n",
    "for i in s2:\n",
    "    if i not in s1:\n",
    "        uncommon_words = uncommon_words+\" \"+i\n",
    "        \n",
    "print(f\"All uncommon words are : {uncommon_words}\")\n",
    "\n",
    "        "
   ]
  },
  {
   "cell_type": "code",
   "execution_count": 3,
   "id": "98261531",
   "metadata": {},
   "outputs": [
    {
     "name": "stdout",
     "output_type": "stream",
     "text": [
      "Enter any string: Hello @ World\n",
      "The string contains special characters.\n"
     ]
    }
   ],
   "source": [
    "#Write a Python Program to check if a string contains any special character?\n",
    "\n",
    "\n",
    "# Python program to check special character\n",
    "\n",
    "# import required package\n",
    "import re\n",
    "\n",
    "# take inputs\n",
    "string = input('Enter any string: ')\n",
    " \n",
    "# special characters\n",
    "special_char = re.compile('[@_!#$%^&*()<>?/\\|}{~:]')\n",
    "\n",
    "# check string contains special characters or not\n",
    "if(special_char.search(string) == None):\n",
    "    print('String does not contain any special characters.')\n",
    "else:\n",
    "    print('The string contains special characters.')"
   ]
  },
  {
   "cell_type": "code",
   "execution_count": null,
   "id": "f38e4628",
   "metadata": {},
   "outputs": [],
   "source": []
  }
 ],
 "metadata": {
  "kernelspec": {
   "display_name": "Python 3",
   "language": "python",
   "name": "python3"
  },
  "language_info": {
   "codemirror_mode": {
    "name": "ipython",
    "version": 3
   },
   "file_extension": ".py",
   "mimetype": "text/x-python",
   "name": "python",
   "nbconvert_exporter": "python",
   "pygments_lexer": "ipython3",
   "version": "3.8.8"
  }
 },
 "nbformat": 4,
 "nbformat_minor": 5
}
