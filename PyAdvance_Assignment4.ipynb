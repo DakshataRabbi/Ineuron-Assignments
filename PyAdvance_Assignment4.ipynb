{
 "cells": [
  {
   "cell_type": "markdown",
   "id": "d6654e42",
   "metadata": {},
   "source": [
    "Q1. Which two operator overloading methods can you use in your classes to support iteration?\n",
    "\n",
    "add() and mul() methods can be used for both integers and string data objects. String is iterable object. When two strings are passed to + operator, it will return concatenated string. When * (number) is preceeded by string, then that string is repeated those many number of time."
   ]
  },
  {
   "cell_type": "markdown",
   "id": "dc478bcf",
   "metadata": {},
   "source": [
    "Q2. In what contexts do the two operator overloading methods manage printing?\n",
    "It depends on the input parameter result is printed. Example, If both inputs are string function will print string output.\n",
    "\n"
   ]
  },
  {
   "cell_type": "code",
   "execution_count": null,
   "id": "9bf7469f",
   "metadata": {},
   "outputs": [],
   "source": [
    "Q3. In a class, how do you intercept slice operations?\n",
    "\n",
    "_getitem_ is the method used to intercept slice operations.\n"
   ]
  },
  {
   "cell_type": "code",
   "execution_count": null,
   "id": "3393272e",
   "metadata": {},
   "outputs": [],
   "source": [
    "Q4. In a class, how do you capture in-place addition?\n",
    "\n",
    "iadd(), a+=b operation for string and tuples.\n"
   ]
  },
  {
   "cell_type": "markdown",
   "id": "d32bbc58",
   "metadata": {},
   "source": [
    "Q5. When is it appropriate to use operator overloading?\n",
    "\n",
    "When we have two objects which are a physical representation of a class (user-defined data type) and we have to add two objects with binary ‘+’ operator it throws an error, because compiler don’t know how to add two objects. So we define a method for an operator and that process is called operator overloading."
   ]
  }
 ],
 "metadata": {
  "kernelspec": {
   "display_name": "Python 3",
   "language": "python",
   "name": "python3"
  },
  "language_info": {
   "codemirror_mode": {
    "name": "ipython",
    "version": 3
   },
   "file_extension": ".py",
   "mimetype": "text/x-python",
   "name": "python",
   "nbconvert_exporter": "python",
   "pygments_lexer": "ipython3",
   "version": "3.8.8"
  }
 },
 "nbformat": 4,
 "nbformat_minor": 5
}
