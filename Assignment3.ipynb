{
 "cells": [
  {
   "cell_type": "code",
   "execution_count": null,
   "id": "59857c02",
   "metadata": {},
   "outputs": [],
   "source": [
    "1. Why are functions advantageous to have in your programs?\n",
    "\n",
    "Functions help in running the block of code n number of times instead of writing the same block of code repeatatively."
   ]
  },
  {
   "cell_type": "code",
   "execution_count": null,
   "id": "b41f06ae",
   "metadata": {},
   "outputs": [],
   "source": [
    "2. When does the code in a function run: when it's specified or when it's called?\n",
    "\n",
    "Code in function runs when it is called."
   ]
  },
  {
   "cell_type": "code",
   "execution_count": null,
   "id": "75cb76e5",
   "metadata": {},
   "outputs": [],
   "source": [
    "3. What statement creates a function?\n",
    "\n",
    "def func() :\n",
    "creates a function"
   ]
  },
  {
   "cell_type": "code",
   "execution_count": null,
   "id": "4ca1a529",
   "metadata": {},
   "outputs": [],
   "source": [
    "4. What is the difference between a function and a function call?\n",
    "\n",
    "Difference between function and function call is , function is used to defined what has to be executed and \n",
    "function call is nothing but calling a function in code"
   ]
  },
  {
   "cell_type": "code",
   "execution_count": null,
   "id": "603f12a0",
   "metadata": {},
   "outputs": [],
   "source": [
    "5. How many global scopes are there in a Python program? How many local scopes?\n",
    "\n",
    "There is one global scope, and a local scope is created whenever a function is called\n"
   ]
  },
  {
   "cell_type": "code",
   "execution_count": null,
   "id": "34540283",
   "metadata": {},
   "outputs": [],
   "source": [
    "6. What happens to variables in a local scope when the function call returns?\n",
    "\n",
    "When a function returns, the local scope is destroyed, and all the variables in it are forgotten. \n",
    "we will not be able to access the out side the function\n"
   ]
  },
  {
   "cell_type": "code",
   "execution_count": null,
   "id": "42cdab01",
   "metadata": {},
   "outputs": [],
   "source": [
    "7. What is the concept of a return value? Is it possible to have a return value in an expression?\n",
    "\n",
    "The specific value returned from a function is called the return value. Yes we can use return value in an expression."
   ]
  },
  {
   "cell_type": "code",
   "execution_count": null,
   "id": "be92b432",
   "metadata": {},
   "outputs": [],
   "source": [
    "8. If a function does not have a return statement, what is the return value of a call to that function?\n",
    "\n",
    "It returns None"
   ]
  },
  {
   "cell_type": "code",
   "execution_count": null,
   "id": "a9830cdd",
   "metadata": {},
   "outputs": [],
   "source": [
    "9. How do you make a function variable refer to the global variable?\n",
    "\n",
    "By representing a variable by global keywaord in the body of a function Example : global a"
   ]
  },
  {
   "cell_type": "code",
   "execution_count": 1,
   "id": "5e938df4",
   "metadata": {},
   "outputs": [
    {
     "data": {
      "text/plain": [
       "NoneType"
      ]
     },
     "execution_count": 1,
     "metadata": {},
     "output_type": "execute_result"
    }
   ],
   "source": [
    "#10. What is the data type of None?\n",
    "\n",
    "type(None)\n",
    "\n",
    "Data type of None is Nonetype"
   ]
  },
  {
   "cell_type": "code",
   "execution_count": 2,
   "id": "e4cadbe6",
   "metadata": {},
   "outputs": [
    {
     "ename": "ModuleNotFoundError",
     "evalue": "No module named 'areallyourpetsnamederic'",
     "output_type": "error",
     "traceback": [
      "\u001b[1;31m---------------------------------------------------------------------------\u001b[0m",
      "\u001b[1;31mModuleNotFoundError\u001b[0m                       Traceback (most recent call last)",
      "\u001b[1;32m<ipython-input-2-1adae28b0b61>\u001b[0m in \u001b[0;36m<module>\u001b[1;34m\u001b[0m\n\u001b[0;32m      2\u001b[0m \u001b[1;33m\u001b[0m\u001b[0m\n\u001b[0;32m      3\u001b[0m \u001b[1;33m\u001b[0m\u001b[0m\n\u001b[1;32m----> 4\u001b[1;33m \u001b[1;32mimport\u001b[0m \u001b[0mareallyourpetsnamederic\u001b[0m\u001b[1;33m\u001b[0m\u001b[1;33m\u001b[0m\u001b[0m\n\u001b[0m",
      "\u001b[1;31mModuleNotFoundError\u001b[0m: No module named 'areallyourpetsnamederic'"
     ]
    }
   ],
   "source": [
    "#11. What does the sentence import areallyourpetsnamederic do?\n",
    "\n",
    "There's no module name areallyourpetsnamederic it will throw an error\n",
    "import areallyourpetsnamederic"
   ]
  },
  {
   "cell_type": "code",
   "execution_count": null,
   "id": "d40b303a",
   "metadata": {},
   "outputs": [],
   "source": [
    "12. If you had a bacon() feature in a spam module, what would you call it after importing spam?\n",
    "\n",
    "We would call it is as below:\n",
    "    import spam\n",
    "    spam.bacon()"
   ]
  },
  {
   "cell_type": "code",
   "execution_count": null,
   "id": "5f88f6c2",
   "metadata": {},
   "outputs": [],
   "source": [
    "13. What can you do to save a programme from crashing if it encounters an error?\n",
    "\n",
    "We can write lines of code in try block. This will not crash the programme. And in except block we can catch the \n",
    "exception."
   ]
  },
  {
   "cell_type": "code",
   "execution_count": null,
   "id": "3e5de709",
   "metadata": {},
   "outputs": [],
   "source": [
    "14. What is the purpose of the try clause? What is the purpose of the except clause?\n",
    "\n",
    "The try block is used to check some code for errors i.e the code inside the try block will execute when there is no error \n",
    "in the program. \n",
    "Whereas the code inside the except block will execute whenever the program encounters some error in the preceding try block"
   ]
  }
 ],
 "metadata": {
  "kernelspec": {
   "display_name": "Python 3",
   "language": "python",
   "name": "python3"
  },
  "language_info": {
   "codemirror_mode": {
    "name": "ipython",
    "version": 3
   },
   "file_extension": ".py",
   "mimetype": "text/x-python",
   "name": "python",
   "nbconvert_exporter": "python",
   "pygments_lexer": "ipython3",
   "version": "3.8.8"
  }
 },
 "nbformat": 4,
 "nbformat_minor": 5
}
