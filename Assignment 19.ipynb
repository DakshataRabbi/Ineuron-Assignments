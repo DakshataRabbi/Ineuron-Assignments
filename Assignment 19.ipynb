{
 "cells": [
  {
   "cell_type": "code",
   "execution_count": 95,
   "id": "ffed3998",
   "metadata": {},
   "outputs": [],
   "source": [
    "'''1. Make a class called Thing with no contents and print it.\n",
    "Then, create an object called example from this class and also print it. Are the printed values the same or different?\n",
    "'''\n",
    "# The values are different\n",
    "\n",
    "class Thing:\n",
    "    pass\n",
    "    \n"
   ]
  },
  {
   "cell_type": "code",
   "execution_count": 51,
   "id": "0a991b74",
   "metadata": {},
   "outputs": [
    {
     "name": "stdout",
     "output_type": "stream",
     "text": [
      "<__main__.Thing object at 0x0000025140001250>\n"
     ]
    }
   ],
   "source": [
    "example = Thing()\n",
    "print(example)"
   ]
  },
  {
   "cell_type": "code",
   "execution_count": 52,
   "id": "a8ac9542",
   "metadata": {},
   "outputs": [
    {
     "data": {
      "text/plain": [
       "'abc'"
      ]
     },
     "execution_count": 52,
     "metadata": {},
     "output_type": "execute_result"
    }
   ],
   "source": [
    "#2. Create a new class called Thing2 and add the value 'abc' to the letters class attribute. Letters should be printed.\n",
    "    \n",
    "class Thing2:\n",
    "    letters = 'abc'\n",
    "Thing2.letters"
   ]
  },
  {
   "cell_type": "code",
   "execution_count": 77,
   "id": "84b18938",
   "metadata": {},
   "outputs": [
    {
     "name": "stdout",
     "output_type": "stream",
     "text": [
      "xyz\n"
     ]
    }
   ],
   "source": [
    "'''3. Make yet another class called, of course, Thing3. This time, assign the value 'xyz' to\n",
    "an instance (object) attribute called letters.\n",
    "Print letters. Do you need to make an object from the class to do this?'''\n",
    "\n",
    "class Things3:\n",
    "    def __init__(self, letters):\n",
    "        self.letters = letters\n",
    "        print(self.letters)\n",
    "    \n",
    "d = Things3('xyz')\n",
    "\n",
    "  \n",
    "# Yes we needed an object."
   ]
  },
  {
   "cell_type": "code",
   "execution_count": 76,
   "id": "5ab9e31d",
   "metadata": {},
   "outputs": [
    {
     "data": {
      "text/plain": [
       "1"
      ]
     },
     "execution_count": 76,
     "metadata": {},
     "output_type": "execute_result"
    }
   ],
   "source": [
    "'''4. Create an Element class with the instance attributes name, symbol, and number. \n",
    "Create a class object with the values 'Hydrogen,' 'H,' and 1.'''\n",
    "\n",
    "class Element:\n",
    "    def __init__(self, name , symbol , number):\n",
    "        self.name = name\n",
    "        self.symbol = symbol\n",
    "        self.number = number\n",
    "        \n",
    "\n",
    "obj = Element('Hydrogen',\"H\", 1)\n",
    "obj.number\n",
    "\n"
   ]
  },
  {
   "cell_type": "code",
   "execution_count": 75,
   "id": "781e93ab",
   "metadata": {},
   "outputs": [
    {
     "data": {
      "text/plain": [
       "'H'"
      ]
     },
     "execution_count": 75,
     "metadata": {},
     "output_type": "execute_result"
    }
   ],
   "source": [
    "'''5. Make a dictionary with these keys and values: 'name': 'Hydrogen', 'symbol': 'H', 'number': 1. \n",
    "Then, create an object called hydrogen from class Element using this dictionary.\n",
    "'''\n",
    "dict = {'name':'Hydrogen', 'symbol':'H','number': 1}\n",
    "hydrogen = Element(**dict) # using dictionary unpacking **\n",
    "hydrogen.symbol"
   ]
  },
  {
   "cell_type": "code",
   "execution_count": 78,
   "id": "633278e6",
   "metadata": {},
   "outputs": [],
   "source": [
    "'''6. For the Element class, define a method called dump() \n",
    "that prints the values of the object’s attributes (name, symbol, and number).\n",
    "Create the hydrogen object from this new definition and use dump() to print its attributes.'''\n",
    "\n",
    "class Element:\n",
    "    def __init__(self,name,symbol,number):\n",
    "        self.name = name\n",
    "        self.symbol = symbol\n",
    "        self.number = number\n",
    "    def dump(self):\n",
    "        print(self.name,self.symbol,self.number)\n",
    "        \n"
   ]
  },
  {
   "cell_type": "code",
   "execution_count": 80,
   "id": "1951ef18",
   "metadata": {},
   "outputs": [],
   "source": [
    "hydrogen = Element('Hydrogen',\"H\", 1)"
   ]
  },
  {
   "cell_type": "code",
   "execution_count": 83,
   "id": "3640a60e",
   "metadata": {},
   "outputs": [
    {
     "name": "stdout",
     "output_type": "stream",
     "text": [
      "Hydrogen H 1\n"
     ]
    }
   ],
   "source": [
    "hydrogen.dump()\n"
   ]
  },
  {
   "cell_type": "code",
   "execution_count": 90,
   "id": "656584d0",
   "metadata": {},
   "outputs": [],
   "source": [
    "'''7. Call print(hydrogen). In the definition of Element, change the name of method dump to __str__, \n",
    "create a new hydrogen object, and call print(hydrogen) again.'''\n",
    "\n",
    "class Element:\n",
    "    def __init__(self,name,symbol,number):\n",
    "        self.name = name\n",
    "        self.symbol = symbol\n",
    "        self.number = number\n",
    "    def __str__(self):\n",
    "        return ('name=%s, symbol=%s, number=%s' %\n",
    "                (self.name, self.symbol, self.number))\n",
    "        "
   ]
  },
  {
   "cell_type": "code",
   "execution_count": 91,
   "id": "bf984f7b",
   "metadata": {},
   "outputs": [],
   "source": [
    "hydrogen = Element('Hydrogen',\"H\", 1)"
   ]
  },
  {
   "cell_type": "code",
   "execution_count": 92,
   "id": "0f8891f4",
   "metadata": {},
   "outputs": [
    {
     "name": "stdout",
     "output_type": "stream",
     "text": [
      "name=Hydrogen, symbol=H, number=1\n"
     ]
    }
   ],
   "source": [
    "\n",
    "print (hydrogen)"
   ]
  },
  {
   "cell_type": "code",
   "execution_count": 94,
   "id": "48b57776",
   "metadata": {},
   "outputs": [],
   "source": [
    "'''8. Modify Element to make the attributes name, symbol, and number private. \n",
    "Define a getter property for each to return its value.\n",
    "'''\n",
    "class Element:\n",
    "    def __init__(self,name,symbol,number):\n",
    "        self.name = name\n",
    "        self.symbol = symbol\n",
    "        self.__number = number\n",
    "    @property\n",
    "    def name(self):\n",
    "            return self.__name\n",
    "    @property\n",
    "    def symbol(self):\n",
    "            return self.__symbol\n",
    "    @property\n",
    "    def number(self):\n",
    "            return self.__number\n",
    "        \n",
    "\n"
   ]
  },
  {
   "cell_type": "code",
   "execution_count": 68,
   "id": "b544be5d",
   "metadata": {},
   "outputs": [],
   "source": [
    "'''9. Define three classes: Bear, Rabbit, and Octothorpe. For each, define only one method: eats(). \n",
    "This should return 'berries' (Bear), 'clover' (Rabbit), or 'campers' (Octothorpe). \n",
    "Create one object from each and print what it eats.\n",
    "'''\n",
    "\n",
    "class Bear:\n",
    "    def eats(self):\n",
    "        print('berries')\n",
    "        \n",
    "class Rabbit:\n",
    "    def eats(self):\n",
    "        print('clover')\n",
    "        \n",
    "class Octothorpe:\n",
    "    def eats(self):\n",
    "        print('campers')\n",
    "        \n"
   ]
  },
  {
   "cell_type": "code",
   "execution_count": 70,
   "id": "42c1e5e2",
   "metadata": {},
   "outputs": [
    {
     "name": "stdout",
     "output_type": "stream",
     "text": [
      "berries\n"
     ]
    }
   ],
   "source": [
    "a = Bear()\n",
    "a.eats()"
   ]
  },
  {
   "cell_type": "code",
   "execution_count": 71,
   "id": "f940986e",
   "metadata": {},
   "outputs": [
    {
     "name": "stdout",
     "output_type": "stream",
     "text": [
      "clover\n"
     ]
    }
   ],
   "source": [
    "b = Rabbit()\n",
    "b.eats()"
   ]
  },
  {
   "cell_type": "code",
   "execution_count": 72,
   "id": "eae64296",
   "metadata": {},
   "outputs": [
    {
     "name": "stdout",
     "output_type": "stream",
     "text": [
      "campers\n"
     ]
    }
   ],
   "source": [
    "c = Octothorpe()\n",
    "c.eats()"
   ]
  },
  {
   "cell_type": "code",
   "execution_count": 65,
   "id": "645ffc3a",
   "metadata": {},
   "outputs": [],
   "source": [
    "'''10. Define these classes: Laser, Claw, and SmartPhone. Each has only one method: does(). \n",
    "This returns 'disintegrate' (Laser), 'crush' (Claw), or 'ring' (SmartPhone). \n",
    "Then, define the class Robot that has one instance (object) of each of these. \n",
    "Define a does() method for the Robot that prints what its component objects do.'''\n",
    "\n",
    "\n",
    "class Laser:\n",
    "    def does(self):\n",
    "        return('disintegrate')\n",
    "\n",
    "class Claw:\n",
    "    def does(self):\n",
    "        return('crush')\n",
    "        \n",
    "class SmartPhone:\n",
    "    def does(self):\n",
    "        return('ring')\n",
    "        \n",
    "class Robot:\n",
    "    def __init__(self):\n",
    "        self.laser = Laser()\n",
    "        self.claw = Claw()\n",
    "        self.smartphone = SmartPhone()\n",
    "    def does(self):\n",
    "        return ('Laser is %s, Claw is %s, SmartPhone is %s' % (self.laser.does(),self.claw.does(),self.smartphone.does()))\n",
    "        \n"
   ]
  },
  {
   "cell_type": "code",
   "execution_count": 66,
   "id": "896452de",
   "metadata": {},
   "outputs": [],
   "source": [
    "rob = Robot()"
   ]
  },
  {
   "cell_type": "code",
   "execution_count": 67,
   "id": "a9c50d16",
   "metadata": {},
   "outputs": [
    {
     "data": {
      "text/plain": [
       "'Laser is disintegrate, Claw is crush, SmartPhone is ring'"
      ]
     },
     "execution_count": 67,
     "metadata": {},
     "output_type": "execute_result"
    }
   ],
   "source": [
    "rob.does()"
   ]
  }
 ],
 "metadata": {
  "kernelspec": {
   "display_name": "Python 3",
   "language": "python",
   "name": "python3"
  },
  "language_info": {
   "codemirror_mode": {
    "name": "ipython",
    "version": 3
   },
   "file_extension": ".py",
   "mimetype": "text/x-python",
   "name": "python",
   "nbconvert_exporter": "python",
   "pygments_lexer": "ipython3",
   "version": "3.8.8"
  }
 },
 "nbformat": 4,
 "nbformat_minor": 5
}
