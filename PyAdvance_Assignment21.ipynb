{
 "cells": [
  {
   "cell_type": "markdown",
   "id": "1d3274c8",
   "metadata": {},
   "source": [
    "Q1. What is a probability distribution, exactly? If the values are meant to be random, how can you predict them at all?\n",
    "\n",
    "A probability distribution is a statistical function that describes all the possible values and probabilities for a random variable within a given range. This range will be bound by the minimum and maximum possible values, but where the possible value would be plotted on the probability distribution will be determined by a number of factors."
   ]
  },
  {
   "cell_type": "markdown",
   "id": "5de41e23",
   "metadata": {},
   "source": [
    "Q2. Is there a distinction between true random numbers and pseudo-random numbers, if there is one? Why are the latter considered “good enough”?\n",
    "\n",
    "The difference between true random number(TRN) and pseudo-random number(PRN), is that TRN's are unpredictable \n",
    "physical values means (like atmospheric noise), and PRN are generated using mathematical algorithms (completely\n",
    "computer-generated).The PRN's are good enough as they follow a uniform distribution and the seed for generating\n",
    "PRN is unpredictable and unknown.\n"
   ]
  },
  {
   "cell_type": "markdown",
   "id": "4b1a7a83",
   "metadata": {},
   "source": [
    "Q3. What are the two main factors that influence the behaviour of a \"normal\" probability distribution?\n",
    "\n",
    "The two main parameters of a (normal) distribution are the mean and standard deviation. The parameters determine the shape and probabilities of the distribution. The shape of the distribution changes as the parameter values change.\n",
    "Mean:\n",
    "In a normal distribution graph, the mean defines the location of the peak, and most of the data points are clustered around the mean. Any changes made to the value of the mean move the curve either to the left or right along the X-axis.\n",
    "\n",
    "Standard Deviation:\n",
    "The standard deviation measures the dispersion of the data points relative to the mean. It determines how far away from the mean the data points are positioned and represents the distance between the mean and the observations.\n"
   ]
  },
  {
   "cell_type": "markdown",
   "id": "ed8fc671",
   "metadata": {},
   "source": [
    "Q4. Provide a real-life example of a normal distribution.\n",
    "\n",
    "Height of the population is the example of normal distribution. Most of the people in a specific population are of average height. The number of people taller and shorter than the average height people is almost equal, and a very small number of people are either extremely tall or extremely short. However, height is not a single characteristic, several genetic and environmental factors influence height. Therefore, it follows the normal distribution."
   ]
  },
  {
   "cell_type": "markdown",
   "id": "e9124841",
   "metadata": {},
   "source": [
    "Q5. In the short term, how can you expect a probability distribution to behave? What do you think will happen as the number of trials grows?\n",
    "\n",
    " When trails are less, the variance will large. As the number of trials increase , the variance will reduce.\n"
   ]
  },
  {
   "cell_type": "markdown",
   "id": "96f1d7b6",
   "metadata": {},
   "source": [
    "Q6. What kind of object can be shuffled by using random.shuffle?\n",
    "\n",
    "The shuffle() method in the random module is used to shuffle a list. It takes a sequence, such as a list, and reorganizes the order of the items.\n",
    "\n",
    "This shuffle() method changes the original list, it does not return a new list. The ordering of lists is lost in this process which is the only drawback of this method.\n",
    "\n",
    "Syntax\n",
    "random.shuffle(sequence, function)"
   ]
  },
  {
   "cell_type": "markdown",
   "id": "92e5eb22",
   "metadata": {},
   "source": [
    "Q7. Describe the math package's general categories of functions.\n",
    "The math module is a standard module in Python and is always available. To use mathematical functions under this module, you have to import the module using import math.\n",
    "\n",
    "Here are some of the examples:\n",
    "\n",
    "Function\tDescription\n",
    "ceil(x)\tReturns the smallest integer greater than or equal to x.\n",
    "copysign(x, y)\tReturns x with the sign of y\n",
    "fabs(x)\tReturns the absolute value of x\n",
    "factorial(x)\tReturns the factorial of x\n",
    "floor(x)\tReturns the largest integer less than or equal to x\n",
    "fmod(x, y)\tReturns the remainder when x is divided by y\n",
    "frexp(x)\tReturns the mantissa and exponent of x as the pair (m, e)\n",
    "fsum(iterable)\tReturns an accurate floating point sum of values in the iterable\n",
    "isfinite(x)\tReturns True if x is neither an infinity nor a NaN (Not a Number)\n",
    "isinf(x)\tReturns True if x is a positive or negative infinity\n",
    "isnan(x)\tReturns True if x is a NaN\n",
    "ldexp(x, i)\tReturns x * (2**i)"
   ]
  },
  {
   "cell_type": "markdown",
   "id": "6bcf8de6",
   "metadata": {},
   "source": [
    "Q8. What is the relationship between exponentiation and logarithms?\n",
    "The logarithmic and exponential systems both have mutual direct relationship mathematically. So, the knowledge on the exponentiation is required to start studying the logarithms because the logarithm is an inverse operation of exponentiation."
   ]
  },
  {
   "cell_type": "markdown",
   "id": "5ab7f8d9",
   "metadata": {},
   "source": [
    "Q9. What are the three logarithmic functions that Python supports?\n",
    "Python offers many inbuild logarithmic functions under the module “math” which allows us to compute logs using a single line. There are 4 variants of logarithmic functions, all of which are discussed in this article.\n"
   ]
  },
  {
   "cell_type": "code",
   "execution_count": 1,
   "id": "d707dfef",
   "metadata": {},
   "outputs": [
    {
     "name": "stdout",
     "output_type": "stream",
     "text": [
      "Natural logarithm of 14 is : 2.6390573296152584\n",
      "Logarithm base 5 of 14 is : 1.6397385131955606\n"
     ]
    }
   ],
   "source": [
    "#1. log(a,(Base)) : This function is used to compute the natural logarithm (Base e) of a. If 2 arguments are passed,\n",
    "#it computes the logarithm of the desired base of argument a, numerically value of log(a)/log(Base).\n",
    " \n",
    "# Python code to demonstrate the working of\n",
    "# log(a,Base)\n",
    "\n",
    "import math\n",
    "\n",
    "# Printing the log base e of 14\n",
    "print (\"Natural logarithm of 14 is : \", end=\"\")\n",
    "print (math.log(14))\n",
    "\n",
    "# Printing the log base 5 of 14\n",
    "print (\"Logarithm base 5 of 14 is : \", end=\"\")\n",
    "print (math.log(14,5))\n"
   ]
  },
  {
   "cell_type": "code",
   "execution_count": 2,
   "id": "72b39fc0",
   "metadata": {},
   "outputs": [
    {
     "name": "stdout",
     "output_type": "stream",
     "text": [
      "Logarithm base 2 of 14 is : 3.807354922057604\n"
     ]
    }
   ],
   "source": [
    "#2. log2(a) : This function is used to compute the logarithm base 2 of a. Displays more accurate result than log(a,2)\n",
    "\n",
    "# Python code to demonstrate the working of\n",
    "# log2(a)\n",
    "\n",
    "import math\n",
    "\n",
    "# Printing the log base 2 of 14\n",
    "print (\"Logarithm base 2 of 14 is : \", end=\"\")\n",
    "print (math.log2(14))\n"
   ]
  },
  {
   "cell_type": "code",
   "execution_count": 3,
   "id": "1097136d",
   "metadata": {},
   "outputs": [
    {
     "name": "stdout",
     "output_type": "stream",
     "text": [
      "Logarithm base 10 of 14 is : 1.146128035678238\n"
     ]
    }
   ],
   "source": [
    "#3. log10(a) : This function is used to compute the logarithm base 10 of a. Displays more accurate result than log(a,10).\n",
    "# Python code to demonstrate the working of\n",
    "# log10(a)\n",
    "\n",
    "import math\n",
    "\n",
    "# Printing the log base 10 of 14\n",
    "print (\"Logarithm base 10 of 14 is : \", end=\"\")\n",
    "print (math.log10(14))\n"
   ]
  },
  {
   "cell_type": "code",
   "execution_count": 4,
   "id": "df2bc7ff",
   "metadata": {},
   "outputs": [
    {
     "name": "stdout",
     "output_type": "stream",
     "text": [
      "Logarithm(1+a) value of 14 is : 2.70805020110221\n"
     ]
    }
   ],
   "source": [
    "#4. log1p(a) : This function is used to compute logarithm(1+a) . \n",
    "# Python code to demonstrate the working of\n",
    "# log1p(a)\n",
    "\n",
    "import math\n",
    "\n",
    "# Printing the log(1+a) of 14\n",
    "print (\"Logarithm(1+a) value of 14 is : \", end=\"\")\n",
    "print (math.log1p(14))\n"
   ]
  },
  {
   "cell_type": "code",
   "execution_count": null,
   "id": "3df4351b",
   "metadata": {},
   "outputs": [],
   "source": []
  }
 ],
 "metadata": {
  "kernelspec": {
   "display_name": "Python 3",
   "language": "python",
   "name": "python3"
  },
  "language_info": {
   "codemirror_mode": {
    "name": "ipython",
    "version": 3
   },
   "file_extension": ".py",
   "mimetype": "text/x-python",
   "name": "python",
   "nbconvert_exporter": "python",
   "pygments_lexer": "ipython3",
   "version": "3.8.8"
  }
 },
 "nbformat": 4,
 "nbformat_minor": 5
}
