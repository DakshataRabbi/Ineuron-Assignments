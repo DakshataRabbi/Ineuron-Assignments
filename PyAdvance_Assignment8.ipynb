{
 "cells": [
  {
   "cell_type": "markdown",
   "id": "058982e4",
   "metadata": {},
   "source": [
    "Q1. What are the two latest user-defined exception constraints in Python 3.X?\n",
    "\n",
    "raise statement - This is used to raise an inbuilt exception explicitly.\n",
    "assert statement - when condition in assert statement is true, program is executed normally. When condition is false, program gives an AssertionError."
   ]
  },
  {
   "cell_type": "markdown",
   "id": "25af5892",
   "metadata": {},
   "source": [
    "Q2. How are class-based exceptions that have been raised matched to handlers?\n",
    "\n",
    "Class-based exceptions are either raised by the RAISE EXCEPTION or by the runtime environment. If a class-based exception occurs, the system interrupts the normal program flow and tries to find a suitable handler. If it does not find a handler, a runtime error occurs."
   ]
  },
  {
   "cell_type": "markdown",
   "id": "c926d915",
   "metadata": {},
   "source": [
    "Q3. Describe two methods for attaching context information to exception artefacts.\n",
    "\n",
    "By using logging.exception() method, we can log log messages with level ERROR on the logger.\n",
    "By using raise keyword. It will also display Traceback of the recent exception raised."
   ]
  },
  {
   "cell_type": "markdown",
   "id": "6f04574d",
   "metadata": {},
   "source": [
    "Q4. Describe two methods for specifying the text of an exception object's error message.\n",
    "\n",
    "We can print the text of an exception, by using the object of an Exception class. We can access different attributes like message, args, traceback from that object.\n",
    "By using logging.error() method"
   ]
  },
  {
   "cell_type": "markdown",
   "id": "6138ccfe",
   "metadata": {},
   "source": [
    "Q5. Why do you no longer use string-based exceptions?\n",
    "\n",
    "In Python versions 1.5 and earlier, Exceptions were strings and not classes. Now all exceptions are classes, derived from the superclass BaseException. With classes it is more efficiently handled as classes have many useful features."
   ]
  },
  {
   "cell_type": "code",
   "execution_count": null,
   "id": "ea8c5ee4",
   "metadata": {},
   "outputs": [],
   "source": []
  },
  {
   "cell_type": "code",
   "execution_count": null,
   "id": "7433679d",
   "metadata": {},
   "outputs": [],
   "source": []
  }
 ],
 "metadata": {
  "kernelspec": {
   "display_name": "Python 3",
   "language": "python",
   "name": "python3"
  },
  "language_info": {
   "codemirror_mode": {
    "name": "ipython",
    "version": 3
   },
   "file_extension": ".py",
   "mimetype": "text/x-python",
   "name": "python",
   "nbconvert_exporter": "python",
   "pygments_lexer": "ipython3",
   "version": "3.8.8"
  }
 },
 "nbformat": 4,
 "nbformat_minor": 5
}
