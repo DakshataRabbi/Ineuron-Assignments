{
 "cells": [
  {
   "cell_type": "markdown",
   "id": "1209c1b8",
   "metadata": {},
   "source": [
    "Q1. What is the meaning of multiple inheritance?\n",
    "\n",
    "Multiple Inheritance is a type of inheritance in which one class can inherit properties (attributes and methods) of more than one parent classes."
   ]
  },
  {
   "cell_type": "code",
   "execution_count": 1,
   "id": "d2c2d260",
   "metadata": {},
   "outputs": [],
   "source": [
    "class xyz():\n",
    "    def __init__(self, a,b,c):\n",
    "        self.a = a\n",
    "        self.b = b\n",
    "        self.c = c\n",
    "        \n",
    "    def test(self):\n",
    "        print(\"This is my mth of xyz class\")\n",
    "        \n",
    "class xyz1:\n",
    "    def __init__(self, p,q,r):\n",
    "        self.p = p\n",
    "        self.q = q\n",
    "        self.r = r\n",
    "    def test1(self):\n",
    "        print(\"This is my meth of xyz1 class\")\n",
    "        \n",
    "\n",
    "class child(xyz1 , xyz):\n",
    "    def __init__(self, *args, **kwargs):\n",
    "        xyz.__init__(self,*args)\n",
    "        xyz1.__init__(self,**kwargs)"
   ]
  },
  {
   "cell_type": "code",
   "execution_count": 2,
   "id": "9b4b8724",
   "metadata": {},
   "outputs": [],
   "source": [
    "n = child(4 ,5 ,6 , p = 8 , q = 7 , r = 10)"
   ]
  },
  {
   "cell_type": "code",
   "execution_count": 3,
   "id": "c3406279",
   "metadata": {},
   "outputs": [
    {
     "data": {
      "text/plain": [
       "8"
      ]
     },
     "execution_count": 3,
     "metadata": {},
     "output_type": "execute_result"
    }
   ],
   "source": [
    "n.p\n"
   ]
  },
  {
   "cell_type": "code",
   "execution_count": 4,
   "id": "af2b3af7",
   "metadata": {},
   "outputs": [
    {
     "data": {
      "text/plain": [
       "7"
      ]
     },
     "execution_count": 4,
     "metadata": {},
     "output_type": "execute_result"
    }
   ],
   "source": [
    "n.q"
   ]
  },
  {
   "cell_type": "markdown",
   "id": "ab1f3765",
   "metadata": {},
   "source": [
    "Q2. What is the concept of delegation?\n",
    "\n",
    "Delegation is an object oriented technique (also called a design pattern). Let's say you have an object x and want to change the behaviour of just one of its methods. You can create a new class that provides a new implementation of the method you're interested in changing and delegates all other methods to the corresponding method of x.\n",
    "\n",
    "The delegation is accomplished via the getattr method; consult the language reference for more information about controlling attribute access."
   ]
  },
  {
   "cell_type": "code",
   "execution_count": null,
   "id": "30d9f525",
   "metadata": {},
   "outputs": [],
   "source": [
    "Q3. What is the concept of composition?\n",
    "\n",
    "Composition basically enables us for creating complex types objects by combining other types of objects in the program."
   ]
  },
  {
   "cell_type": "markdown",
   "id": "e5246891",
   "metadata": {},
   "source": [
    "Q4. What are bound methods and how do we use them?\n",
    "\n",
    "A bound method is the one which is dependent on the instance of the class as the first argument. It passes the instance as the first argument which is used to access the variables and functions. "
   ]
  },
  {
   "cell_type": "code",
   "execution_count": 5,
   "id": "90112037",
   "metadata": {},
   "outputs": [
    {
     "name": "stdout",
     "output_type": "stream",
     "text": [
      "<bound method A.func of <__main__.A object at 0x00000266526DC490>>\n"
     ]
    }
   ],
   "source": [
    " \n",
    "class A:\n",
    "  \n",
    "    def func(self, arg):\n",
    "        self.arg = arg\n",
    "        print(\"Value of arg = \", arg)\n",
    "  \n",
    "  \n",
    "\n",
    "obj = A()  \n",
    "  \n",
    "\n",
    "print(obj.func)"
   ]
  },
  {
   "cell_type": "markdown",
   "id": "83bf2a83",
   "metadata": {},
   "source": [
    "Q5. What is the purpose of pseudoprivate attributes?\n",
    "\n",
    "The pseudo-private attributes implemented through double underscores essentially compress variable names so that they cannot be called directly from the outside. Why use pseudo-private attributes The use of pseudo-private attributes is to avoid conflicts caused by multiple classes assigning the same attributes in the class tree"
   ]
  },
  {
   "cell_type": "code",
   "execution_count": null,
   "id": "52605b26",
   "metadata": {},
   "outputs": [],
   "source": []
  },
  {
   "cell_type": "code",
   "execution_count": null,
   "id": "90ac4634",
   "metadata": {},
   "outputs": [],
   "source": []
  },
  {
   "cell_type": "code",
   "execution_count": null,
   "id": "10bce243",
   "metadata": {},
   "outputs": [],
   "source": []
  }
 ],
 "metadata": {
  "kernelspec": {
   "display_name": "Python 3",
   "language": "python",
   "name": "python3"
  },
  "language_info": {
   "codemirror_mode": {
    "name": "ipython",
    "version": 3
   },
   "file_extension": ".py",
   "mimetype": "text/x-python",
   "name": "python",
   "nbconvert_exporter": "python",
   "pygments_lexer": "ipython3",
   "version": "3.8.8"
  }
 },
 "nbformat": 4,
 "nbformat_minor": 5
}
