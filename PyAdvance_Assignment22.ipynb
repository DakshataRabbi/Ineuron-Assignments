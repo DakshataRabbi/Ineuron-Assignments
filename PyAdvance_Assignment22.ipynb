{
 "cells": [
  {
   "cell_type": "markdown",
   "id": "26663200",
   "metadata": {},
   "source": [
    "Q1. What are the benefits of the built-in array package, if any?\n",
    "\n",
    "The following are some advantages of arrays:\n",
    "\n",
    "Arrays are similar to lists. The main difference is that arrays can store only one type of elements; whereas, lists can store different types of elements. When dealing with a huge number of elements, arrays use less memory than lists and they offer faster execution than lists.\n",
    "\n",
    "The size of the array is not fixed in Python. Hence, we need not specify how many elements we are going to store into an array in the beginning.\n",
    "\n",
    "Arrays can grow or shrink in memory dynamically (during runtime).\n",
    "\n",
    "Arrays are useful to handle a collection of elements like a group of numbers or characters.\n",
    "\n",
    "Methods that are useful to process the elements of any array are available in 'array' module."
   ]
  },
  {
   "cell_type": "markdown",
   "id": "8499157b",
   "metadata": {},
   "source": [
    "Q2. What are some of the array package's limitations?\n",
    "\n",
    "The traditional array module does not support multi-dimensional arrays.\n",
    "An array which is formed will be homogeneous. That is, in an integer array only integer values can be stored, while in a float array only floating value and character array can have only characters."
   ]
  },
  {
   "cell_type": "markdown",
   "id": "c4e7cc4b",
   "metadata": {},
   "source": [
    "Q3. Describe the main differences between the array and numpy packages.\n",
    "\n",
    "The array package doesn't provide any help with numerical calculation with the items insdie it in number form \n",
    "while NumPy give you a wide variety of numerical operations. An array is a single dimensional entity which hold\n",
    "the numerical data, while numpy can have more than 1 dimension.In case of array, item can be accessed by its\n",
    "index position and it is easy task while in numpy item is accessed by its column and row index, which makes \n",
    "it slightly time taking. Same goes with appending operation.In case of array we do not form a tabular \n",
    "structure, while in numpy it forms a tabular structure."
   ]
  },
  {
   "cell_type": "code",
   "execution_count": 3,
   "id": "c8bd06af",
   "metadata": {},
   "outputs": [
    {
     "data": {
      "text/plain": [
       "array([[[6.23042070e-307, 4.67296746e-307],\n",
       "        [1.69121096e-306, 1.29061074e-306],\n",
       "        [8.34441742e-308, 1.78022342e-306],\n",
       "        [6.23058028e-307, 9.79107872e-307]],\n",
       "\n",
       "       [[6.89807188e-307, 7.56594375e-307],\n",
       "        [6.23060065e-307, 1.78021527e-306],\n",
       "        [8.34454050e-308, 1.11261027e-306],\n",
       "        [1.15706896e-306, 1.33512173e-306]]])"
      ]
     },
     "execution_count": 3,
     "metadata": {},
     "output_type": "execute_result"
    }
   ],
   "source": [
    "#Q4. Explain the distinctions between the empty, ones, and zeros functions.\n",
    "\n",
    "#The empty() function of NumPy creates an uninitialized array having shape and dtype as given to the empty() function.\n",
    "\n",
    "import numpy as np\n",
    "np.empty((2,4,2))"
   ]
  },
  {
   "cell_type": "code",
   "execution_count": 5,
   "id": "eb3db72b",
   "metadata": {},
   "outputs": [
    {
     "data": {
      "text/plain": [
       "array([0., 0., 0., 0., 0.])"
      ]
     },
     "execution_count": 5,
     "metadata": {},
     "output_type": "execute_result"
    }
   ],
   "source": [
    "#The zeros() function of NumPy creates a ndarray initialized with 0 values having shape and dtype as given as input.\n",
    "np.zeros(5)"
   ]
  },
  {
   "cell_type": "code",
   "execution_count": 6,
   "id": "e1ba68ff",
   "metadata": {},
   "outputs": [
    {
     "data": {
      "text/plain": [
       "array([0., 0.])"
      ]
     },
     "execution_count": 6,
     "metadata": {},
     "output_type": "execute_result"
    }
   ],
   "source": [
    "#The ones() function of NumPy creates a ndarray initialized with 1 having shape and dtype as given as input.\n",
    "np.zeros(2)"
   ]
  },
  {
   "cell_type": "markdown",
   "id": "8387aeaa",
   "metadata": {},
   "source": [
    "Q5. In the fromfunction function, which is used to construct new arrays, what is the role of the callable argument?\n",
    "\n",
    "function : [callable] The function is called with N parameters, where N is the rank of shape. Each parameter represents the coordinates of the array varying along a specific axis."
   ]
  },
  {
   "cell_type": "code",
   "execution_count": 9,
   "id": "dd980954",
   "metadata": {},
   "outputs": [
    {
     "name": "stdout",
     "output_type": "stream",
     "text": [
      "[4 5 3 4 5 4]\n"
     ]
    }
   ],
   "source": [
    "#Q6. What happens when a numpy array is combined with a single-value operand (a scalar, such as an int or a floating-point value) through addition, as in the expression A + n?\n",
    "\n",
    "b = np.array([2,3,1,2,3,2])\n",
    "print(b+2)"
   ]
  },
  {
   "cell_type": "code",
   "execution_count": 13,
   "id": "af5c114c",
   "metadata": {},
   "outputs": [
    {
     "ename": "SyntaxError",
     "evalue": "invalid syntax (<ipython-input-13-bc5e68cfa77c>, line 4)",
     "output_type": "error",
     "traceback": [
      "\u001b[1;36m  File \u001b[1;32m\"<ipython-input-13-bc5e68cfa77c>\"\u001b[1;36m, line \u001b[1;32m4\u001b[0m\n\u001b[1;33m    print(b += 2)\u001b[0m\n\u001b[1;37m            ^\u001b[0m\n\u001b[1;31mSyntaxError\u001b[0m\u001b[1;31m:\u001b[0m invalid syntax\n"
     ]
    }
   ],
   "source": [
    "#Q7. Can array-to-scalar operations use combined operation-assign operators (such as += or *=)? What is the outcome?\n",
    "\n",
    "b = np.array([2,3,1,2,3,2])\n",
    "print(b += 2)"
   ]
  },
  {
   "cell_type": "code",
   "execution_count": null,
   "id": "bfad843a",
   "metadata": {},
   "outputs": [],
   "source": [
    "Q8. Does a numpy array contain fixed-length strings? What happens if you allocate a longer string to one of these arrays?\n",
    "\n",
    "Yes it is possible that we can include a string of fixed length in numpy array. The dtype of any numpy array \n",
    "containing string values is the maximum length of any string present in the array.\n",
    "Once set, it will only be able to store new string having length not more than the maximum length at the time \n",
    "of the creation. If we try to reassign some another string value having length greater than the maximum length\n",
    "of the existing elements, it simply discards all the values beyond the maximum length accept upto those values \n",
    "which are under the limit.\n",
    "\n"
   ]
  },
  {
   "cell_type": "code",
   "execution_count": null,
   "id": "b8dfa0dd",
   "metadata": {},
   "outputs": [],
   "source": [
    "Q9. What happens when you combine two numpy arrays using an operation like addition (+) or multiplication (*)? What are the conditions for combining two numpy arrays?\n",
    "\n",
    "It will simply add or multiply element to element at same position.The only requirement which must be met are:\n",
    "1)Data type should be same.\n",
    "2) Shape of the two matrices must be same\n"
   ]
  },
  {
   "cell_type": "code",
   "execution_count": 4,
   "id": "6b303142",
   "metadata": {},
   "outputs": [
    {
     "name": "stdout",
     "output_type": "stream",
     "text": [
      "[True, True, masked, masked]\n",
      "1\n"
     ]
    }
   ],
   "source": [
    "#Q10. What is the best way to use a Boolean array to mask another array?\n",
    "import numpy as np\n",
    "y = np.array([True,True,False,True])          \n",
    "x = np.array([1,2,3,4])         \n",
    "m = np.ma.masked_where(x>2,y)  \n",
    "print(list(m))\n",
    "print(m.ndim)"
   ]
  },
  {
   "cell_type": "code",
   "execution_count": null,
   "id": "1329f50c",
   "metadata": {},
   "outputs": [],
   "source": [
    "#Q11. What are three different ways to get the standard deviation of a wide collection of data using both standard Python and its packages? Sort the three of them by how quickly they execute.\n",
    "\n",
    "#Standard deviation can be calculated in many ways. If wee see the formula of SD, it says \n",
    "#std= Square Root of [ Summation of [square of (x-mean)/number of observation] ] .So this can be achive by:\n",
    "    \n",
    "1)Using math module :\n",
    "import math\n",
    "N = 1\n",
    "avg=a\n",
    "total=N\n",
    "x=[1,2]\n",
    "SD=math.sqrt((1-a)**2+(2-a)**2/N)"
   ]
  },
  {
   "cell_type": "code",
   "execution_count": null,
   "id": "1f4d9255",
   "metadata": {},
   "outputs": [],
   "source": [
    "#2)Using Numpy Array package\n",
    "import numpy as np\n",
    "SD=np.std(x)"
   ]
  },
  {
   "cell_type": "code",
   "execution_count": null,
   "id": "56d2e536",
   "metadata": {},
   "outputs": [],
   "source": [
    "#3) General calculation without using any package\n",
    "SD= (((1-avg)**2 + (2-avg)**2)/N)**1/2"
   ]
  },
  {
   "cell_type": "markdown",
   "id": "e0a777c6",
   "metadata": {},
   "source": [
    "12. What is the dimensionality of a Boolean mask-generated array?\n",
    "A boolean array. Its shape will be used as window_size, and its entries are used to mask every window, resulting in dimensionality a.ndim + 1 as the final result, just as in the case of flatten is True.\n"
   ]
  }
 ],
 "metadata": {
  "kernelspec": {
   "display_name": "Python 3",
   "language": "python",
   "name": "python3"
  },
  "language_info": {
   "codemirror_mode": {
    "name": "ipython",
    "version": 3
   },
   "file_extension": ".py",
   "mimetype": "text/x-python",
   "name": "python",
   "nbconvert_exporter": "python",
   "pygments_lexer": "ipython3",
   "version": "3.8.8"
  }
 },
 "nbformat": 4,
 "nbformat_minor": 5
}
