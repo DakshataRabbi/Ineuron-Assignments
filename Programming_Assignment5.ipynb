{
 "cells": [
  {
   "cell_type": "code",
   "execution_count": null,
   "id": "1dd75193",
   "metadata": {},
   "outputs": [],
   "source": [
    "Write a Python Program to Find LCM?\n",
    "Write a Python Program to Find HCF?\n",
    "Write a Python Program to Convert Decimal to Binary, Octal and Hexadecimal?\n",
    "Write a Python Program To Find ASCII value of a character?\n",
    "Write a Python Program to Make a Simple Calculator with 4 basic mathematical operations?\n"
   ]
  },
  {
   "cell_type": "code",
   "execution_count": 2,
   "id": "0e32e0ea",
   "metadata": {},
   "outputs": [
    {
     "name": "stdout",
     "output_type": "stream",
     "text": [
      "The L.C.M. is 216\n"
     ]
    }
   ],
   "source": [
    "#Write a Python Program to Find LCM?\n",
    "\n",
    "def compute_lcm(x, y):\n",
    "\n",
    "   # choose the greater number\n",
    "   if x > y:\n",
    "       greater = x\n",
    "   else:\n",
    "       greater = y\n",
    "\n",
    "   while(True):\n",
    "       if((greater % x == 0) and (greater % y == 0)):\n",
    "           lcm = greater\n",
    "           break\n",
    "       greater += 1\n",
    "\n",
    "   return lcm\n",
    "\n",
    "num1 = 54\n",
    "num2 = 24\n",
    "\n",
    "print(\"The L.C.M. is\", compute_lcm(num1, num2))"
   ]
  },
  {
   "cell_type": "code",
   "execution_count": 3,
   "id": "23fcb52f",
   "metadata": {},
   "outputs": [
    {
     "data": {
      "text/plain": [
       "216"
      ]
     },
     "execution_count": 3,
     "metadata": {},
     "output_type": "execute_result"
    }
   ],
   "source": [
    "compute_lcm(54,24)\n"
   ]
  },
  {
   "cell_type": "code",
   "execution_count": 1,
   "id": "fb64e362",
   "metadata": {},
   "outputs": [
    {
     "name": "stdout",
     "output_type": "stream",
     "text": [
      "The H.C.F. is 6\n"
     ]
    }
   ],
   "source": [
    "#Write a Python Program to Find HCF?\n",
    "\n",
    "\n",
    "def compute_hcf(x, y):\n",
    "\n",
    "# choose the smaller number\n",
    "    if x > y:\n",
    "        smaller = y\n",
    "    else:\n",
    "        smaller = x\n",
    "    for i in range(1, smaller+1):\n",
    "        if((x % i == 0) and (y % i == 0)):\n",
    "            hcf = i \n",
    "    return hcf\n",
    "\n",
    "num1 = 54 \n",
    "num2 = 24\n",
    "\n",
    "print(\"The H.C.F. is\", compute_hcf(num1, num2))\n"
   ]
  },
  {
   "cell_type": "code",
   "execution_count": 3,
   "id": "27f226b8",
   "metadata": {},
   "outputs": [
    {
     "name": "stdout",
     "output_type": "stream",
     "text": [
      "The decimal value of 522 is:\n",
      "0b1000001010 in binary.\n",
      "0o1012 in octal.\n",
      "0x20a in hexadecimal.\n"
     ]
    }
   ],
   "source": [
    "#Write a Python Program to Convert Decimal to Binary, Octal and Hexadecimal?\n",
    "\n",
    "dec = 522\n",
    "\n",
    "print(\"The decimal value of\", dec, \"is:\")\n",
    "print(bin(dec), \"in binary.\")\n",
    "print(oct(dec), \"in octal.\")\n",
    "print(hex(dec), \"in hexadecimal.\")\n"
   ]
  },
  {
   "cell_type": "code",
   "execution_count": 13,
   "id": "f155dc12",
   "metadata": {},
   "outputs": [
    {
     "name": "stdout",
     "output_type": "stream",
     "text": [
      "Please enter any Character  :  A\n",
      "The ASCII Value of A = 65\n"
     ]
    }
   ],
   "source": [
    "#Write a Python Program To Find ASCII value of a character?\n",
    "\n",
    "\n",
    "ch = input(\"Please enter any Character  :  \")\n",
    "\n",
    "print(\"The ASCII Value of %c = %d\" %(ch, ord(ch)))\n"
   ]
  },
  {
   "cell_type": "code",
   "execution_count": null,
   "id": "8b04ea7b",
   "metadata": {},
   "outputs": [
    {
     "name": "stdout",
     "output_type": "stream",
     "text": [
      "+Addition\n",
      " -Subtraction\n",
      "*Multiplication\n",
      "/Division\n",
      "Welcome ! Which operation you want to perform ?+\n",
      "Enter a num1 : 5\n",
      "Enter a num2 : 5\n",
      " Result is : 10\n"
     ]
    }
   ],
   "source": [
    "#Write a Python Program to Make a Simple Calculator with 4 basic mathematical operations?\n",
    "  \n",
    "\n",
    "def calc_add(a,b):\n",
    "    return a+b\n",
    "\n",
    "def calc_subtract(a,b):\n",
    "    return a - b\n",
    "\n",
    "def calc_multiply(a,b):\n",
    "    return a* b\n",
    "\n",
    "def calc_divide(a,b):\n",
    "    return a/b\n",
    "\n",
    "print(\"+Addition\")\n",
    "print(\" -Subtraction\")\n",
    "print(\"*Multiplication\")\n",
    "print(\"/Division\")  \n",
    "\n",
    "while True:\n",
    "    \n",
    "    user_input = input('Welcome ! Which operation you want to perform ?')\n",
    "    \n",
    "    if user_input in ('+' , '-' , '*' , '/'):\n",
    "        num1 = int(input(\"Enter a num1 : \"))\n",
    "        num2 = int(input(\"Enter a num2 : \"))\n",
    "        \n",
    "        \n",
    "        if user_input == \"+\":\n",
    "            print(f\" Result is : {calc_add(num1,num2)}\")\n",
    "\n",
    "\n",
    "        elif user_input == \"-\":\n",
    "            print(f\" Result is : {calc_subtract(num1,num2)}\")\n",
    "\n",
    "\n",
    "        elif user_input == \"*\":\n",
    "            print(f\" Result is : {calc_multiply(num1,num2)}\")\n",
    "\n",
    "\n",
    "        elif user_input == \"/\":\n",
    "            print(f\" Result is : {calc_divide(num1,num2)}\")\n",
    "                \n",
    "                \n",
    "                \n",
    "    else:\n",
    "        print(\"invalid input\")\n",
    "            \n",
    "        \n",
    "        \n",
    "        \n",
    "    \n"
   ]
  },
  {
   "cell_type": "code",
   "execution_count": null,
   "id": "c8803c35",
   "metadata": {},
   "outputs": [],
   "source": []
  }
 ],
 "metadata": {
  "kernelspec": {
   "display_name": "Python 3",
   "language": "python",
   "name": "python3"
  },
  "language_info": {
   "codemirror_mode": {
    "name": "ipython",
    "version": 3
   },
   "file_extension": ".py",
   "mimetype": "text/x-python",
   "name": "python",
   "nbconvert_exporter": "python",
   "pygments_lexer": "ipython3",
   "version": "3.8.8"
  }
 },
 "nbformat": 4,
 "nbformat_minor": 5
}
