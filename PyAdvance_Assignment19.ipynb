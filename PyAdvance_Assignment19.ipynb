{
 "cells": [
  {
   "cell_type": "markdown",
   "id": "205e5373",
   "metadata": {},
   "source": [
    "Q1. Define the relationship between a class and its instances. Is it a one-to-one or a one-to-many partnership, for example?\n",
    "\n",
    "Class Variables — Declared inside the class definition (but outside any of the instance methods). They are not tied to any particular object of the class, hence shared across all the objects of the class. Modifying a class variable affects all objects instance at the same time.\n",
    "\n",
    "Instance Variable — Declared inside the constructor method of class (the __init__ method). They are tied to the particular object instance of the class, hence the contents of an instance variable are completely independent from one object instance to the other.\n",
    "\n",
    "\n"
   ]
  },
  {
   "cell_type": "code",
   "execution_count": null,
   "id": "0cc9a29a",
   "metadata": {},
   "outputs": [],
   "source": [
    "Q2. What kind of data is held only in an instance?\n",
    "\n",
    "Instance objects contains the Instance variables which are specific to that specific Instance object."
   ]
  },
  {
   "cell_type": "markdown",
   "id": "f2863a67",
   "metadata": {},
   "source": [
    "Q3. What kind of knowledge is stored in a class?\n",
    "\n",
    "In Python, we use classes to create objects. A class is a tool, like a blueprint or a template, for creating objects. It allows us to bundle data and functionality together.\n",
    "For Example:-\n",
    "When a company wants to create a car, it can’t start building right away. First, it needs to create a blueprint of the car. In Python, the class is like the blueprint of the object, car. The blueprint allows the company to create as many cars as it wants. Similarly, we can create as many objects as we want from a class.\n"
   ]
  },
  {
   "cell_type": "markdown",
   "id": "be33d810",
   "metadata": {},
   "source": [
    "Q4. What exactly is a method, and how is it different from a regular function?\n",
    "\n",
    "In Python, a Function is a block of code that accomplishes a certain task. A function inside a class and associated with an object or class is called a Method. \n",
    "\n",
    "Similar to functions, methods also have a name, parameters, and a return statement. Classes can bundle data and functionality together. We use methods to provide the functionality to a class. "
   ]
  },
  {
   "cell_type": "code",
   "execution_count": 2,
   "id": "8dcddf3d",
   "metadata": {},
   "outputs": [
    {
     "name": "stdout",
     "output_type": "stream",
     "text": [
      "Student is studying...\n"
     ]
    }
   ],
   "source": [
    "#Example for method:-\n",
    "\n",
    "class Student:\n",
    "\n",
    "   def study(self):\n",
    "       return \"Student is studying...\"\n",
    "\n",
    "student1 = Student()\n",
    "print(student1.study())"
   ]
  },
  {
   "cell_type": "code",
   "execution_count": 10,
   "id": "019275eb",
   "metadata": {},
   "outputs": [
    {
     "name": "stdout",
     "output_type": "stream",
     "text": [
      "3\n"
     ]
    }
   ],
   "source": [
    "#Q5. Is inheritance supported in Python, and if so, what is the syntax?\n",
    "\n",
    "#Yes inheritance is suported in python.\n",
    "#Below is the example :-\n",
    "\n",
    "class test:\n",
    "    def __init__(self , a , b ,c):\n",
    "        self.a = a\n",
    "        self.b = b\n",
    "        self.c = c\n",
    "        \n",
    "class test1(test):\n",
    "    pass\n",
    "        \n",
    "v =test(4,5,6)\n",
    "u = test1(3,4,5)\n",
    "print(u.a)"
   ]
  },
  {
   "cell_type": "markdown",
   "id": "53277907",
   "metadata": {},
   "source": [
    "Q6. How much encapsulation (making instance or class variables private) does Python support?\n",
    "\n",
    "Encapsulation prevents from accessing accidentally, but not intentionally. The private attributes and methods \n",
    "are not really hidden. The private attributes can be accessed within the object method."
   ]
  },
  {
   "cell_type": "markdown",
   "id": "4d6a40b9",
   "metadata": {},
   "source": [
    "Q7. How do you distinguish between a class variable and an instance variable?\n",
    "\n",
    "n Python, properties can be defined into two parts:\n",
    "\n",
    "Instance variables: Instance variable’s value varies from object to object. Instance variables are not shared by objects. Every object has its own copy of the instance attribute\n",
    "Class Variables: A class variable is a variable that is declared inside of class, but outside of any instance method or __init__() method. Class variables are shared by all instances of a class.\n",
    "\n",
    "Below is the example:\n"
   ]
  },
  {
   "cell_type": "code",
   "execution_count": 11,
   "id": "74f22ed6",
   "metadata": {},
   "outputs": [
    {
     "name": "stdout",
     "output_type": "stream",
     "text": [
      "x1 2500 BMW\n"
     ]
    }
   ],
   "source": [
    "class Car:\n",
    "    # Class variable\n",
    "    manufacturer = 'BMW'\n",
    "\n",
    "    def __init__(self, model, price):\n",
    "        # instance variable\n",
    "        self.model = model\n",
    "        self.price = price\n",
    "\n",
    "# create Object\n",
    "car = Car('x1', 2500)\n",
    "print(car.model, car.price, Car.manufacturer)"
   ]
  },
  {
   "cell_type": "markdown",
   "id": "ee17bf63",
   "metadata": {},
   "source": [
    "Q8. When, if ever, can self be included in a class's method definitions?\n",
    "\n",
    "self can included to access the class variables and instance variiables."
   ]
  },
  {
   "cell_type": "markdown",
   "id": "6ddfdd42",
   "metadata": {},
   "source": [
    "Q9. What is the difference between the _ _add_ _ and the _ _radd_ _ methods?\n",
    "\n",
    "When you add two numbers using the + operator, internally, the __add__() method will be called.We can overload\n",
    "this method to perform"
   ]
  },
  {
   "cell_type": "code",
   "execution_count": 13,
   "id": "ead5054b",
   "metadata": {},
   "outputs": [
    {
     "name": "stdout",
     "output_type": "stream",
     "text": [
      "5\n"
     ]
    }
   ],
   "source": [
    "#Q11. What is the _ _iadd_ _ method called?\n",
    "# __iadd__ method is called when we use implementation like a+=b which is a.__iadd__(b)\n",
    "class A:\n",
    "    def __init__(self,x):\n",
    "        self.x=x\n",
    "    def __iadd__(self,other):\n",
    "        self.x += other.x\n",
    "        return self.x\n",
    "obj1=A(2)\n",
    "obj2=A(3)\n",
    "obj1+=obj2\n",
    "print(obj1)\n"
   ]
  },
  {
   "cell_type": "code",
   "execution_count": 14,
   "id": "2284502e",
   "metadata": {},
   "outputs": [
    {
     "data": {
      "text/plain": [
       "7"
      ]
     },
     "execution_count": 14,
     "metadata": {},
     "output_type": "execute_result"
    }
   ],
   "source": [
    "#Q12. Is the _ _init_ _ method inherited by subclasses? What do you do if you need to customize its behavior within a subclass?\n",
    "\n",
    "# __init__ method is inherited by its subclass. But it can be overloaded, to customize it\n",
    "class A:\n",
    "    def __init__(self,x):\n",
    "        self.x=x\n",
    "class B(A):\n",
    "    pass\n",
    "obj=B(2)\n",
    "obj.x \n",
    "#        here the value x is accessible to instance of class B which is subclass of class A.This means\n",
    "#        __init__ of class A is inherited in sub class B\n",
    "class C(A):\n",
    "    def __init__(self,x,y): # Here we are overloading the __init__ inherited from class A \n",
    "        self.x=x\n",
    "        self.y=y\n",
    "    def func(self):\n",
    "        return(self.x + self.y)\n",
    "obj1=C(3,4)\n",
    "obj1.func()"
   ]
  },
  {
   "cell_type": "code",
   "execution_count": null,
   "id": "4a5adfe7",
   "metadata": {},
   "outputs": [],
   "source": []
  }
 ],
 "metadata": {
  "kernelspec": {
   "display_name": "Python 3",
   "language": "python",
   "name": "python3"
  },
  "language_info": {
   "codemirror_mode": {
    "name": "ipython",
    "version": 3
   },
   "file_extension": ".py",
   "mimetype": "text/x-python",
   "name": "python",
   "nbconvert_exporter": "python",
   "pygments_lexer": "ipython3",
   "version": "3.8.8"
  }
 },
 "nbformat": 4,
 "nbformat_minor": 5
}
