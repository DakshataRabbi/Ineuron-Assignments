{
 "cells": [
  {
   "cell_type": "markdown",
   "id": "f4496d47",
   "metadata": {},
   "source": [
    "Q1. Is it permissible to use several import statements to import the same module? What would the goal be? Can you think of a situation where it would be beneficial?\n",
    "\n",
    "Yes it is permissible to import same module several times.\n",
    "One of the benefit will be , if the code is long enough and some one is refering the code , so the person should be able to undertand which module are exactly imported and what are their abbreviations.\n",
    "\n"
   ]
  },
  {
   "cell_type": "markdown",
   "id": "f971bc1d",
   "metadata": {},
   "source": [
    "Q2. What are some of a module's characteristics? (Name at least one.)\n",
    "1. Modules contain instructions, processing logic, and data.\n",
    "2. Modules can be separately compiled and stored in a library.\n",
    "3. Modules can be included in a program.\n",
    "4. Module segments can be used by invoking a name and some parameters.\n",
    "5. Module segments can be used by other modules."
   ]
  },
  {
   "cell_type": "markdown",
   "id": "5f7dc813",
   "metadata": {},
   "source": [
    "Q3. Circular importing, such as when two modules import each other, can lead to dependencies and bugs that aren't visible. \n",
    "How can you go about creating a program that avoids mutual importing?\n",
    "\n",
    "Below are some solutions:\n",
    "    \n",
    "Importing The Module Itself\n",
    "Rename Your Working file\n",
    "Avoid Circular Import Calls\n",
    "\n"
   ]
  },
  {
   "cell_type": "markdown",
   "id": "e27891cb",
   "metadata": {},
   "source": [
    "Q4. Why is Python __all__ Used? \n",
    "The module’s semantically “public” names are revealed by the __all_ command. Users are required to utilize names that are present in __all__ and may anticipate that they won’t change"
   ]
  },
  {
   "cell_type": "markdown",
   "id": "af931437",
   "metadata": {},
   "source": [
    "Q5. In what situation is it useful to refer to the _ _name_ _ attribute or the string '_ _main_ _'?\n",
    "During the time of execution of the code if we want to refer the module in which we are working on then we \n",
    "uses name attribute. In that case it will return the module in which we are working on. Suppose if that moudle\n",
    "is being imported from some other module then name will have the name of that module from where the current \n",
    "module has been imported. The current module in which we are working is refer to the string '_ main _'.\n"
   ]
  },
  {
   "cell_type": "markdown",
   "id": "715e6dc8",
   "metadata": {},
   "source": [
    "Q6. What are some of the benefits of attaching a program counter to the RPN interpreter application, which interprets an RPN script line by line?\n",
    "RPN saves time and keystrokes. You avoid using and keeping track of parentheses while doing calculations. \n",
    "The process is similar to the way you learned math on paper. You can see the intermediary results as you \n",
    "perform your computations rather than just the answer at the end."
   ]
  },
  {
   "cell_type": "markdown",
   "id": "ff48c6c4",
   "metadata": {},
   "source": [
    "Q7. What are the minimum expressions or statements (or both) that you'd need to render a basic programming language like RPN primitive but complete— that is, capable of carrying out any computerised task theoretically possible?\n",
    "\n",
    "Ans : Notations  : +-/*\n",
    "These are the basic notations we require to carry out a computerised task , like RPN Primitive.\n",
    "We also need a particular data structure for storing elements from a statements except operators"
   ]
  }
 ],
 "metadata": {
  "kernelspec": {
   "display_name": "Python 3",
   "language": "python",
   "name": "python3"
  },
  "language_info": {
   "codemirror_mode": {
    "name": "ipython",
    "version": 3
   },
   "file_extension": ".py",
   "mimetype": "text/x-python",
   "name": "python",
   "nbconvert_exporter": "python",
   "pygments_lexer": "ipython3",
   "version": "3.8.8"
  }
 },
 "nbformat": 4,
 "nbformat_minor": 5
}
