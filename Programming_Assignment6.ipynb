{
 "cells": [
  {
   "cell_type": "code",
   "execution_count": 52,
   "id": "9083f656",
   "metadata": {},
   "outputs": [
    {
     "name": "stdout",
     "output_type": "stream",
     "text": [
      "Enter number of terms:10\n",
      "Fibonacci sequence using Recursion :\n",
      "0\n",
      "1\n",
      "1\n",
      "2\n",
      "3\n",
      "5\n",
      "8\n",
      "13\n",
      "21\n",
      "34\n"
     ]
    }
   ],
   "source": [
    "#Write a Python Program to Display Fibonacci Sequence Using Recursion?\n",
    "\n",
    "def gen_seq(length):\n",
    "    if(length <= 1):\n",
    "        return length\n",
    "    else:\n",
    "        return (gen_seq(length-1) + gen_seq(length-2))\n",
    "\n",
    "length = int(input(\"Enter number of terms:\"))\n",
    "\n",
    "print(\"Fibonacci sequence using Recursion :\")\n",
    "for iter in range(length):\n",
    "    print(gen_seq(iter))\n",
    "\n",
    "\n"
   ]
  },
  {
   "cell_type": "code",
   "execution_count": 4,
   "id": "9b83b59c",
   "metadata": {},
   "outputs": [
    {
     "name": "stdout",
     "output_type": "stream",
     "text": [
      "Factorial of 5 is 120\n"
     ]
    }
   ],
   "source": [
    "#Write a Python Program to Find Factorial of Number Using Recursion?\n",
    "\n",
    "def factorial(n):\n",
    "    return 1 if (n==1 or n==0) else n * factorial(n - 1)\n",
    "\n",
    "num = 5\n",
    "print (\"Factorial of\",num,\"is\",\n",
    "factorial(num))\n"
   ]
  },
  {
   "cell_type": "code",
   "execution_count": 1,
   "id": "06e96641",
   "metadata": {},
   "outputs": [
    {
     "name": "stdout",
     "output_type": "stream",
     "text": [
      "Enter your height(f): 6\n",
      "Enter your weight(kg): 65\n",
      "Your BMI is:  1.81\n"
     ]
    }
   ],
   "source": [
    "#Write a Python Program to calculate your Body Mass Index?\n",
    "\n",
    "\n",
    "height = float(input(\"Enter your height(f): \"))\n",
    "weight = float(input(\"Enter your weight(kg): \"))\n",
    "print(\"Your BMI is: \", round(weight / (height * height), 2))\n",
    "\n"
   ]
  },
  {
   "cell_type": "code",
   "execution_count": 31,
   "id": "103c70ab",
   "metadata": {},
   "outputs": [
    {
     "name": "stdout",
     "output_type": "stream",
     "text": [
      "Enter a number of your choice : 5\n",
      "Your log of 5 is : 1.6094379124341003 \n"
     ]
    }
   ],
   "source": [
    "#Write a Python Program to calculate the natural logarithm of any number?\n",
    "\n",
    "import numpy as np\n",
    "\n",
    "a = int(input(\"Enter a number of your choice : \"))\n",
    "\n",
    "print(f\"Your log of {a} is : {np.log(a)} \")\n",
    "\n",
    "\n"
   ]
  },
  {
   "cell_type": "code",
   "execution_count": 47,
   "id": "c15ad839",
   "metadata": {},
   "outputs": [
    {
     "name": "stdout",
     "output_type": "stream",
     "text": [
      "Enter a number : 5\n",
      "Your sum of cube is : 225\n"
     ]
    }
   ],
   "source": [
    "#Write a Python Program for cube sum of first n natural numbers?\n",
    "\n",
    "n= int(input(\"Enter a number : \"))\n",
    "s=0\n",
    "# iterating loop up to given number n\n",
    "for i in range(1,n+1):\n",
    "    s=s+pow(i,3)\n",
    "print(f\"Your sum of cube is : {s}\")"
   ]
  },
  {
   "cell_type": "code",
   "execution_count": null,
   "id": "0bdfbccd",
   "metadata": {},
   "outputs": [],
   "source": []
  },
  {
   "cell_type": "code",
   "execution_count": null,
   "id": "7a2177d8",
   "metadata": {},
   "outputs": [],
   "source": []
  }
 ],
 "metadata": {
  "kernelspec": {
   "display_name": "Python 3",
   "language": "python",
   "name": "python3"
  },
  "language_info": {
   "codemirror_mode": {
    "name": "ipython",
    "version": 3
   },
   "file_extension": ".py",
   "mimetype": "text/x-python",
   "name": "python",
   "nbconvert_exporter": "python",
   "pygments_lexer": "ipython3",
   "version": "3.8.8"
  }
 },
 "nbformat": 4,
 "nbformat_minor": 5
}
