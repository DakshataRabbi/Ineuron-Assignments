{
 "cells": [
  {
   "cell_type": "code",
   "execution_count": null,
   "id": "13383c67",
   "metadata": {},
   "outputs": [],
   "source": [
    "Q1. Does assigning a value to a string's indexed character violate Python's string immutability?\n",
    "\n",
    "Strings are immutable, which means you cannot change an existing string."
   ]
  },
  {
   "cell_type": "code",
   "execution_count": 1,
   "id": "73dca7ec",
   "metadata": {},
   "outputs": [
    {
     "ename": "TypeError",
     "evalue": "'str' object does not support item assignment",
     "output_type": "error",
     "traceback": [
      "\u001b[1;31m---------------------------------------------------------------------------\u001b[0m",
      "\u001b[1;31mTypeError\u001b[0m                                 Traceback (most recent call last)",
      "\u001b[1;32m<ipython-input-1-56948ec2c7ec>\u001b[0m in \u001b[0;36m<module>\u001b[1;34m\u001b[0m\n\u001b[0;32m      1\u001b[0m \u001b[0mstr\u001b[0m \u001b[1;33m=\u001b[0m \u001b[1;34m'Happy Sunday'\u001b[0m\u001b[1;33m\u001b[0m\u001b[1;33m\u001b[0m\u001b[0m\n\u001b[1;32m----> 2\u001b[1;33m \u001b[0mstr\u001b[0m\u001b[1;33m[\u001b[0m\u001b[1;36m0\u001b[0m\u001b[1;33m]\u001b[0m \u001b[1;33m=\u001b[0m \u001b[1;34m'F'\u001b[0m\u001b[1;33m\u001b[0m\u001b[1;33m\u001b[0m\u001b[0m\n\u001b[0m\u001b[0;32m      3\u001b[0m \u001b[0mprint\u001b[0m\u001b[1;33m(\u001b[0m\u001b[0mstr\u001b[0m\u001b[1;33m)\u001b[0m\u001b[1;33m\u001b[0m\u001b[1;33m\u001b[0m\u001b[0m\n",
      "\u001b[1;31mTypeError\u001b[0m: 'str' object does not support item assignment"
     ]
    }
   ],
   "source": [
    "str = 'Happy Sunday'\n",
    "str[0] = 'F'\n",
    "print(str)"
   ]
  },
  {
   "cell_type": "code",
   "execution_count": 6,
   "id": "9ad68f0b",
   "metadata": {},
   "outputs": [
    {
     "name": "stdout",
     "output_type": "stream",
     "text": [
      "Hello World Happy Birthday\n"
     ]
    }
   ],
   "source": [
    "#Q2. Does using the += operator to concatenate strings violate Python's string immutability? Why or why not?\n",
    "\n",
    "#The easiest way of concatenating strings is to use the + or the += operator. \n",
    "#The + operator is used both for adding numbers and strings; in programming we say that the operator is overloaded.\n",
    "str = \"Hello World\"\n",
    "\n",
    "str += \" Happy Birthday\"\n",
    "\n",
    "\n",
    "print(str)"
   ]
  },
  {
   "cell_type": "markdown",
   "id": "e31b10f7",
   "metadata": {},
   "source": [
    "#Q3. In Python, how many different ways are there to index a character?\n",
    "\n",
    "To access characters in a string we have two ways:\n",
    "Positive index number\n",
    "Negative index number\n",
    "\n",
    "Postive indexing means to access a character starting from 0 which denotes 1st character of string\n",
    "Negative Indexing means to access a character from -1 ehich denotes last character of string"
   ]
  },
  {
   "cell_type": "code",
   "execution_count": 7,
   "id": "1f0f0b7e",
   "metadata": {},
   "outputs": [
    {
     "name": "stdout",
     "output_type": "stream",
     "text": [
      "H\n",
      "y\n"
     ]
    }
   ],
   "source": [
    "str = \"Happy\"\n",
    "print(str[0])\n",
    "print(str[-1])"
   ]
  },
  {
   "cell_type": "code",
   "execution_count": null,
   "id": "25698626",
   "metadata": {},
   "outputs": [],
   "source": [
    "Q4. What is the relationship between indexing and slicing?\n",
    "\n",
    "Indexing: Indexing is used to obtain individual elements.\n",
    "\n",
    "Slicing: Slicing is used to obtain a sequence of elements.\n"
   ]
  },
  {
   "cell_type": "code",
   "execution_count": 5,
   "id": "5ec64a8a",
   "metadata": {},
   "outputs": [
    {
     "name": "stdout",
     "output_type": "stream",
     "text": [
      "H\n",
      "<class 'str'>\n",
      "Happ\n",
      "<class 'str'>\n"
     ]
    }
   ],
   "source": [
    "#Q5. What is an indexed character's exact data type? What is the data form of a slicing-generated substring?\n",
    "\n",
    "\n",
    "\n",
    "str = \"Happy\"\n",
    "print(str[0])\n",
    "print(type(str[0]))\n",
    "\n",
    "print(str[0:4])\n",
    "print(type(str[0:4]))"
   ]
  },
  {
   "cell_type": "code",
   "execution_count": null,
   "id": "f043eeb9",
   "metadata": {},
   "outputs": [],
   "source": [
    "Q6. What is the relationship between string and character \"types\" in Python?\n",
    "\n",
    "In Python, There is no char data type, even a single character enclosed in doubble quotes is considered as str."
   ]
  },
  {
   "cell_type": "code",
   "execution_count": null,
   "id": "3424f961",
   "metadata": {},
   "outputs": [],
   "source": [
    "Q7. Identify at least two operators and one method that allow you to combine one or more smaller strings to create a larger\n",
    "string\n",
    "\n",
    "'+' , '*' and .join() method can be used to combine two smaller strings.\n"
   ]
  },
  {
   "cell_type": "code",
   "execution_count": null,
   "id": "663c0cf0",
   "metadata": {},
   "outputs": [],
   "source": [
    "Q8. What is the benefit of first checking the target string with in or not in before using the index method to find \n",
    "a substring?\n",
    "\n",
    "Checking the target string with in or not Operators before using the index method to find a substring just helps confirming availability of substring and thus avoid raising of ValueError.\n",
    "Example:\n",
    "in_string = \"ineuron\"\n",
    "in_string.index('x') # Raises ValueError\n",
    "in_string.index('u') # 3\n",
    "\n"
   ]
  },
  {
   "cell_type": "code",
   "execution_count": null,
   "id": "109bdff4",
   "metadata": {},
   "outputs": [],
   "source": [
    "Q9. Which operators and built-in string methods produce simple Boolean (true/false) results?\n",
    "\n",
    "The String Operators and built-in methods to Produce Simple Boolean (True/False) Results are:\n",
    "\n",
    "in\n",
    "not\n",
    ".isalpha()\n",
    ".isalnum()\n",
    ".isdecimal()\n",
    ".isdigit()\n",
    ".islower()\n",
    ".isnumeric()\n",
    ".isprintable()\n",
    ".isspace()\n",
    ".istitle()"
   ]
  },
  {
   "cell_type": "code",
   "execution_count": null,
   "id": "76241ab5",
   "metadata": {},
   "outputs": [],
   "source": []
  }
 ],
 "metadata": {
  "kernelspec": {
   "display_name": "Python 3",
   "language": "python",
   "name": "python3"
  },
  "language_info": {
   "codemirror_mode": {
    "name": "ipython",
    "version": 3
   },
   "file_extension": ".py",
   "mimetype": "text/x-python",
   "name": "python",
   "nbconvert_exporter": "python",
   "pygments_lexer": "ipython3",
   "version": "3.8.8"
  }
 },
 "nbformat": 4,
 "nbformat_minor": 5
}
