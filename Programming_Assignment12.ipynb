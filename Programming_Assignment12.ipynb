{
 "cells": [
  {
   "cell_type": "code",
   "execution_count": 4,
   "id": "402ad191",
   "metadata": {},
   "outputs": [
    {
     "name": "stdout",
     "output_type": "stream",
     "text": [
      "The original dictionary is :  {'A': [1, 3, 5, 4], 'B': [4, 6, 8, 10], 'C': [6, 12, 4, 8], 'D': [5, 7, 2]}\n",
      "The unique values list is :  [1, 2, 3, 4, 5, 6, 7, 8, 10, 12]\n"
     ]
    }
   ],
   "source": [
    "#Write a Python program to Extract Unique values dictionary values?\n",
    "\n",
    "dict1 = {'A' : [1, 3, 5, 4],\n",
    "             'B' : [4, 6, 8, 10],\n",
    "             'C' : [6, 12, 4 ,8],\n",
    "             'D' : [5, 7, 2]}\n",
    "\n",
    "print(\"The original dictionary is : \" ,dict1)\n",
    "\n",
    "res = list(sorted({ele for val in dict1.values() for ele in val}))\n",
    "  \n",
    "\n",
    "print(\"The unique values list is : \" , res) \n",
    "\n",
    "\n"
   ]
  },
  {
   "cell_type": "code",
   "execution_count": 8,
   "id": "1a621925",
   "metadata": {},
   "outputs": [
    {
     "name": "stdout",
     "output_type": "stream",
     "text": [
      "Sum : 600\n"
     ]
    }
   ],
   "source": [
    "#Write a Python program to find the sum of all items in a dictionary?\n",
    "\n",
    "\n",
    "def returnSum(myDict):\n",
    "    list = []\n",
    "    for i in myDict:\n",
    "        list.append(myDict[i])\n",
    "        final = sum(list)\n",
    "\n",
    "    return final\n",
    "\n",
    "\n",
    "\n",
    "dict = {'a': 100, 'b': 200, 'c': 300}\n",
    "print(\"Sum :\", returnSum(dict))\n",
    "\n",
    "        \n",
    "\n",
    "\n"
   ]
  },
  {
   "cell_type": "code",
   "execution_count": 27,
   "id": "12fec798",
   "metadata": {},
   "outputs": [
    {
     "name": "stdout",
     "output_type": "stream",
     "text": [
      "None\n",
      "{'d': 6, 'c': 4, 'a': 10, 'b': 8, 'e': 67}\n"
     ]
    }
   ],
   "source": [
    "#Write a Python program to Merging two Dictionaries?\n",
    "\n",
    "\n",
    "# Python code to merge dict using update() method\n",
    "def Merge(dict1, dict2):\n",
    "\treturn(dict2.update(dict1))\n",
    "\n",
    "\n",
    "# Driver code\n",
    "dict1 = {'a': 10, 'b': 8 ,\"e\" : 67}\n",
    "dict2 = {'d': 6, 'c': 4}\n",
    "\n",
    "# This returns None\n",
    "print(Merge(dict1, dict2))\n",
    "\n",
    "# changes made in dict2\n",
    "print(dict2)\n",
    "\n",
    "\n",
    "\n",
    "\n",
    "\n"
   ]
  },
  {
   "cell_type": "code",
   "execution_count": 7,
   "id": "dee4e4f9",
   "metadata": {},
   "outputs": [
    {
     "name": "stdout",
     "output_type": "stream",
     "text": [
      "The original dictionary is : {'Number': [1, 2, 3], 'Number_name': ['One', 'Two', 'Three']}\n",
      "Flattened dictionary : {1: 'One', 2: 'Two', 3: 'Three'}\n"
     ]
    }
   ],
   "source": [
    "#Write a Python program to convert key-values list to flat dictionary?\n",
    "\n",
    "\n",
    "test_dict = {'Number' : [1, 2, 3],\n",
    "'Number_name' : ['One', 'Two', 'Three']}\n",
    "\n",
    "\n",
    "print(\"The original dictionary is : \" + str(test_dict))\n",
    "\n",
    "# Convert key-values list to flat dictionary\n",
    "x=list(test_dict.values())\n",
    "a=x[0]\n",
    "b=x[1]\n",
    "d=dict()\n",
    "for i in range(0,len(a)):\n",
    "    d[a[i]]=b[i]\n",
    "    \n",
    "# printing result\n",
    "print(\"Flattened dictionary : \" + str(d))\n",
    "\n"
   ]
  },
  {
   "cell_type": "code",
   "execution_count": 6,
   "id": "8c1d425f",
   "metadata": {},
   "outputs": [
    {
     "name": "stdout",
     "output_type": "stream",
     "text": [
      "Dictionaty is  : OrderedDict([('manjeet', '4'), ('akash', '4'), ('akshat', '1'), ('nikhil', '2')])\n"
     ]
    }
   ],
   "source": [
    "#Write a Python program to insertion at the beginning in OrderedDict?\n",
    "\n",
    "from collections import OrderedDict\n",
    "\n",
    "# initialising ordered_dict\n",
    "dict1 = OrderedDict([('akshat', '1'), ('nikhil', '2')])\n",
    "dict2 = OrderedDict([(\"manjeet\", '4'), (\"akash\", '4')])\n",
    "\n",
    "# adding in beginning of dict\n",
    "both = OrderedDict(list(dict2.items()) + list(dict1.items()))\n",
    "\n",
    "# print result\n",
    "print (\"Dictionaty is  : \"+str(both))\n"
   ]
  },
  {
   "cell_type": "code",
   "execution_count": 28,
   "id": "1ac93968",
   "metadata": {},
   "outputs": [
    {
     "name": "stdout",
     "output_type": "stream",
     "text": [
      "['num1', 'num2', 'num3', 'num4', 'num5', 'num6']\n"
     ]
    }
   ],
   "source": [
    "#Write a Python program to sort Python Dictionaries by Key or Value?\n",
    "\n",
    "my_dict = { 'num6': 6, 'num3': 3, 'num2': 2, 'num4': 4, 'num1': 1, 'num5': 5}\n",
    "sortedDict = sorted(my_dict)\n",
    "\n",
    "print(sortedDict)\n",
    "# ['num1', 'num2', 'num3', 'num4', 'num5', 'num6']\n"
   ]
  }
 ],
 "metadata": {
  "kernelspec": {
   "display_name": "Python 3",
   "language": "python",
   "name": "python3"
  },
  "language_info": {
   "codemirror_mode": {
    "name": "ipython",
    "version": 3
   },
   "file_extension": ".py",
   "mimetype": "text/x-python",
   "name": "python",
   "nbconvert_exporter": "python",
   "pygments_lexer": "ipython3",
   "version": "3.8.8"
  }
 },
 "nbformat": 4,
 "nbformat_minor": 5
}
