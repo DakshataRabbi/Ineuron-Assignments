{
 "cells": [
  {
   "cell_type": "markdown",
   "id": "3edaaeb6",
   "metadata": {},
   "source": [
    "1. Set the variable test1 to the string 'This is a test of the emergency text system,' and save test1 to a file named test.txt."
   ]
  },
  {
   "cell_type": "code",
   "execution_count": 3,
   "id": "fe737edb",
   "metadata": {},
   "outputs": [],
   "source": [
    "f = open('test.txt' , 'w')"
   ]
  },
  {
   "cell_type": "code",
   "execution_count": 4,
   "id": "4845765d",
   "metadata": {},
   "outputs": [
    {
     "data": {
      "text/plain": [
       "53"
      ]
     },
     "execution_count": 4,
     "metadata": {},
     "output_type": "execute_result"
    }
   ],
   "source": [
    "f.write('test1 = \"This is a test of the emergency text system\"')"
   ]
  },
  {
   "cell_type": "code",
   "execution_count": 5,
   "id": "36f8f53a",
   "metadata": {},
   "outputs": [],
   "source": [
    "f = open('test.txt' , \"r\")"
   ]
  },
  {
   "cell_type": "code",
   "execution_count": 6,
   "id": "291a5ea7",
   "metadata": {},
   "outputs": [
    {
     "data": {
      "text/plain": [
       "'test1 = \"This is a test of the emergency text system\"'"
      ]
     },
     "execution_count": 6,
     "metadata": {},
     "output_type": "execute_result"
    }
   ],
   "source": [
    "f.read()"
   ]
  },
  {
   "cell_type": "code",
   "execution_count": 13,
   "id": "22145c35",
   "metadata": {},
   "outputs": [],
   "source": [
    "f.close()"
   ]
  },
  {
   "cell_type": "markdown",
   "id": "2fe9a4e4",
   "metadata": {},
   "source": [
    "2. Read the contents of the file test.txt into the variable test2. Is there a difference between test 1 and test 2?"
   ]
  },
  {
   "cell_type": "code",
   "execution_count": 7,
   "id": "bc29cea0",
   "metadata": {},
   "outputs": [],
   "source": [
    "test2 = open('test.txt' , \"r\")"
   ]
  },
  {
   "cell_type": "code",
   "execution_count": 9,
   "id": "ee36ce93",
   "metadata": {},
   "outputs": [
    {
     "data": {
      "text/plain": [
       "'test1 = \"This is a test of the emergency text system\"'"
      ]
     },
     "execution_count": 9,
     "metadata": {},
     "output_type": "execute_result"
    }
   ],
   "source": [
    "test2.read()"
   ]
  },
  {
   "cell_type": "code",
   "execution_count": 12,
   "id": "06f8fca4",
   "metadata": {},
   "outputs": [],
   "source": [
    "test2.close()"
   ]
  },
  {
   "cell_type": "markdown",
   "id": "1cb83476",
   "metadata": {},
   "source": [
    "3. Create a CSV file called books.csv by using these lines:\n",
    "title,author,year\n",
    "The Weirdstone of Brisingamen,Alan Garner,1960\n",
    "Perdido Street Station,China Miéville,2000\n",
    "Thud!,Terry Pratchett,2005\n",
    "The Spellman Files,Lisa Lutz,2007\n",
    "Small Gods,Terry Pratchett,1992\n"
   ]
  },
  {
   "cell_type": "code",
   "execution_count": 20,
   "id": "01037298",
   "metadata": {},
   "outputs": [],
   "source": [
    "import csv\n",
    "rows =[ ['title','author','year'],\n",
    "    ['The Weirdstone of Brisingamen','Alan Garner',1960],\n",
    "    ['Perdido Street Station','China Miéville',2000],\n",
    "    ['Thud!','Terry Pratchett',2005],\n",
    "    ['The Spellman Files','Lisa Lutz',2007],\n",
    "    ['Small Gods','Terry Pratchett',1992]]\n",
    "with open('books2.csv','w',newline='') as file:\n",
    "    writer = csv.writer(file)\n",
    "    writer.writerows(rows)"
   ]
  },
  {
   "cell_type": "markdown",
   "id": "50e69777",
   "metadata": {},
   "source": [
    "4. Use the sqlite3 module to create a SQLite database called books.db, and a table called books with these fields: title (text), author (text), and year (integer).\n"
   ]
  },
  {
   "cell_type": "code",
   "execution_count": 14,
   "id": "b901c3df",
   "metadata": {},
   "outputs": [],
   "source": [
    "import sqlite3"
   ]
  },
  {
   "cell_type": "code",
   "execution_count": 15,
   "id": "1e17667c",
   "metadata": {},
   "outputs": [],
   "source": [
    "db = sqlite3.connect(\"books.db\")"
   ]
  },
  {
   "cell_type": "code",
   "execution_count": 16,
   "id": "a9d67b00",
   "metadata": {},
   "outputs": [],
   "source": [
    "c = db.cursor()"
   ]
  },
  {
   "cell_type": "code",
   "execution_count": 17,
   "id": "33660f09",
   "metadata": {},
   "outputs": [
    {
     "data": {
      "text/plain": [
       "<sqlite3.Cursor at 0x248ec829260>"
      ]
     },
     "execution_count": 17,
     "metadata": {},
     "output_type": "execute_result"
    }
   ],
   "source": [
    "c.execute('create table books (title text , author text , year int)')"
   ]
  },
  {
   "cell_type": "code",
   "execution_count": 21,
   "id": "1a7e2adb",
   "metadata": {},
   "outputs": [],
   "source": [
    "db.commit()"
   ]
  },
  {
   "cell_type": "markdown",
   "id": "4a399f25",
   "metadata": {},
   "source": [
    "5. Read books.csv and insert its data into the book table.\n"
   ]
  },
  {
   "cell_type": "code",
   "execution_count": 23,
   "id": "00f3dfe6",
   "metadata": {},
   "outputs": [],
   "source": [
    "import pandas as pd\n",
    "\n",
    "read_books = pd.read_csv('books2.csv')\n",
    "read_books.to_sql('books', db, if_exists='append', index = False)"
   ]
  },
  {
   "cell_type": "markdown",
   "id": "1f195375",
   "metadata": {},
   "source": [
    "6. Select and print the title column from the book table in alphabetical order."
   ]
  },
  {
   "cell_type": "code",
   "execution_count": 25,
   "id": "68489bb3",
   "metadata": {},
   "outputs": [
    {
     "name": "stdout",
     "output_type": "stream",
     "text": [
      "[('Perdido Street Station',), ('Small Gods',), ('The Spellman Files',), ('The Weirdstone of Brisingamen',), ('Thud!',)]\n"
     ]
    }
   ],
   "source": [
    "c.execute('select title from books order by title asc')\n",
    "print(c.fetchall())"
   ]
  },
  {
   "cell_type": "markdown",
   "id": "f3b5765c",
   "metadata": {},
   "source": [
    "7. From the book table, select and print all columns in the order of publication.\n"
   ]
  },
  {
   "cell_type": "code",
   "execution_count": 26,
   "id": "e6038d7f",
   "metadata": {},
   "outputs": [
    {
     "name": "stdout",
     "output_type": "stream",
     "text": [
      "[('The Weirdstone of Brisingamen', 'Alan Garner', 1960), ('Small Gods', 'Terry Pratchett', 1992), ('Perdido Street Station', 'China Mi�ville', 2000), ('Thud!', 'Terry Pratchett', 2005), ('The Spellman Files', 'Lisa Lutz', 2007)]\n"
     ]
    }
   ],
   "source": [
    "c.execute('select * from books order by year')\n",
    "print(c.fetchall())"
   ]
  },
  {
   "cell_type": "markdown",
   "id": "47726508",
   "metadata": {},
   "source": [
    "8. Use the sqlalchemy module to connect to the sqlite3 database books.db that you just made in exercise 6."
   ]
  },
  {
   "cell_type": "code",
   "execution_count": 27,
   "id": "4a967de8",
   "metadata": {},
   "outputs": [
    {
     "name": "stdout",
     "output_type": "stream",
     "text": [
      "('The Weirdstone of Brisingamen', 'Alan Garner', 1960)\n",
      "('Perdido Street Station', 'China Mi�ville', 2000)\n",
      "('Thud!', 'Terry Pratchett', 2005)\n",
      "('The Spellman Files', 'Lisa Lutz', 2007)\n",
      "('Small Gods', 'Terry Pratchett', 1992)\n"
     ]
    }
   ],
   "source": [
    "import sqlalchemy\n",
    "engine = sqlalchemy.create_engine(\"sqlite:///books.db\")\n",
    "rows = engine.execute('select * from books')\n",
    "for i in rows:\n",
    "    print(i)"
   ]
  },
  {
   "cell_type": "markdown",
   "id": "599121cb",
   "metadata": {},
   "source": [
    "9. Install the Redis server and the Python redis library (pip install redis) on your computer. Create a Redis hash called test with the fields count (1) and name ('Fester Bestertester'). Print all the fields for test."
   ]
  },
  {
   "cell_type": "code",
   "execution_count": 28,
   "id": "dc738ff1",
   "metadata": {},
   "outputs": [
    {
     "name": "stdout",
     "output_type": "stream",
     "text": [
      "Collecting redis\n",
      "  Downloading redis-4.3.4-py3-none-any.whl (246 kB)\n",
      "Collecting async-timeout>=4.0.2\n",
      "  Downloading async_timeout-4.0.2-py3-none-any.whl (5.8 kB)\n",
      "Collecting deprecated>=1.2.3\n",
      "  Downloading Deprecated-1.2.13-py2.py3-none-any.whl (9.6 kB)\n",
      "Requirement already satisfied: packaging>=20.4 in c:\\users\\admin\\anaconda3\\lib\\site-packages (from redis) (20.9)\n",
      "Requirement already satisfied: wrapt<2,>=1.10 in c:\\users\\admin\\anaconda3\\lib\\site-packages (from deprecated>=1.2.3->redis) (1.12.1)\n",
      "Requirement already satisfied: pyparsing>=2.0.2 in c:\\users\\admin\\anaconda3\\lib\\site-packages (from packaging>=20.4->redis) (2.4.7)\n",
      "Installing collected packages: deprecated, async-timeout, redis\n",
      "Successfully installed async-timeout-4.0.2 deprecated-1.2.13 redis-4.3.4\n",
      "Note: you may need to restart the kernel to use updated packages.\n"
     ]
    }
   ],
   "source": [
    "pip install redis"
   ]
  },
  {
   "cell_type": "markdown",
   "id": "335f7705",
   "metadata": {},
   "source": [
    "10. Increment the count field of test and print it.\n",
    "\n"
   ]
  },
  {
   "cell_type": "code",
   "execution_count": null,
   "id": "84af0831",
   "metadata": {},
   "outputs": [],
   "source": [
    "\n",
    "conn.hincrby('test','count', 3)"
   ]
  }
 ],
 "metadata": {
  "kernelspec": {
   "display_name": "Python 3",
   "language": "python",
   "name": "python3"
  },
  "language_info": {
   "codemirror_mode": {
    "name": "ipython",
    "version": 3
   },
   "file_extension": ".py",
   "mimetype": "text/x-python",
   "name": "python",
   "nbconvert_exporter": "python",
   "pygments_lexer": "ipython3",
   "version": "3.8.8"
  }
 },
 "nbformat": 4,
 "nbformat_minor": 5
}
