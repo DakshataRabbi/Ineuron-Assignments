{
 "cells": [
  {
   "cell_type": "code",
   "execution_count": null,
   "id": "d544c600",
   "metadata": {},
   "outputs": [],
   "source": [
    "#1. How do you distinguish between shutil.copy() and shutil.copytree()?\n",
    "\n",
    "shutil.copy() will copy a single file whereas \n",
    "shutil.copytree() will copy entire folder along and file and folder contained in it"
   ]
  },
  {
   "cell_type": "code",
   "execution_count": null,
   "id": "1e633e6c",
   "metadata": {},
   "outputs": [],
   "source": [
    "2. What function is used to rename files??\n",
    "\n",
    "In Python3, rename() method is used to rename a file or directory. \n",
    "This method is a part of the os module."
   ]
  },
  {
   "cell_type": "code",
   "execution_count": null,
   "id": "f50aacd3",
   "metadata": {},
   "outputs": [],
   "source": [
    "3. What is the difference between the delete functions in the send2trash and shutil modules?\n",
    "\n",
    "The send2trash functions will move a file or folder to the recycle bin, \n",
    "while shutil functions will permanently delete files and folders.\n"
   ]
  },
  {
   "cell_type": "code",
   "execution_count": null,
   "id": "b8514494",
   "metadata": {},
   "outputs": [],
   "source": [
    "4.ZipFile objects have a close() method just like File objects’ close() method. \n",
    "What ZipFile method is equivalent to File objects’ open() method?\n",
    "\n",
    "from zipfile import Zipfile\n",
    "with ZipFile(file_name, 'r') as zip: this code will open specified zipfile for us.\n",
    "we can use zip object to preform other operation the ziplife. like zip.read()\n"
   ]
  }
 ],
 "metadata": {
  "kernelspec": {
   "display_name": "Python 3",
   "language": "python",
   "name": "python3"
  },
  "language_info": {
   "codemirror_mode": {
    "name": "ipython",
    "version": 3
   },
   "file_extension": ".py",
   "mimetype": "text/x-python",
   "name": "python",
   "nbconvert_exporter": "python",
   "pygments_lexer": "ipython3",
   "version": "3.8.8"
  }
 },
 "nbformat": 4,
 "nbformat_minor": 5
}
