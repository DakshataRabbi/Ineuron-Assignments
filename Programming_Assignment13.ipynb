{
 "cells": [
  {
   "cell_type": "code",
   "execution_count": 6,
   "id": "e8f4142e",
   "metadata": {},
   "outputs": [
    {
     "name": "stdout",
     "output_type": "stream",
     "text": [
      "Provide D in with comma separated: 80,100,150\n",
      "16,18,22\n"
     ]
    }
   ],
   "source": [
    "#Write a program that calculates and prints the value according to the given formula:\n",
    "    \n",
    "import math\n",
    "\n",
    "numbers = input(\"Provide D in with comma separated: \")\n",
    "numbers = numbers.split(',')\n",
    "\n",
    "result_list = []\n",
    "result_string = ''\n",
    "for D in numbers:\n",
    "    Q = round(math.sqrt(2 * 50 * int(D) / 30))\n",
    "    result_list.append(str(Q))\n",
    "    \n",
    "print(','.join(result_list))\n"
   ]
  },
  {
   "cell_type": "code",
   "execution_count": null,
   "id": "b237cba9",
   "metadata": {},
   "outputs": [],
   "source": [
    "Question 2:\n",
    "Write a program which takes 2 digits, X,Y as input and generates a 2-dimensional array. \n",
    "The element value in the i-th row and j-th column of the array should be i*j.\n",
    "Note: i=0,1.., X-1; j=0,1,¡Y-1.\n",
    "Example\n",
    "Suppose the following inputs are given to the program:\n",
    "3,5\n",
    "Then, the output of the program should be:\n",
    "[[0, 0, 0, 0, 0], [0, 1, 2, 3, 4], [0, 2, 4, 6, 8]] \n"
   ]
  },
  {
   "cell_type": "code",
   "execution_count": 12,
   "id": "e4d528d2",
   "metadata": {},
   "outputs": [
    {
     "name": "stdout",
     "output_type": "stream",
     "text": [
      "Input number of rows: 3\n",
      "Input number of columns: 5\n",
      "[[0, 0, 0, 0, 0], [0, 1, 2, 3, 4], [0, 2, 4, 6, 8]]\n"
     ]
    }
   ],
   "source": [
    "row_num = int(input(\"Input number of rows: \"))\n",
    "col_num = int(input(\"Input number of columns: \"))\n",
    "multi_list = [[0 for col in range(col_num)] for row in range(row_num)]\n",
    "\n",
    "for row in range(row_num):\n",
    "    for col in range(col_num):\n",
    "        multi_list[row][col]= row*col\n",
    "\n",
    "print(multi_list)\n"
   ]
  },
  {
   "cell_type": "code",
   "execution_count": null,
   "id": "e8750a55",
   "metadata": {},
   "outputs": [],
   "source": [
    "Question 3:\n",
    "Write a program that accepts a comma separated sequence of words as input and prints the words in a comma-separated \n",
    "sequence after sorting them alphabetically.\n",
    "Suppose the following input is supplied to the program:\n",
    "without,hello,bag,world\n",
    "Then, the output should be:\n",
    "bag,hello,without,world\n"
   ]
  },
  {
   "cell_type": "code",
   "execution_count": 19,
   "id": "63371f8c",
   "metadata": {},
   "outputs": [
    {
     "name": "stdout",
     "output_type": "stream",
     "text": [
      "Enter comma separated values: without,hello,bag,world\n",
      "Before sorting : ['without', 'hello', 'bag', 'world']\n",
      "After sorting : ['bag', 'hello', 'without', 'world']\n"
     ]
    }
   ],
   "source": [
    "l = list(input(\"Enter comma separated values: \").split(\",\"))\n",
    "print(f\"Before sorting : {l}\")\n",
    "l.sort()\n",
    "print(f\"After sorting : {l}\")\n"
   ]
  },
  {
   "cell_type": "code",
   "execution_count": null,
   "id": "c595895c",
   "metadata": {},
   "outputs": [],
   "source": [
    "Question 5:\n",
    "Write a program that accepts a sentence and calculate the number of letters and digits.\n",
    "Suppose the following input is supplied to the program:\n",
    "hello world! 123\n",
    "Then, the output should be:\n",
    "LETTERS 10\n",
    "DIGITS 3\n"
   ]
  },
  {
   "cell_type": "code",
   "execution_count": 26,
   "id": "c8e869a6",
   "metadata": {},
   "outputs": [
    {
     "name": "stdout",
     "output_type": "stream",
     "text": [
      "Enter a string : hello world! 123\n",
      "LETTERS  1\n",
      "DIGITS  3\n"
     ]
    }
   ],
   "source": [
    "# given string\n",
    "string = input(\"Enter a string : \")\n",
    "\n",
    "# initialized value\n",
    "total_digits = 0\n",
    "total_letters = 0\n",
    "\n",
    "for s in string:\n",
    "    if s.isnumeric():\n",
    "        total_digits += 1\n",
    "\n",
    "else:\n",
    "    total_letters += 1\n",
    "\n",
    "print(\"LETTERS \", total_letters)\n",
    "print(\"DIGITS \", total_digits)\n"
   ]
  },
  {
   "cell_type": "code",
   "execution_count": null,
   "id": "28a599e5",
   "metadata": {},
   "outputs": [],
   "source": [
    "Question 6:\n",
    "A website requires the users to input username and password to register. \n",
    "Write a program to check the validity of password input by users.\n",
    "Following are the criteria for checking the password:\n",
    "1. At least 1 letter between [a-z]\n",
    "2. At least 1 number between [0-9]\n",
    "1. At least 1 letter between [A-Z]\n",
    "3. At least 1 character from [$#@]\n",
    "4. Minimum length of transaction password: 6\n",
    "5. Maximum length of transaction password: 12\n",
    "Your program should accept a sequence of comma separated passwords and will check them according to the above criteria.\n",
    "Passwords that match the criteria are to be printed, each separated by a comma.\n",
    "Example:\n",
    "If the following passwords are given as input to the program:\n",
    "ABd1234@1,a F1#,2w3E*,2We3345\n",
    "Then, the output of the program should be:\n",
    "ABd1234@1\n"
   ]
  },
  {
   "cell_type": "code",
   "execution_count": 8,
   "id": "5c86518a",
   "metadata": {},
   "outputs": [
    {
     "name": "stdout",
     "output_type": "stream",
     "text": [
      "Enter your password : ABd1234@1\n",
      "Valid Password\n"
     ]
    }
   ],
   "source": [
    "import re\n",
    "password= input(\"Enter your password : \")\n",
    "x = True\n",
    "while x:  \n",
    "    if (len(password) < 6 or len(password) > 12):\n",
    "        break\n",
    "    elif not re.search(\"[a-z]\",password):\n",
    "        break\n",
    "    elif not re.search(\"[0-9]\",password):\n",
    "        break\n",
    "    elif not re.search(\"[A-Z]\",password):\n",
    "        break\n",
    "    elif not re.search(\"[$#@]\",password):\n",
    "        break\n",
    "    elif re.search(\"\\s\",password):\n",
    "        break\n",
    "    else:\n",
    "        print(\"Valid Password\")\n",
    "        x=False\n",
    "        break\n",
    "\n",
    "if x:\n",
    "    print(\"Not a Valid Password\")"
   ]
  },
  {
   "cell_type": "code",
   "execution_count": null,
   "id": "625a3300",
   "metadata": {},
   "outputs": [],
   "source": [
    "Question 4:\n",
    "Write a program that accepts a sequence of whitespace separated words as input and prints\n",
    "the words after removing all duplicate words and sorting them alphanumerically.\n",
    "Suppose the following input is supplied to the program:\n",
    "hello world and practice makes perfect and hello world again\n",
    "Then, the output should be:\n",
    "again and hello makes perfect practice world\n"
   ]
  },
  {
   "cell_type": "code",
   "execution_count": 4,
   "id": "d4a7b2ec",
   "metadata": {},
   "outputs": [
    {
     "name": "stdout",
     "output_type": "stream",
     "text": [
      "Enter some whitespaces separated words : hello world and practice makes perfect and hello world again\n",
      "again and hello makes perfect practice world\n"
     ]
    }
   ],
   "source": [
    "d1 = (input(\"Enter some whitespaces separated words : \").split(' '))\n",
    "print(' '.join(sorted(list(set(d1)))))\n"
   ]
  }
 ],
 "metadata": {
  "kernelspec": {
   "display_name": "Python 3",
   "language": "python",
   "name": "python3"
  },
  "language_info": {
   "codemirror_mode": {
    "name": "ipython",
    "version": 3
   },
   "file_extension": ".py",
   "mimetype": "text/x-python",
   "name": "python",
   "nbconvert_exporter": "python",
   "pygments_lexer": "ipython3",
   "version": "3.8.8"
  }
 },
 "nbformat": 4,
 "nbformat_minor": 5
}
