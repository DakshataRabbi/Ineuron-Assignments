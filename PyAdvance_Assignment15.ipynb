{
 "cells": [
  {
   "cell_type": "code",
   "execution_count": null,
   "id": "4267a22b",
   "metadata": {},
   "outputs": [],
   "source": [
    "1.What are the new features added in Python 3.8 version?\n",
    "\n",
    "Assignment expressions (The Walrus Operator)\n",
    "Positional-only arguments\n",
    "A New Syntax Warning\n",
    "Dictionary with reverse\n",
    "f-strings now support “=”\n",
    "Multiprocessing shared memory\n",
    "CPython Improvement\n",
    "Improvement in Performance\n",
    "\n"
   ]
  },
  {
   "cell_type": "markdown",
   "id": "f3c0a0d3",
   "metadata": {},
   "source": [
    "2.What is monkey patching in Python?\n",
    "\n",
    "Monkey-patching is a term that refers to modifying a class or module at a run time. In simple words, a class or module's work can be changed at the runtime.\n",
    "When we work on a large project, we may encounter a situation where the third-party library is not working well. So we attempt to revise (or change) it from our project. This process is known as monkey patching in Python."
   ]
  },
  {
   "cell_type": "markdown",
   "id": "5411c937",
   "metadata": {},
   "source": [
    "3.\tWhat is the difference between a shallow copy and deep copy?\n",
    "\n",
    "In python, when we use = operator, it doesnot create a copy of the object. It just creates the variable, which shares a reference to the same memory location. This is called as shallow copy. In deep copy, new object is a copy of old object and it is created at different memory address and any changes made to new object won't be reflected in old object"
   ]
  },
  {
   "cell_type": "code",
   "execution_count": null,
   "id": "0d51c608",
   "metadata": {},
   "outputs": [],
   "source": [
    "4.\tWhat is the maximum possible length of an identifier?\n",
    "\n",
    "The maximum possible length of an identifier is not defined in Python. It can be any number.\n",
    "\n"
   ]
  },
  {
   "cell_type": "code",
   "execution_count": null,
   "id": "740a472d",
   "metadata": {},
   "outputs": [],
   "source": [
    "5.\tWhat is generator comprehension?\n",
    "\n",
    "It is like a list comprehension but it returns an iteraor. We use () instead of [] to achieve this.\n",
    "\n"
   ]
  },
  {
   "cell_type": "code",
   "execution_count": 6,
   "id": "9d1e2cbb",
   "metadata": {},
   "outputs": [
    {
     "name": "stdout",
     "output_type": "stream",
     "text": [
      "<generator object <genexpr> at 0x000002883CE92BA0>\n",
      "0\n",
      "1\n",
      "2\n"
     ]
    }
   ],
   "source": [
    "numbers = (i for i in range(3))\n",
    "\n",
    "print(numbers)\n",
    "\n",
    "print(next(numbers))\n",
    "print(next(numbers))\n",
    "print(next(numbers))"
   ]
  },
  {
   "cell_type": "code",
   "execution_count": null,
   "id": "9a4ffb04",
   "metadata": {},
   "outputs": [],
   "source": []
  },
  {
   "cell_type": "code",
   "execution_count": null,
   "id": "d72e0207",
   "metadata": {},
   "outputs": [],
   "source": []
  }
 ],
 "metadata": {
  "kernelspec": {
   "display_name": "Python 3",
   "language": "python",
   "name": "python3"
  },
  "language_info": {
   "codemirror_mode": {
    "name": "ipython",
    "version": 3
   },
   "file_extension": ".py",
   "mimetype": "text/x-python",
   "name": "python",
   "nbconvert_exporter": "python",
   "pygments_lexer": "ipython3",
   "version": "3.8.8"
  }
 },
 "nbformat": 4,
 "nbformat_minor": 5
}
