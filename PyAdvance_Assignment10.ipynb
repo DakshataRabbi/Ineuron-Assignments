{
 "cells": [
  {
   "cell_type": "markdown",
   "id": "ab3a31c4",
   "metadata": {},
   "source": [
    "Q1. What is the difference between __getattr__ and __getattribute__?\n",
    "\n",
    "If we want to access the attribute of a class, we access it with instance of the class like instance.attribute_name. These attributes are already present in the class. Where as, to access the attribute of class which are not defined in the class, we use getattr() method.\n",
    "\n",
    "But if the attribute does exist, getattr won’t be invoked"
   ]
  },
  {
   "cell_type": "markdown",
   "id": "29d4fca1",
   "metadata": {},
   "source": [
    "Q2. What is the difference between properties and descriptors?\n",
    "\n",
    "In Properties, We can bind getter, setter functions with an attribute name, using the built-in property function. In descriptor, We can bind getter, setter (and deleter) functions into a separate class. We then assign an object of this class to the attribute name.\n"
   ]
  },
  {
   "cell_type": "markdown",
   "id": "16dab2e6",
   "metadata": {},
   "source": [
    "Q3. What are the key differences in functionality between __getattr__ and __getattribute__, as well as properties and descriptors?\n",
    "\n",
    "__getattr__ gets called if there is no attribute in the instance.\n",
    "It’s invoked “last”, if Python can’t find that attribute.(lowest priority)\n",
    "\n",
    "\n",
    "__getattribute__ gets called all the times, whether there is the attribute or not.\n",
    "It’s invoked “first”(highest priority) — it actually “intercepts” every lookup.\n",
    "\n",
    "So, even if there is the attribute in the instance, Python calls __getattribute__ first, with the attribute as an argument.\n",
    "\n",
    "In Properties, We can bind getter, setter functions with an attribute name, using the built-in property function. In descriptor, We can bind getter, setter (and deleter) functions into a separate class. We then assign an object of this class to the attribute name."
   ]
  }
 ],
 "metadata": {
  "kernelspec": {
   "display_name": "Python 3",
   "language": "python",
   "name": "python3"
  },
  "language_info": {
   "codemirror_mode": {
    "name": "ipython",
    "version": 3
   },
   "file_extension": ".py",
   "mimetype": "text/x-python",
   "name": "python",
   "nbconvert_exporter": "python",
   "pygments_lexer": "ipython3",
   "version": "3.8.8"
  }
 },
 "nbformat": 4,
 "nbformat_minor": 5
}
