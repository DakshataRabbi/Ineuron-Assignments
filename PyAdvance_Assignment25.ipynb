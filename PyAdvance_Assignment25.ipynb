{
 "cells": [
  {
   "cell_type": "markdown",
   "id": "2fe18e8c",
   "metadata": {},
   "source": [
    "Q1. What is the distinction between a numpy array and a pandas data frame? Is there a way to convert between the two if there is?\n",
    "Pandas DataFrame is a two-dimensional size-mutable, potentially heterogeneous tabular data structure with labeled axes (rows and columns). This data structure can be converted to NumPy ndarray with the help of the DataFrame.to_numpy () method. In this article we will see how to convert dataframe to numpy array\n"
   ]
  },
  {
   "cell_type": "code",
   "execution_count": null,
   "id": "66f9da7b",
   "metadata": {},
   "outputs": [],
   "source": [
    "Q3. Identify some of the plotting techniques that are used to produce a stock-market chart.\n",
    "\n",
    "Bar chart , Line Chart."
   ]
  },
  {
   "cell_type": "markdown",
   "id": "ed06505a",
   "metadata": {},
   "source": [
    "Q4. Why is it essential to print a legend on a stock market chart?\n",
    "\n",
    "A legend is a statement on a stock certificate noting restrictions on the transfer or sale of a company's stock. A stock legend is typically established due to the SEC's requirements for unregistered or restricted securities. Restrictions on the sale of stock via legends are often put in place to control who becomes a shareholder in a company."
   ]
  },
  {
   "cell_type": "markdown",
   "id": "e983ff45",
   "metadata": {},
   "source": [
    "Q5. What is the best way to limit the length of a pandas data frame to less than a year?\n",
    "\n",
    "We can use start and end parameters for that. In start we write the date from where we are starting and at the end we write the end date. SO within this span we can restric the duration.Also we can use the parameters like periods for how much times we need the duration and we can also use the frequency parameter.\n",
    "\n"
   ]
  },
  {
   "cell_type": "markdown",
   "id": "6a21f574",
   "metadata": {},
   "source": [
    "Q6. What is the definition of a 180-day moving average ?\n",
    "\n",
    "The 180-day moving average is represented as a line on charts and represents the average price over the past 180 days. The moving average can give traders a sense regarding whether the trend is up or down, while also identifying potential support or resistance areas."
   ]
  }
 ],
 "metadata": {
  "kernelspec": {
   "display_name": "Python 3",
   "language": "python",
   "name": "python3"
  },
  "language_info": {
   "codemirror_mode": {
    "name": "ipython",
    "version": 3
   },
   "file_extension": ".py",
   "mimetype": "text/x-python",
   "name": "python",
   "nbconvert_exporter": "python",
   "pygments_lexer": "ipython3",
   "version": "3.8.8"
  }
 },
 "nbformat": 4,
 "nbformat_minor": 5
}
