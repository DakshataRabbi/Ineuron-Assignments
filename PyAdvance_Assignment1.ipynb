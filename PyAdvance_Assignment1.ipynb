{
 "cells": [
  {
   "cell_type": "markdown",
   "id": "b3d8667d",
   "metadata": {},
   "source": [
    "Q1. What is the purpose of Python's OOP?\n",
    "\n",
    "1.They reduce the redundancy of the code by writing clear and re-usable codes (using inheritance).\n",
    "2.They are easier to visualize because they completely relate to real-world scenarios. For example, the concept of objects, inheritance, abstractions, relate very closely to real-world scenarios.\n",
    "3.Every object in oops represent a different part of the code and have their own logic and data to communicate with each other. So, there are no complications in the code.\n"
   ]
  },
  {
   "cell_type": "markdown",
   "id": "a86b5779",
   "metadata": {},
   "source": [
    "Q2. Where does an inheritance search look for an attribute?\n",
    "\n",
    "Find the first occurrence of attribute by looking in object, then in all classes above it, from bottom to top and left to right."
   ]
  },
  {
   "cell_type": "markdown",
   "id": "0033180c",
   "metadata": {},
   "source": [
    "Q3. How do you distinguish between a class object and an instance object?\n",
    "\n",
    "A class is a blueprint which you use to create objects. An object is an instance of a class - it's a concrete 'thing' that you made using a specific class. So, 'object' and 'instance' are the same thing, but the word 'instance' indicates the relationship of an object to its class\n",
    "\n"
   ]
  },
  {
   "cell_type": "markdown",
   "id": "2765734d",
   "metadata": {},
   "source": [
    "Q4. What makes the first argument in a class’s method function special?\n",
    "\n",
    "The first parameter in the class method is the class on which you are calling the method, not (necessarily) the class that defines the method. (Having a variable that always holds the same class would probably not be that useful.)"
   ]
  },
  {
   "cell_type": "markdown",
   "id": "5c701c70",
   "metadata": {},
   "source": [
    "Q5. What is the purpose of the __init__ method?\n",
    "\n",
    "\"__init__\" is a reseved method in python classes. It is called as a constructor in object oriented terminology. This method is called when an object is created from a class and it allows the class to initialize the attributes of the class."
   ]
  },
  {
   "cell_type": "markdown",
   "id": "72eb25f4",
   "metadata": {},
   "source": [
    "Q6. What is the process for creating a class instance?\n",
    "\n",
    "To create instances of a class, you call the class using class name and pass in whatever arguments its init method accepts.\n",
    "\n"
   ]
  },
  {
   "cell_type": "markdown",
   "id": "a841f579",
   "metadata": {},
   "source": [
    "Q7. What is the process for creating a class?\n",
    "\n",
    "The class statement creates a new class definition. The name of the class immediately follows the keyword class followed by a colon.Explained below\n",
    "\n"
   ]
  },
  {
   "cell_type": "code",
   "execution_count": 1,
   "id": "a31845f1",
   "metadata": {},
   "outputs": [
    {
     "name": "stdout",
     "output_type": "stream",
     "text": [
      "This is 74 (an instance of a class Student)\n"
     ]
    }
   ],
   "source": [
    "class Student:\n",
    "    def __init__(self,rollno):\n",
    "        self.rollno = rollno\n",
    "    \n",
    "    def __str__(self):\n",
    "        return f\"This is {self.rollno} (an instance of a class Student)\"\n",
    "    \n",
    "student1 = Student(\"74\")       \n",
    "print(student1)"
   ]
  },
  {
   "cell_type": "markdown",
   "id": "5162554d",
   "metadata": {},
   "source": [
    "Q8. How would you define the superclasses of a class?\n",
    "\n",
    "A superclass is the class from which many subclasses can be created. The subclasses inherit the characteristics of a superclass. The superclass is also known as the parent class or base class.\n",
    "\n"
   ]
  },
  {
   "cell_type": "code",
   "execution_count": 2,
   "id": "ced41334",
   "metadata": {},
   "outputs": [
    {
     "name": "stdout",
     "output_type": "stream",
     "text": [
      "this is method of class A\n",
      "this is method of class B\n",
      "this is method of class A\n",
      "this is method of class A\n",
      "this is method of class A\n"
     ]
    }
   ],
   "source": [
    "class A:\n",
    "    def method_A(self):\n",
    "        return \"this is method of class A\"\n",
    "    \n",
    "class B(A):\n",
    "    def method_B(self):\n",
    "        return \"this is method of class B\"\n",
    "\n",
    "class C(A):\n",
    "    def method_B(self):\n",
    "        return \"this is method of class C\"\n",
    "    \n",
    "class D(A):\n",
    "    def method_B(self):\n",
    "        return \"this is method of class D\"\n",
    "\n",
    "# Class B, C, D are subclasses and Class A is superclass    \n",
    "a = A()\n",
    "b = B()\n",
    "c = C()\n",
    "d = D()\n",
    "\n",
    "print(a.method_A())\n",
    "print(b.method_B())\n",
    "print(b.method_A())   # objects of class B, C and D are able to access method of class A because Class A is superclass. \n",
    "print(c.method_A())\n",
    "print(d.method_A())"
   ]
  },
  {
   "cell_type": "code",
   "execution_count": null,
   "id": "4efaba74",
   "metadata": {},
   "outputs": [],
   "source": []
  }
 ],
 "metadata": {
  "kernelspec": {
   "display_name": "Python 3",
   "language": "python",
   "name": "python3"
  },
  "language_info": {
   "codemirror_mode": {
    "name": "ipython",
    "version": 3
   },
   "file_extension": ".py",
   "mimetype": "text/x-python",
   "name": "python",
   "nbconvert_exporter": "python",
   "pygments_lexer": "ipython3",
   "version": "3.8.8"
  }
 },
 "nbformat": 4,
 "nbformat_minor": 5
}
