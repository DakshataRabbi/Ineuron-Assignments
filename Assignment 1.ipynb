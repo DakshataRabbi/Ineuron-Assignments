{
 "cells": [
  {
   "cell_type": "code",
   "execution_count": null,
   "id": "5db4b84e",
   "metadata": {},
   "outputs": [],
   "source": [
    "1. In the below elements which of them are values or an expression? eg:- values can be integer or string and expressions will be mathematical operators.\n",
    "\n",
    "--> Values are : 'hello' , -87.8 , 6\n",
    "    Expressions are : - , / , * , +\n"
   ]
  },
  {
   "cell_type": "code",
   "execution_count": null,
   "id": "fdcfd17f",
   "metadata": {},
   "outputs": [],
   "source": [
    "\n",
    "2. What is the difference between string and variable?\n",
    "\n",
    "--> Variable is used as a container in which we store values. Whereas a string is a data type. \n"
   ]
  },
  {
   "cell_type": "code",
   "execution_count": null,
   "id": "1686d7d9",
   "metadata": {},
   "outputs": [],
   "source": [
    "3. Describe three different data types.\n",
    "\n",
    "--> The three different data types are :\n",
    "\n",
    "    1.int() (Integer) : Integer contains positiive and negative whole numbers without decimal.\n",
    "    2.float() (Float) : Float is used to store (fractional/decimal) numbers.\n",
    "    3.bool()(Boolean) : Boolean type provides two values, True and False. These values are used to determine the                                       given statement true or false. True is reprentated as any non-zero value or 'T' and False is                                   representated as '0' or 'F'\n",
    "     "
   ]
  },
  {
   "cell_type": "code",
   "execution_count": null,
   "id": "b7d0c5da",
   "metadata": {},
   "outputs": [],
   "source": [
    "4. What is an expression made up of? What do all expressions do?\n",
    "\n",
    "--> Expression is made up of values, mathematical operators. "
   ]
  },
  {
   "cell_type": "code",
   "execution_count": null,
   "id": "08d032d6",
   "metadata": {},
   "outputs": [],
   "source": [
    "5. This assignment statements, like spam = 10. What is the difference between an expression and a statement?\n",
    "\n",
    "--> Statements are used to declare something, whereas expressions can help in getting an output."
   ]
  },
  {
   "cell_type": "code",
   "execution_count": null,
   "id": "8907a0a3",
   "metadata": {},
   "outputs": [],
   "source": [
    "6. After running the following code, what does the variable bacon contain?\n",
    "bacon = 22\n",
    "bacon + 1"
   ]
  },
  {
   "cell_type": "code",
   "execution_count": 2,
   "id": "d0a9da19",
   "metadata": {},
   "outputs": [
    {
     "data": {
      "text/plain": [
       "23"
      ]
     },
     "execution_count": 2,
     "metadata": {},
     "output_type": "execute_result"
    }
   ],
   "source": [
    "bacon = 22\n",
    "bacon+1"
   ]
  },
  {
   "cell_type": "code",
   "execution_count": null,
   "id": "f7c343e9",
   "metadata": {},
   "outputs": [],
   "source": [
    "7. What should the values of the following two terms be?\n",
    "'spam' + 'spamspam'\n",
    "'spam' * 3\n"
   ]
  },
  {
   "cell_type": "code",
   "execution_count": 3,
   "id": "4b647e84",
   "metadata": {},
   "outputs": [
    {
     "data": {
      "text/plain": [
       "'spamspamspam'"
      ]
     },
     "execution_count": 3,
     "metadata": {},
     "output_type": "execute_result"
    }
   ],
   "source": [
    "'spam' + 'spamspam'"
   ]
  },
  {
   "cell_type": "code",
   "execution_count": 4,
   "id": "21bf1057",
   "metadata": {},
   "outputs": [
    {
     "data": {
      "text/plain": [
       "'spamspamspam'"
      ]
     },
     "execution_count": 4,
     "metadata": {},
     "output_type": "execute_result"
    }
   ],
   "source": [
    "'spam' * 3"
   ]
  },
  {
   "cell_type": "code",
   "execution_count": null,
   "id": "68bcc1ef",
   "metadata": {},
   "outputs": [],
   "source": [
    "8. Why is eggs a valid variable name while 100 is invalid?\n",
    "\n",
    "--> As per the rules , Variable name can have numbers but not at the beginning. \n",
    "    For ex : a100.\n"
   ]
  },
  {
   "cell_type": "code",
   "execution_count": null,
   "id": "c4556ef2",
   "metadata": {},
   "outputs": [],
   "source": [
    "9. What three functions can be used to get the integer, floating-point number, or string version of a value?\n",
    "\n",
    "--> int(), float(), str() can used to get the respective versions of a variable."
   ]
  },
  {
   "cell_type": "code",
   "execution_count": null,
   "id": "61eead8b",
   "metadata": {},
   "outputs": [],
   "source": [
    "10. Why does this expression cause an error? How can you fix it?\n",
    "'I have eaten ' + 99 + ' burritos.'\n",
    "\n",
    "--> Concatenation can be only done for str() to str(). str() to int() is not possible which leads to an error.\n",
    "    Error can be resolved by converting an int()into str as follows:\n",
    "    'I have eaten ' + '99' + ' burritos.'"
   ]
  }
 ],
 "metadata": {
  "kernelspec": {
   "display_name": "Python 3",
   "language": "python",
   "name": "python3"
  },
  "language_info": {
   "codemirror_mode": {
    "name": "ipython",
    "version": 3
   },
   "file_extension": ".py",
   "mimetype": "text/x-python",
   "name": "python",
   "nbconvert_exporter": "python",
   "pygments_lexer": "ipython3",
   "version": "3.8.8"
  }
 },
 "nbformat": 4,
 "nbformat_minor": 5
}
