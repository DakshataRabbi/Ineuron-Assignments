{
 "cells": [
  {
   "cell_type": "code",
   "execution_count": null,
   "id": "26f56a10",
   "metadata": {},
   "outputs": [],
   "source": [
    "1. What exactly is []?\n",
    "\n",
    "[] is used to define a list in it.\n",
    "It is also known a empty list"
   ]
  },
  {
   "cell_type": "code",
   "execution_count": 25,
   "id": "907b1fef",
   "metadata": {},
   "outputs": [
    {
     "data": {
      "text/plain": [
       "[2, 4, 'hello', 8, 10]"
      ]
     },
     "execution_count": 25,
     "metadata": {},
     "output_type": "execute_result"
    }
   ],
   "source": [
    "\"\"\"2. In a list of values stored in a variable called spam, how would you assign the value 'hello' as the third value? \n",
    "(Assume [2, 4, 6, 8, 10] are in spam.)\n",
    "\n",
    "We can assign 3rd value as below:\n",
    "\n",
    "\"\"\"\n",
    "spam = [2, 4, 6, 8, 10]\n",
    "\n",
    "spam[2] = \"hello\"\n",
    "\n",
    "spam"
   ]
  },
  {
   "cell_type": "code",
   "execution_count": 9,
   "id": "f3f4910e",
   "metadata": {},
   "outputs": [],
   "source": [
    "\"\"\"Let's pretend the spam includes the list ['a', 'b', 'c', 'd'] for the next three queries.\n",
    "3. What is the value of spam[int(int('3' * 2) / 11)]?\n",
    "4. What is the value of spam[-1]?\n",
    "5. What is the value of spam[:2]?\"\"\"\n",
    "\n",
    "spam = ['a', 'b', 'c', 'd']\n"
   ]
  },
  {
   "cell_type": "code",
   "execution_count": 10,
   "id": "4298d6e8",
   "metadata": {},
   "outputs": [
    {
     "data": {
      "text/plain": [
       "'d'"
      ]
     },
     "execution_count": 10,
     "metadata": {},
     "output_type": "execute_result"
    }
   ],
   "source": [
    "# 3.What is the value of spam[int(int('3' * 2) / 11)]\n",
    "\n",
    "spam[int(int('3' * 2) / 11)]"
   ]
  },
  {
   "cell_type": "code",
   "execution_count": 11,
   "id": "f03b257c",
   "metadata": {},
   "outputs": [
    {
     "data": {
      "text/plain": [
       "'d'"
      ]
     },
     "execution_count": 11,
     "metadata": {},
     "output_type": "execute_result"
    }
   ],
   "source": [
    "#4. What is the value of spam[-1]?\n",
    "\n",
    "spam[-1]"
   ]
  },
  {
   "cell_type": "code",
   "execution_count": 12,
   "id": "498010ae",
   "metadata": {},
   "outputs": [
    {
     "data": {
      "text/plain": [
       "['a', 'b']"
      ]
     },
     "execution_count": 12,
     "metadata": {},
     "output_type": "execute_result"
    }
   ],
   "source": [
    "# 5. What is the value of spam[:2]\n",
    "spam[:2]"
   ]
  },
  {
   "cell_type": "code",
   "execution_count": 16,
   "id": "4b709aea",
   "metadata": {},
   "outputs": [],
   "source": [
    "\"\"\"Let's pretend bacon has the list [3.14, 'cat,' 11, 'cat,' True] for the next three questions.\n",
    "6. What is the value of bacon.index('cat')?\n",
    "7. How does bacon.append(99) change the look of the list value in bacon?\n",
    "8. How does bacon.remove('cat') change the look of the list in bacon?\"\"\"\n",
    "\n",
    "bacon = [3.14, 'cat', 11, 'cat', True]\n"
   ]
  },
  {
   "cell_type": "code",
   "execution_count": 17,
   "id": "ffc152f0",
   "metadata": {},
   "outputs": [
    {
     "data": {
      "text/plain": [
       "1"
      ]
     },
     "execution_count": 17,
     "metadata": {},
     "output_type": "execute_result"
    }
   ],
   "source": [
    "# 6. What is the value of bacon.index('cat')\n",
    "\n",
    "bacon.index('cat')"
   ]
  },
  {
   "cell_type": "code",
   "execution_count": 20,
   "id": "e4657f79",
   "metadata": {},
   "outputs": [
    {
     "data": {
      "text/plain": [
       "[3.14, 'cat', 11, 'cat', True, 99, 99, 99]"
      ]
     },
     "execution_count": 20,
     "metadata": {},
     "output_type": "execute_result"
    }
   ],
   "source": [
    "# 7. How does bacon.append(99) change the look of the list value in bacon?\n",
    "\n",
    "bacon.append(99)\n",
    "bacon"
   ]
  },
  {
   "cell_type": "code",
   "execution_count": 23,
   "id": "d54705ef",
   "metadata": {},
   "outputs": [
    {
     "data": {
      "text/plain": [
       "[3.14, 11, True, 99, 99, 99]"
      ]
     },
     "execution_count": 23,
     "metadata": {},
     "output_type": "execute_result"
    }
   ],
   "source": [
    "# 8. How does bacon.remove('cat') change the look of the list in bacon?\n",
    "\n",
    "bacon.remove('cat')\n",
    "bacon"
   ]
  },
  {
   "cell_type": "code",
   "execution_count": null,
   "id": "c9f5b62e",
   "metadata": {},
   "outputs": [],
   "source": [
    "# 9. What are the list concatenation and list replication operators?\n",
    "\n",
    "The operator for list concatenation is +, while the operator for replication is *"
   ]
  },
  {
   "cell_type": "code",
   "execution_count": 29,
   "id": "d1b855c6",
   "metadata": {},
   "outputs": [
    {
     "name": "stdout",
     "output_type": "stream",
     "text": [
      "[3, 4, 5, 6, 7]\n",
      "[3, 4, 5, 6, 7, 8]\n"
     ]
    }
   ],
   "source": [
    "# 10. What is difference between the list methods append() and insert()?\n",
    "\n",
    "\n",
    "\"\"\"append() : \n",
    "append adds an element to the end of the list\n",
    "append is faster and more efficient than insert\n",
    "append takes only one argument - the element\n",
    "\n",
    "\n",
    "insert ():\n",
    "insert adds an element in the list at the position specified\n",
    "insert is slower and less efficient than append\n",
    "insert takes two arguments - position & element\n",
    "\n",
    "For example :\"\"\"\n",
    "    \n",
    "l1 = [3,4,5,6]\n",
    "\n",
    "l1.append(7)\n",
    "print(l1)\n",
    "\n",
    "l1.insert(5,8)\n",
    "print(l1)\n",
    "\n",
    "\n"
   ]
  },
  {
   "cell_type": "code",
   "execution_count": 48,
   "id": "34251bfa",
   "metadata": {},
   "outputs": [
    {
     "data": {
      "text/plain": [
       "'kite'"
      ]
     },
     "execution_count": 48,
     "metadata": {},
     "output_type": "execute_result"
    }
   ],
   "source": [
    "# 11. What are the two methods for removing items from a list?\n",
    "\n",
    "\"\"\"remove () and pop () methods can be used to remove the items from a list.\n",
    "\n",
    "For Example:\"\"\"\n",
    "\n",
    "l2 = [\"kite\",77,6+7j,89,1,2]\n",
    "\n",
    "l2.pop(0)"
   ]
  },
  {
   "cell_type": "code",
   "execution_count": 49,
   "id": "111c36a0",
   "metadata": {},
   "outputs": [],
   "source": [
    "l2.remove(77)"
   ]
  },
  {
   "cell_type": "code",
   "execution_count": 50,
   "id": "680c7b7c",
   "metadata": {},
   "outputs": [
    {
     "data": {
      "text/plain": [
       "[(6+7j), 89, 1, 2]"
      ]
     },
     "execution_count": 50,
     "metadata": {},
     "output_type": "execute_result"
    }
   ],
   "source": [
    "l2"
   ]
  },
  {
   "cell_type": "code",
   "execution_count": null,
   "id": "ace57063",
   "metadata": {},
   "outputs": [],
   "source": [
    "# 12. Describe how list values and string values are identical.\n",
    "\n",
    "1. Both lists and strings can be passed to len()\n",
    "2. Have indexes and slices\n",
    "3. Can be used in for loops\n",
    "4. Can be concatenated or replicated\n",
    "5. Can be used with the in and not in operators"
   ]
  },
  {
   "cell_type": "code",
   "execution_count": null,
   "id": "3c795519",
   "metadata": {},
   "outputs": [],
   "source": [
    "#13. What's the difference between tuples and lists?\n",
    "\n",
    "Lists :\n",
    "are mutable - they can have values added, removed, or changed. \n",
    "lists use the square brackets, [ and ]\n",
    "\n",
    "Tuples :\n",
    "are immutable; they cannot be changed at all. \n",
    "Tuples are written using parentheses, ( and ) while "
   ]
  },
  {
   "cell_type": "code",
   "execution_count": 55,
   "id": "a34d3e30",
   "metadata": {},
   "outputs": [
    {
     "data": {
      "text/plain": [
       "tuple"
      ]
     },
     "execution_count": 55,
     "metadata": {},
     "output_type": "execute_result"
    }
   ],
   "source": [
    "#14. How do you type a tuple value that only contains the integer 42?\n",
    "\n",
    "t = (42,)\n",
    "type(t)\n"
   ]
  },
  {
   "cell_type": "code",
   "execution_count": 60,
   "id": "db0fbe60",
   "metadata": {},
   "outputs": [
    {
     "name": "stdout",
     "output_type": "stream",
     "text": [
      "(2, 3, 4, 6)\n",
      "[2, 3, 4, 6, 7]\n"
     ]
    }
   ],
   "source": [
    "# 15. How do you get a list value's tuple form? How do you get a tuple value's list form?\n",
    "\n",
    "\"\"\"We can use list() and tuple() function\"\"\"\n",
    "\n",
    "l3 = [2,3,4,6]\n",
    "l4 = tuple(l3)\n",
    "print(l4)\n",
    "\n",
    "t1 = (2,3,4,6,7)\n",
    "t5 = list(t1)\n",
    "print(t5)"
   ]
  },
  {
   "cell_type": "code",
   "execution_count": null,
   "id": "6ab27bb5",
   "metadata": {},
   "outputs": [],
   "source": [
    " #16. Variables that \"contain\" list values are not necessarily lists themselves. Instead, what do they contain?\n",
    "    \n",
    "    They contain references to the values of list."
   ]
  },
  {
   "cell_type": "code",
   "execution_count": null,
   "id": "c7d10443",
   "metadata": {},
   "outputs": [],
   "source": [
    "#17. How do you distinguish between copy.copy() and copy.deepcopy()?\n",
    "\n",
    "The copy.copy() function will do a shallow copy of a list, ie \n",
    "A shallow copy is a copy of an object that stores the reference of the original elements.\n",
    "\n",
    "\n",
    "The copy.deepcopy() function will do a deep copy of a list.\n",
    "A deep copy is a process where we create a new object and add copy elements recursively."
   ]
  },
  {
   "cell_type": "code",
   "execution_count": null,
   "id": "ab323ee6",
   "metadata": {},
   "outputs": [],
   "source": []
  }
 ],
 "metadata": {
  "kernelspec": {
   "display_name": "Python 3",
   "language": "python",
   "name": "python3"
  },
  "language_info": {
   "codemirror_mode": {
    "name": "ipython",
    "version": 3
   },
   "file_extension": ".py",
   "mimetype": "text/x-python",
   "name": "python",
   "nbconvert_exporter": "python",
   "pygments_lexer": "ipython3",
   "version": "3.8.8"
  }
 },
 "nbformat": 4,
 "nbformat_minor": 5
}
