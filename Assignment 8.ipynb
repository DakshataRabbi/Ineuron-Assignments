{
 "cells": [
  {
   "cell_type": "code",
   "execution_count": null,
   "id": "7b4104ca",
   "metadata": {},
   "outputs": [],
   "source": [
    "1. Is the Python Standard Library included with PyInputPlus?\n",
    "\n",
    "PyInputPlus is not a part of the Python Standard Library, we need to install it separately using Pip."
   ]
  },
  {
   "cell_type": "code",
   "execution_count": null,
   "id": "e5ebd26b",
   "metadata": {},
   "outputs": [],
   "source": [
    "2. Why is PyInputPlus commonly imported with import pyinputplus as pypi?\n",
    "\n",
    "You can import the module with import pyinputplus as pyip so that you can enter a shorter name when \n",
    "calling the module’s functions."
   ]
  },
  {
   "cell_type": "code",
   "execution_count": null,
   "id": "cf6a3dce",
   "metadata": {},
   "outputs": [],
   "source": [
    "3. How do you distinguish between inputInt() and inputFloat()?\n",
    "\n",
    "The difference is in the data-type when you use the first one the program expects an integer value as input but in \n",
    "the latter it expects a float value."
   ]
  },
  {
   "cell_type": "code",
   "execution_count": null,
   "id": "b1fa44e6",
   "metadata": {},
   "outputs": [],
   "source": [
    "4. Using PyInputPlus, how do you ensure that the user enters a whole number between 0 and 99?\n",
    "\n",
    "In the inputint function we can set the min = 0 and max =99 to ensure user enters number between 0 and 99\n",
    "pyip.inputInt(min = 0, max =99)"
   ]
  },
  {
   "cell_type": "code",
   "execution_count": null,
   "id": "34fa5a5c",
   "metadata": {},
   "outputs": [],
   "source": [
    "5. What is transferred to the keyword arguments allowRegexes and blockRegexes?\n",
    "\n",
    "we can also use regular expressions to specify whether an input is allowed or not. The allowRegexes and blockRegexes \n",
    "keyword arguments take a list of regular expression strings to determine what the PyInputPlus function will accept or \n",
    "reject as valid input."
   ]
  },
  {
   "cell_type": "code",
   "execution_count": 2,
   "id": "4c305791",
   "metadata": {},
   "outputs": [
    {
     "name": "stdout",
     "output_type": "stream",
     "text": [
      "Requirement already satisfied: pyinputplus in c:\\users\\admin\\anaconda3\\lib\\site-packages (0.2.12)\n",
      "Requirement already satisfied: stdiomask>=0.0.3 in c:\\users\\admin\\anaconda3\\lib\\site-packages (from pyinputplus) (0.0.6)\n",
      "Requirement already satisfied: pysimplevalidate>=0.2.7 in c:\\users\\admin\\anaconda3\\lib\\site-packages (from pyinputplus) (0.2.12)\n"
     ]
    }
   ],
   "source": [
    "!pip install pyinputplus"
   ]
  },
  {
   "cell_type": "code",
   "execution_count": 2,
   "id": "ec23d1e9",
   "metadata": {},
   "outputs": [],
   "source": [
    "import pyinputplus as pyip"
   ]
  },
  {
   "cell_type": "code",
   "execution_count": 3,
   "id": "1b7702e4",
   "metadata": {},
   "outputs": [
    {
     "name": "stdout",
     "output_type": "stream",
     "text": [
      "X\n"
     ]
    }
   ],
   "source": [
    "r = pyip.inputNum(allowRegexes=[r'(I|V|X|L|C|D|M)+', r'zero']) "
   ]
  },
  {
   "cell_type": "code",
   "execution_count": null,
   "id": "9cad2f63",
   "metadata": {},
   "outputs": [
    {
     "name": "stdout",
     "output_type": "stream",
     "text": [
      "90\n",
      "This response is invalid.\n"
     ]
    }
   ],
   "source": [
    "r = pyip.inputNum(blockRegexes=[r'[02468]$'])"
   ]
  },
  {
   "cell_type": "code",
   "execution_count": null,
   "id": "646ba891",
   "metadata": {},
   "outputs": [],
   "source": [
    "6. If a blank input is entered three times, what does inputStr(limit=3) do?\n",
    "\n",
    "The function will raise RetryLimitException."
   ]
  },
  {
   "cell_type": "code",
   "execution_count": 9,
   "id": "508c6296",
   "metadata": {},
   "outputs": [],
   "source": [
    "#7. If blank input is entered three times, what does inputStr(limit=3, default='hello') do?"
   ]
  },
  {
   "cell_type": "code",
   "execution_count": 10,
   "id": "6caaac8e",
   "metadata": {},
   "outputs": [
    {
     "name": "stdout",
     "output_type": "stream",
     "text": [
      "Requirement already satisfied: pyinputplus in c:\\users\\admin\\anaconda3\\lib\\site-packages (0.2.12)\n",
      "Requirement already satisfied: stdiomask>=0.0.3 in c:\\users\\admin\\anaconda3\\lib\\site-packages (from pyinputplus) (0.0.6)\n",
      "Requirement already satisfied: pysimplevalidate>=0.2.7 in c:\\users\\admin\\anaconda3\\lib\\site-packages (from pyinputplus) (0.2.12)\n"
     ]
    }
   ],
   "source": [
    "!pip install pyinputplus"
   ]
  },
  {
   "cell_type": "code",
   "execution_count": 2,
   "id": "10a7f8fd",
   "metadata": {},
   "outputs": [],
   "source": [
    "import pyinputplus as pyip"
   ]
  },
  {
   "cell_type": "code",
   "execution_count": 7,
   "id": "4901c50e",
   "metadata": {},
   "outputs": [
    {
     "name": "stdout",
     "output_type": "stream",
     "text": [
      "\n",
      "Blank values are not allowed.\n",
      "\n",
      "Blank values are not allowed.\n",
      "\n",
      "Blank values are not allowed.\n"
     ]
    },
    {
     "data": {
      "text/plain": [
       "'hello'"
      ]
     },
     "execution_count": 7,
     "metadata": {},
     "output_type": "execute_result"
    }
   ],
   "source": [
    "dak = pyip.inputStr(limit=3,default='hello')\n",
    "dak"
   ]
  },
  {
   "cell_type": "code",
   "execution_count": null,
   "id": "eab4c89c",
   "metadata": {},
   "outputs": [],
   "source": []
  }
 ],
 "metadata": {
  "kernelspec": {
   "display_name": "Python 3",
   "language": "python",
   "name": "python3"
  },
  "language_info": {
   "codemirror_mode": {
    "name": "ipython",
    "version": 3
   },
   "file_extension": ".py",
   "mimetype": "text/x-python",
   "name": "python",
   "nbconvert_exporter": "python",
   "pygments_lexer": "ipython3",
   "version": "3.8.8"
  }
 },
 "nbformat": 4,
 "nbformat_minor": 5
}
